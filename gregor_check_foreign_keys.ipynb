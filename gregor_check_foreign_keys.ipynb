{
 "cells": [
  {
   "cell_type": "markdown",
   "metadata": {},
   "source": [
    "# GREGoR QC notebook: check keys/indices across data tables\n",
    "created by: Marsha Wheeler <br>\n",
    "last edited: 08-12-23"
   ]
  },
  {
   "cell_type": "code",
   "execution_count": null,
   "metadata": {},
   "outputs": [],
   "source": [
    "# install modules\n",
    "# %pip install terra-pandas"
   ]
  },
  {
   "cell_type": "code",
   "execution_count": null,
   "metadata": {},
   "outputs": [],
   "source": [
    "# import modules\n",
    "import os\n",
    "import io\n",
    "import pandas as pd\n",
    "import terra_pandas as tp\n",
    "import numpy as np\n",
    "import matplotlib.pyplot as plt\n",
    "import matplotlib.patches as mpatches\n",
    "import matplotlib.gridspec as gridspec\n",
    "import seaborn as sns\n",
    "from functools import reduce"
   ]
  },
  {
   "cell_type": "code",
   "execution_count": null,
   "metadata": {},
   "outputs": [],
   "source": [
    "project = os.environ['WORKSPACE_NAMESPACE']\n",
    "workspace = os.environ['WORKSPACE_NAME']\n",
    "bucket = os.environ['WORKSPACE_BUCKET'] + \"/\" \n",
    "current_upload_cycle = 'U03'\n",
    "\n",
    "print(\"Terra Billing project: \" + project)\n",
    "print(\"Workspace: \" + workspace)\n",
    "print(\"Workspace storage bucket: \" + bucket)\n",
    "print(\"Current GREGoR Upload Cycle: \" + current_upload_cycle)"
   ]
  },
  {
   "cell_type": "code",
   "execution_count": null,
   "metadata": {},
   "outputs": [],
   "source": [
    "# functions\n",
    "def readDatatable(data_table, project, workspace): \n",
    "    new_table = tp.table_to_dataframe(data_table, workspace_namespace=project, workspace=workspace)\n",
    "    return new_table"
   ]
  },
  {
   "cell_type": "markdown",
   "metadata": {},
   "source": [
    "## Get indices and foreign keys in data tables"
   ]
  },
  {
   "cell_type": "code",
   "execution_count": null,
   "metadata": {},
   "outputs": [],
   "source": [
    "tables = ['participant', 'family', 'phenotype', 'analyte', 'experiment_dna_short_read', \n",
    "          'experiment_rna_short_read', 'aligned_dna_short_read', 'aligned_rna_short_read']"
   ]
  },
  {
   "cell_type": "code",
   "execution_count": null,
   "metadata": {},
   "outputs": [],
   "source": [
    "primary_keys = []\n",
    "for i in tables: \n",
    "    data_table = readDatatable(i, project, workspace)\n",
    "    keys = (i + '.' + data_table.index.name)\n",
    "    primary_keys.append(keys)"
   ]
  },
  {
   "cell_type": "code",
   "execution_count": null,
   "metadata": {},
   "outputs": [],
   "source": [
    "foreign_keys = []\n",
    "for i in tables: \n",
    "    data_table = readDatatable(i, project, workspace)\n",
    "    for c in data_table.columns:\n",
    "        #print(c)\n",
    "        if c.endswith('id'):\n",
    "            keys = (i + '.' + c)\n",
    "            foreign_keys.append(keys)"
   ]
  },
  {
   "cell_type": "code",
   "execution_count": null,
   "metadata": {},
   "outputs": [],
   "source": [
    "new_dict = {  \"id_tables_01\" : [\"family_id\", \"participant\", \"family\" ],\n",
    "            \"id_tables_02\" : [\"participant_id\", \"participant\", \"phenotype\"],\n",
    "            \"id_tables_03\" : [\"participant_id\", \"participant\", \"analyte\"],\n",
    "            \"id_tables_04\" : [\"analyte_id\", \"analyte\", \"experiment_dna_short_read\"], \n",
    "            \"id_tables_05\" : [\"analyte_id\", \"analyte\", \"experiment_rna_short_read\"], \n",
    "            \"id_tables_06\" : [\"experiment_dna_short_read_id\", \"experiment_dna_short_read\", \"aligned_dna_short_read\"], \n",
    "            \"id_tables_07\" : [\"experiment_rna_short_read_id\", \"experiment_rna_short_read\", \"aligned_rna_short_read\"]\n",
    "           }"
   ]
  },
  {
   "cell_type": "code",
   "execution_count": null,
   "metadata": {},
   "outputs": [],
   "source": [
    "for key, item in new_dict.items():\n",
    "    print('Checking the following index and U03 data tables: ', (str(item)).strip('[]'))\n",
    "    table1 = readDatatable(item[1], workspace = workspace, project = project)\n",
    "    table2 = readDatatable(item[2], workspace = workspace, project = project)\n",
    "    print('Number of ' + item[1] + ': ' +  str(table1.shape[0]))\n",
    "    print('Number of ' + item[2] + ': ' +  str(table2.shape[0]))\n",
    "    df = table1.merge(table2, on = item[0], how = 'outer', indicator = True)\n",
    "    res = pd.DataFrame(df['_merge'].value_counts())\n",
    "    res.index = res.index.str.replace('left_only', item[1]).str.replace('right_only', item[2])\n",
    "\n",
    "    print(res)\n",
    "    print('-------------------------------------')"
   ]
  },
  {
   "cell_type": "markdown",
   "metadata": {},
   "source": [
    "## Follow-up on foreign key mismatches"
   ]
  },
  {
   "cell_type": "code",
   "execution_count": null,
   "metadata": {},
   "outputs": [],
   "source": [
    "# read in AnVIL tables from combined consortium U03 workspace\n",
    "participant = readDatatable('participant', project, workspace)\n",
    "family =readDatatable('family', project, workspace)\n",
    "phenotype =readDatatable('phenotype', project, workspace)\n",
    "analyte =readDatatable('analyte', project, workspace)\n",
    "experiment_dna_short_read =readDatatable('experiment_dna_short_read', project, workspace)\n",
    "experiment_rna_short_read =readDatatable('experiment_rna_short_read', project, workspace)\n",
    "aligned_dna_short_read =readDatatable('aligned_dna_short_read', project, workspace)\n",
    "aligned_rna_short_read =readDatatable('aligned_rna_short_read', project, workspace)"
   ]
  },
  {
   "cell_type": "markdown",
   "metadata": {},
   "source": [
    "### __1 'family_id' not present in 'participant' table__"
   ]
  },
  {
   "cell_type": "code",
   "execution_count": null,
   "metadata": {},
   "outputs": [],
   "source": [
    "# which family id is missing in the participant table\n",
    "family[~family.index.isin(participant['family_id'])]"
   ]
  },
  {
   "cell_type": "markdown",
   "metadata": {},
   "source": [
    "### __1254 participant ids not present in the phenotype table__"
   ]
  },
  {
   "cell_type": "code",
   "execution_count": null,
   "metadata": {},
   "outputs": [],
   "source": [
    "# which participant ids are missing in the phenotype table\n",
    "missing_pheno = participant[~participant.index.isin(phenotype['participant_id'])]\n",
    "missing_pheno['affected_status'].value_counts()"
   ]
  },
  {
   "cell_type": "code",
   "execution_count": null,
   "metadata": {},
   "outputs": [],
   "source": [
    "missing_pheno['proband_relationship'].value_counts()"
   ]
  },
  {
   "cell_type": "markdown",
   "metadata": {},
   "source": [
    "### 75 participant ids not in the analyte table"
   ]
  },
  {
   "cell_type": "code",
   "execution_count": null,
   "metadata": {},
   "outputs": [],
   "source": [
    "missing_analyte = participant[~participant.index.isin(analyte['participant_id'])]\n",
    "missing_analyte['affected_status'].value_counts()"
   ]
  },
  {
   "cell_type": "code",
   "execution_count": null,
   "metadata": {},
   "outputs": [],
   "source": [
    "missing_analyte['proband_relationship'].value_counts()"
   ]
  },
  {
   "cell_type": "markdown",
   "metadata": {},
   "source": [
    "### 196 analyte ids not in the experiment_DNA_short_read table"
   ]
  },
  {
   "cell_type": "code",
   "execution_count": null,
   "metadata": {},
   "outputs": [],
   "source": [
    "missing_DNA = analyte[~analyte.index.isin(experiment_dna_short_read['analyte_id'])]\n",
    "missing_DNA['analyte_type'].value_counts()"
   ]
  },
  {
   "cell_type": "code",
   "execution_count": null,
   "metadata": {},
   "outputs": [],
   "source": [
    "missing_DNA_2 = missing_DNA[missing_DNA['analyte_type'] == 'DNA']\n",
    "missing_DNA_2.index"
   ]
  },
  {
   "cell_type": "markdown",
   "metadata": {},
   "source": [
    "### 2454 analyte ids not in the experiment_RNA_short_read table"
   ]
  },
  {
   "cell_type": "code",
   "execution_count": null,
   "metadata": {},
   "outputs": [],
   "source": [
    "missing_RNA = analyte[~analyte.index.isin(experiment_rna_short_read['analyte_id'])]\n",
    "missing_RNA['analyte_type'].value_counts()"
   ]
  },
  {
   "cell_type": "code",
   "execution_count": null,
   "metadata": {},
   "outputs": [],
   "source": [
    "missing_RNA_2 = missing_RNA[missing_RNA['analyte_type'] == 'RNA']\n",
    "missing_RNA_2.index"
   ]
  },
  {
   "cell_type": "markdown",
   "metadata": {},
   "source": [
    "### 6 experiment DNA short read ids not present in aligned DNA short read table"
   ]
  },
  {
   "cell_type": "code",
   "execution_count": null,
   "metadata": {},
   "outputs": [],
   "source": [
    "missing_aligned_DNA = experiment_dna_short_read[~experiment_dna_short_read.index.isin(aligned_dna_short_read['experiment_dna_short_read_id'])]\n",
    "missing_aligned_DNA['analyte_id'].index"
   ]
  },
  {
   "cell_type": "markdown",
   "metadata": {},
   "source": [
    "_**FYI: PMGRC-576-576-0_LS4429508_SQ6070 is no longer present in the data set_"
   ]
  }
 ],
 "metadata": {
  "kernelspec": {
   "display_name": "Python 3",
   "language": "python",
   "name": "python3"
  },
  "language_info": {
   "codemirror_mode": {
    "name": "ipython",
    "version": 3
   },
   "file_extension": ".py",
   "mimetype": "text/x-python",
   "name": "python",
   "nbconvert_exporter": "python",
   "pygments_lexer": "ipython3",
   "version": "3.7.12"
  },
  "toc": {
   "base_numbering": 1,
   "nav_menu": {},
   "number_sections": true,
   "sideBar": true,
   "skip_h1_title": false,
   "title_cell": "Table of Contents",
   "title_sidebar": "Contents",
   "toc_cell": false,
   "toc_position": {},
   "toc_section_display": true,
   "toc_window_display": false
  }
 },
 "nbformat": 4,
 "nbformat_minor": 2
}
