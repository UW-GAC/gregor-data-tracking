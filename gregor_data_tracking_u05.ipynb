{
 "cells": [
  {
   "cell_type": "markdown",
   "metadata": {},
   "source": [
    "# GREGoR Data Tracking and Reporting for U05"
   ]
  },
  {
   "cell_type": "code",
   "execution_count": null,
   "metadata": {},
   "outputs": [],
   "source": [
    "# install modules\n",
    "# %pip install terra-pandas"
   ]
  },
  {
   "cell_type": "code",
   "execution_count": null,
   "metadata": {},
   "outputs": [],
   "source": [
    "# import modules\n",
    "import os\n",
    "import io\n",
    "import pandas as pd\n",
    "import terra_pandas as tp\n",
    "import numpy as np\n",
    "import matplotlib.pyplot as plt\n",
    "import matplotlib.patches as mpatches\n",
    "import matplotlib.gridspec as gridspec\n",
    "import matplotlib.pyplot as plt\n",
    "from matplotlib_venn import venn3, venn3_circles\n",
    "import seaborn as sns\n",
    "from functools import reduce\n",
    "%matplotlib inline\n",
    "import warnings\n",
    "warnings.filterwarnings('ignore')\n",
    "import datetime\n",
    "#from IPython.display import Markdown as md"
   ]
  },
  {
   "cell_type": "code",
   "execution_count": null,
   "metadata": {},
   "outputs": [],
   "source": [
    "# function(s) for reading in RC reporting\n",
    "\n",
    "def readGoogleSheet(url):\n",
    "    gsheet_url = url\n",
    "    csv_export_url = gsheet_url.replace('/edit#gid=', '/export?format=csv&gid=')\n",
    "    gsheet_df = pd.read_csv(csv_export_url)\n",
    "    return gsheet_df\n",
    "\n",
    "# function(s) for AnVIL data tables\n",
    "def readDatatable(data_table, project, workspace): \n",
    "    new_table = tp.table_to_dataframe(data_table, workspace_namespace=project, workspace=workspace)\n",
    "    return new_table\n",
    "\n",
    "def formatIndex(df):\n",
    "    mylist = []\n",
    "    for i in df.index:\n",
    "        if type(i) == tuple: \n",
    "            str = '_'.join(i)\n",
    "            mylist.append(str)\n",
    "        else: \n",
    "            mylist.append(i)\n",
    "    df.index = mylist\n",
    "    df.index = df.index.str.upper()\n",
    "    return df\n",
    "\n",
    "def gregorUploadWorkspaces(upload_cycle): \n",
    "    upload_workspaces = ['AnVIL_GREGoR_BCM_' + upload_cycle + '_HMB',\n",
    "                         'AnVIL_GREGoR_BCM_' + upload_cycle + '_GRU',\n",
    "                         'AnVIL_GREGoR_BROAD_' + upload_cycle + '_HMB',\n",
    "                         'AnVIL_GREGoR_BROAD_' + upload_cycle + '_GRU',\n",
    "                         'AnVIL_GREGoR_CNH_I_' + upload_cycle + '_HMB',\n",
    "                         'AnVIL_GREGoR_CNH_I_' + upload_cycle + '_GRU',\n",
    "                         'AnVIL_GREGoR_GSS_' + upload_cycle + '_HMB',\n",
    "                         'AnVIL_GREGoR_GSS_' + upload_cycle + '_GRU',\n",
    "                         'AnVIL_GREGoR_UW_CRDR_' + upload_cycle + '_HMB',\n",
    "                         'AnVIL_GREGoR_UW_CRDR_' + upload_cycle + '_GRU'\n",
    "                         ]\n",
    "    return upload_workspaces\n",
    "\n",
    "def summarizeData(df, column):\n",
    "    df['participant_id'] = df.index\n",
    "    df = pd.DataFrame(df.groupby(by=[column], dropna=False)['participant_id'].count())\n",
    "    df.columns = ['NO. OF PARTICIPANTS']\n",
    "    formatIndex(df)\n",
    "    df.columns = df.columns.str.upper()\n",
    "    return df\n",
    "\n",
    "def participantSummary(df):\n",
    "    df['participant_id'] = df.index\n",
    "    df = df.groupby(by=['gregor_center', 'consent_code'], as_index = True)[['participant_id', 'family_id']].nunique()\n",
    "    df.loc[\"Total\"] = df.sum()\n",
    "    df.columns = ['participants', 'families']\n",
    "    formatIndex(df)\n",
    "    df.columns = df.columns.str.upper()\n",
    "    return df\n",
    "\n",
    "def experimentMerge(participant_df, analyte_df, experiment_df):\n",
    "    df = pd.merge(participant_df, analyte_df, left_index = True, right_on='participant_id')\n",
    "    df1 = pd.merge(df, experiment_df, left_index = True, right_on='analyte_id')\n",
    "    return df1\n",
    "\n",
    "def experimentSummary(participant_df, analyte_df, experiment_df):\n",
    "    df1 = experimentMerge(participant_df, analyte_df, experiment_df)\n",
    "    experiment_type = df1.groupby(by=['gregor_center','experiment_type'])['participant_id'].nunique().unstack()\n",
    "    experiment_type = experiment_type.fillna(0).astype(int)\n",
    "    experiment_type.loc[\"Total\"] = experiment_type.sum()\n",
    "    formatIndex(experiment_type)\n",
    "    experiment_type.columns = experiment_type.columns.str.upper()\n",
    "    experiment_type.columns.name = None\n",
    "    return experiment_type\n",
    "\n",
    "def phenotypeMerge(participant_df, phenotype):\n",
    "    participant_terms = pd.DataFrame(phenotype.groupby('participant_id')['term_id'].count())\n",
    "    participant_terms.index.name = None\n",
    "    df = pd.merge(participant_df, participant_terms, left_index = True, right_index = True)\n",
    "    return df\n",
    "\n",
    "def combineDataTable(table, upload_workspaces):\n",
    "    project = 'anvil-datastorage'\n",
    "    combined_df = pd.DataFrame([])\n",
    "    for ws in upload_workspaces:\n",
    "        try: \n",
    "            df = readDatatable(table, project, ws)\n",
    "            #print(ws)\n",
    "            #print(project)\n",
    "            #print(df.shape)\n",
    "            combined_df = combined_df.append(df)\n",
    "        except: \n",
    "            print(table + ' is missing in ' + ws)\n",
    "    return combined_df"
   ]
  },
  {
   "cell_type": "code",
   "execution_count": null,
   "metadata": {},
   "outputs": [],
   "source": [
    "timestamp = pd.Timestamp(datetime.datetime.today())\n",
    "print('Author: DCC')\n",
    "print('Last edited: ' +  str(timestamp.date()))\n",
    "print('-----------------------')"
   ]
  },
  {
   "cell_type": "code",
   "execution_count": null,
   "metadata": {},
   "outputs": [],
   "source": [
    "project = os.environ['WORKSPACE_NAMESPACE']\n",
    "workspace = os.environ['WORKSPACE_NAME']\n",
    "bucket = os.environ['WORKSPACE_BUCKET'] + \"/\" \n",
    "\n",
    "print(\"Current GREGoR upload cycle: U05\")\n",
    "# print(\"Terra Billing project: \" + project)\n",
    "print(\"Workspace: \" + workspace)\n",
    "print(\"Workspace storage bucket: \" + bucket)\n",
    "print('------------------------------------------------------------------------------')"
   ]
  },
  {
   "cell_type": "code",
   "execution_count": null,
   "metadata": {},
   "outputs": [],
   "source": [
    "# GREGoR combined RC reporting sheets for U2, U03\n",
    "DNA_U02 = readGoogleSheet(\"https://docs.google.com/spreadsheets/d/1ndQRPsJW6d8kWIq2j9JHui9-sudrtcyDoUZ_qX821X8/edit#gid=0\")\n",
    "DNA_U03 = readGoogleSheet(\"https://docs.google.com/spreadsheets/d/1RPBfSwIP7Ev7gUCE4U7iG4fmIoEqCzUUxChsUNo_Pl4/edit#gid=0\")\n",
    "RNA_U03 = readGoogleSheet(\"https://docs.google.com/spreadsheets/d/1Fh81ta_h7NfB_4ibUSqMjzQNvWUxqsuo08IkxyypR00/edit#gid=0\")"
   ]
  },
  {
   "cell_type": "code",
   "execution_count": null,
   "metadata": {},
   "outputs": [],
   "source": [
    "# GREGoR combined RC reporting sheets for U04\n",
    "DNA_U04 = readGoogleSheet(\"https://docs.google.com/spreadsheets/d/1o4BSe5Gz91I2ZSU-gu1VrdELHBqAcMvfbP8fZkZGweA/edit#gid=0\")\n",
    "RNA_U04 = readGoogleSheet(\"https://docs.google.com/spreadsheets/d/1wloG-MlOpttSJk41ZnYE3eEX1dglEvL9PSudaG45H7k/edit#gid=0\")\n",
    "NANOPORE_U04 = readGoogleSheet(\"https://docs.google.com/spreadsheets/d/1PJ8y8fGmb7QQqSCtqXr0BPbI3KISRy0-Ai6wF5sQeRg/edit#gid=0\")"
   ]
  },
  {
   "cell_type": "code",
   "execution_count": null,
   "metadata": {},
   "outputs": [],
   "source": [
    "# GREGoR combined RC reporting sheets\n",
    "DNA = readGoogleSheet(\"https://docs.google.com/spreadsheets/d/1O_AHrHncsHF1XsKO-hiRV_-e_sKsRyZpUyyxM8CzQw0/edit#gid=0\")\n",
    "RNA = readGoogleSheet(\"https://docs.google.com/spreadsheets/d/1W8YX7LIXtjOsfo8Q8m5vHqC7-5RE5kfPsZ8Az4VfleM/edit#gid=0\")\n",
    "NANOPORE = readGoogleSheet(\"https://docs.google.com/spreadsheets/d/1VRJgY0LXYqpn6HMpKU1z6436ELydoISBdsgMVyS8JmM/edit#gid=0\")\n",
    "PACBIO = readGoogleSheet(\"https://docs.google.com/spreadsheets/d/1oD5p7yxFAhsaD4MtjF6U1asP-SOcr8L3yloHTnEaWCE/edit#gid=0\")"
   ]
  },
  {
   "cell_type": "code",
   "execution_count": null,
   "metadata": {},
   "outputs": [],
   "source": [
    "# read in AnVIL tables from combined consortium\n",
    "participant = readDatatable('participant', project, workspace)\n",
    "family = readDatatable('family', project, workspace)\n",
    "phenotype = readDatatable('phenotype', project, workspace)\n",
    "analyte = readDatatable('analyte', project, workspace)\n",
    "\n",
    "experiment_dna_short_read = readDatatable('experiment_dna_short_read', project, workspace)\n",
    "experiment_rna_short_read = readDatatable('experiment_rna_short_read', project, workspace)\n",
    "experiment_nanopore = readDatatable('experiment_nanopore', project, workspace)\n",
    "\n",
    "aligned_dna_short_read = readDatatable('aligned_dna_short_read', project, workspace)\n",
    "aligned_rna_short_read = readDatatable('aligned_rna_short_read', project, workspace)\n",
    "aligned_nanopore = readDatatable('aligned_nanopore', project, workspace)\n",
    "\n",
    "genetic_findings = readDatatable('genetic_findings', project, workspace)"
   ]
  },
  {
   "cell_type": "code",
   "execution_count": null,
   "metadata": {},
   "outputs": [],
   "source": [
    "participant_U04 = readDatatable('participant', 'gregor-dcc', 'GREGOR_COMBINED_CONSORTIUM_U04')\n",
    "family_U04 = readDatatable('family', 'gregor-dcc', 'GREGOR_COMBINED_CONSORTIUM_U04')\n",
    "aligned_dna_short_read_U04 = readDatatable('aligned_dna_short_read', 'gregor-dcc', 'GREGOR_COMBINED_CONSORTIUM_U04')\n",
    "aligned_rna_short_read_U04 = readDatatable('aligned_rna_short_read', 'gregor-dcc', 'GREGOR_COMBINED_CONSORTIUM_U04')\n",
    "aligned_nanopore_U04 = readDatatable('aligned_nanopore', 'gregor-dcc', 'GREGOR_COMBINED_CONSORTIUM_U04')\n",
    "\n",
    "participant_U03 = readDatatable('participant', 'gregor-dcc', 'GREGOR_COMBINED_CONSORTIUM_U03')\n",
    "family_U03 =readDatatable('family', 'gregor-dcc', 'GREGOR_COMBINED_CONSORTIUM_U03')\n",
    "aligned_dna_short_read_U03 = readDatatable('aligned_dna_short_read', 'gregor-dcc', 'GREGOR_COMBINED_CONSORTIUM_U03')\n",
    "aligned_rna_short_read_U03 = readDatatable('aligned_rna_short_read', 'gregor-dcc', 'GREGOR_COMBINED_CONSORTIUM_U03')\n",
    "\n",
    "participant_U02 = readDatatable('participant', 'gregor-dcc', 'GREGOR_COMBINED_CONSORTIUM_U02')\n",
    "family_U02 = readDatatable('family', 'gregor-dcc', 'GREGOR_COMBINED_CONSORTIUM_U02')\n",
    "aligned_dna_short_read_U02 = readDatatable('aligned_dna_short_read', 'gregor-dcc', 'GREGOR_COMBINED_CONSORTIUM_U02')"
   ]
  },
  {
   "cell_type": "markdown",
   "metadata": {},
   "source": [
    "## Overview\n",
    "\n",
    "The GREGoR Data Tracking Report provides summaries of data contributed to the GREGoR Consortium by member Research Centers (RCs). Information regarding data generation and data deposited to AnVIL are derived from the RC quarterly reports and the GREGoR Combined Consortium Workspace. Graphical and tabular summaries of participant, family, experiment, and phenotype information are generated from information provided by member Research Centers (RCs) and specified in the GREGoR data model."
   ]
  },
  {
   "cell_type": "markdown",
   "metadata": {},
   "source": [
    "__Abbreviations:__ <br>\n",
    "__RCs:__ BCM = Baylor College of Medicine Research Center; BROAD = Broad Institute; CNH_I = Children's National Hospital/Invitae; GSS = GREGoR Stanford Site; UW-CRDR = University of Washington Center for Rare Disease Research. <br>\n",
    "__Consent codes:__ GRU = General research use and clinical care; HMB = Health/medical/biomedical research and clinical care"
   ]
  },
  {
   "cell_type": "code",
   "execution_count": null,
   "metadata": {},
   "outputs": [],
   "source": [
    "d = {'participant': [participant_U02.shape[0], participant_U03.shape[0], participant_U04.shape[0], participant.shape[0]], \n",
    "                      'family': [family_U02.shape[0], family_U03.shape[0],family_U04.shape[0], family.shape[0]], \n",
    "                      'aligned_dna_short_read': [aligned_dna_short_read_U02.shape[0], aligned_dna_short_read_U03.shape[0], aligned_dna_short_read_U04.shape[0],  aligned_dna_short_read.shape[0]], \n",
    "                      'aligned_rna_short_read': [None, aligned_rna_short_read_U03.shape[0], aligned_rna_short_read_U04.shape[0],  aligned_rna_short_read.shape[0]], \n",
    "                      'aligned_nanopore': [None, None,  aligned_nanopore_U04.shape[0], aligned_nanopore.shape[0]]}\n",
    "data_growth_df = pd.DataFrame(d) \n",
    "data_growth_df.index = ['U02', 'U03', 'U04', 'U05']\n",
    "data_growth_df\n",
    "sns.lineplot(data = data_growth_df, markers=True, dashes=True, marker='o',  markersize=10, legend=\"auto\", palette = 'bright')\n",
    "#plt.xlabel('UPLOAD_CYCLE')\n",
    "#plt.ylabel('COUNT')\n",
    "\n",
    "plt.legend(facecolor = \"white\", loc = 'lower right', \n",
    "           bbox_to_anchor=(0.5, 0.4, 1.3, 0.6), fontsize = 'large', shadow = True)\n",
    "\n",
    "plt.show()"
   ]
  },
  {
   "cell_type": "markdown",
   "metadata": {},
   "source": [
    "__Figure 1.__ The size of the GREGoR Combined Consortium Dataset across 'U02', 'U03', 'U04', and 'U05' upload cycles."
   ]
  },
  {
   "cell_type": "markdown",
   "metadata": {},
   "source": [
    "## Participants and Families"
   ]
  },
  {
   "cell_type": "markdown",
   "metadata": {},
   "source": [
    "__Table 1. The number of participants and families in the GREGoR Combined Consortium Dataset.__"
   ]
  },
  {
   "cell_type": "code",
   "execution_count": null,
   "metadata": {},
   "outputs": [],
   "source": [
    "participant_data = participantSummary(participant)\n",
    "participant_data.index.name = 'GREGoR_CENTER'\n",
    "participant_data"
   ]
  },
  {
   "cell_type": "code",
   "execution_count": null,
   "metadata": {},
   "outputs": [],
   "source": [
    "family_size = summarizeData(participant, 'family_id')\n",
    "family_size.columns = ['FAMILY SIZE']\n",
    "plt.figure(figsize=(5,3))\n",
    "\n",
    "sns.set(style=\"white\", font='sans-serif', font_scale=1.2)\n",
    "\n",
    "sns.histplot(data = family_size, x = 'FAMILY SIZE', color='#076839', edgecolor = 'black', discrete= True)\n",
    "plt.ylabel('COUNT')\n",
    "#plt.title('Distribution of Family Size in the GREGoR Combined Consortium Dataset')\n",
    "\n",
    "plt.show()"
   ]
  },
  {
   "cell_type": "markdown",
   "metadata": {},
   "source": [
    "__Figure 2.__ The distribution of family size in the GREGoR Combined Consortium Dataset."
   ]
  },
  {
   "cell_type": "markdown",
   "metadata": {},
   "source": [
    "__Table 2. Summary of participant relationship to the proband.__"
   ]
  },
  {
   "cell_type": "code",
   "execution_count": null,
   "metadata": {},
   "outputs": [],
   "source": [
    "proband_rel_data = summarizeData(participant, 'proband_relationship')\n",
    "proband_rel_data.index.name = 'PROBAND_RELATIONSHIP'\n",
    "proband_rel_data.loc['TOTAL'] = proband_rel_data.sum()\n",
    "proband_rel_data.index = proband_rel_data.index.str.replace('SELF', 'PROBAND')\n",
    "proband_rel_data"
   ]
  },
  {
   "cell_type": "code",
   "execution_count": null,
   "metadata": {},
   "outputs": [],
   "source": [
    "# plot pie chart\n",
    "proband_rel_data = summarizeData(participant, 'proband_relationship')\n",
    "df = proband_rel_data.loc[proband_rel_data['NO. OF PARTICIPANTS'] > 10]\n",
    "sub = proband_rel_data.loc[proband_rel_data['NO. OF PARTICIPANTS'] <= 10]\n",
    "sub_sum = sub['NO. OF PARTICIPANTS'].sum()\n",
    "sub_sum\n",
    "s = df[df.index == 'OTHER']\n",
    "s = s['NO. OF PARTICIPANTS']\n",
    "s\n",
    "val = s[0]\n",
    "new_val = sub_sum + val\n",
    "df.index = df.index.str.replace('SELF', 'PROBAND')"
   ]
  },
  {
   "cell_type": "code",
   "execution_count": null,
   "metadata": {},
   "outputs": [],
   "source": [
    "df = df.replace(val, new_val)\n",
    "#df.index = df.index.str.replace('self', 'proband')\n",
    "labels = df.index.str.lower()\n",
    "\n",
    "color = ['#076839', '#388660', '#519574', '#6aa488', '#9bc2af']\n",
    "\n",
    "plt.figure(figsize=(5, 5))\n",
    "plt.pie(df['NO. OF PARTICIPANTS'], labels = labels, colors = color, autopct='%.2f%%', labeldistance=1.25, \n",
    "        radius=1.25, \n",
    "        textprops={'fontsize': 10, 'fontname' : 'serif', 'ha' : 'center' , 'color' : 'black'},\n",
    "        wedgeprops={ 'linewidth' : 1.5, 'edgecolor' : \"white\" })\n",
    "plt.tight_layout()\n",
    "plt.show()"
   ]
  },
  {
   "cell_type": "markdown",
   "metadata": {},
   "source": [
    "__Figure 3.__ Pie chart showing the percentage of proband relationships in the GREGoR Combined Consortium Dataset. Note: Proband relationship was placed into 'other' if count <= 10."
   ]
  },
  {
   "cell_type": "markdown",
   "metadata": {},
   "source": [
    "__Table 3. The number of female and male participants in the GREGoR Combined Consortium Dataset.__"
   ]
  },
  {
   "cell_type": "code",
   "execution_count": null,
   "metadata": {},
   "outputs": [],
   "source": [
    "sex = summarizeData(participant, 'sex')\n",
    "sex['%'] = (sex['NO. OF PARTICIPANTS']/sex['NO. OF PARTICIPANTS'].sum()).round(2)\n",
    "sex"
   ]
  },
  {
   "cell_type": "markdown",
   "metadata": {},
   "source": [
    "## Pipeline and Experiment Summaries"
   ]
  },
  {
   "cell_type": "markdown",
   "metadata": {},
   "source": [
    "### Short-read DNA data"
   ]
  },
  {
   "cell_type": "code",
   "execution_count": null,
   "metadata": {},
   "outputs": [],
   "source": [
    "plt.figure(figsize=(14, 10))\n",
    "plt.subplots_adjust(hspace=0.4)\n",
    "\n",
    "sns.set(style=\"white\", font='sans-serif', font_scale=1.2)\n",
    "\n",
    "\n",
    "rc_list = ['BCM', 'BROAD', 'CNH_I', 'GSS', 'UW_CRDR']\n",
    "\n",
    "for n, rc in enumerate(rc_list):\n",
    "    ax = plt.subplot(3, 2, n + 1)\n",
    "    rc_internal_U02 = DNA_U02[(DNA_U02[\"GREGoR_CENTER\"] == rc) & (DNA_U02[\"EXPERIMENT_LOC\"] == \"Internal\")]\n",
    "    rc_internal_U03 = DNA_U03[(DNA_U03[\"GREGoR_CENTER\"] == rc) & (DNA_U03[\"EXPERIMENT_LOC\"] == \"Internal\")]\n",
    "    rc_internal_U04 = DNA_U04[(DNA_U04[\"GREGoR_CENTER\"] == rc) & (DNA_U04[\"EXPERIMENT_LOC\"] == \"Internal\")]\n",
    "    rc_internal_U05 = DNA[(DNA[\"GREGoR_CENTER\"] == rc) & (DNA[\"EXPERIMENT_LOC\"] == \"Internal\")]\n",
    "   \n",
    "    frames = [rc_internal_U02, rc_internal_U03, rc_internal_U04, rc_internal_U05]\n",
    "    rc_df = pd.concat(frames, axis = 0)\n",
    "    rc_df = rc_df[['TOTAL_SAMPLES_PREPARED', 'TOTAL_SAMPLES_SEQUENCING_COMPLETED', 'TOTAL_SAMPLES_UPLOADED_TO_ANVIL']]\n",
    "    rc_df.columns = ['PREPARED', 'SEQUENCED', 'UPLOADED']\n",
    "    rc_df.index = ['U02', 'U03', 'U04', 'U05']\n",
    "    #print(rc_df)\n",
    "    sns.lineplot(data = rc_df, markers=True, dashes= False, marker='o',  markersize=10, palette = 'Paired', legend = 'auto')\n",
    "    plt.title(rc)\n",
    "\n",
    "#plt.legend(facecolor = \"white\", loc = 'lower right', bbox_to_anchor=(0.5, 0.6, 1.1, 0.6), \n",
    "           #fontsize = 'large', shadow = True)\n",
    "\n",
    "#plt.show()"
   ]
  },
  {
   "cell_type": "markdown",
   "metadata": {},
   "source": [
    "__Figure 4.__ Summary of quarterly reports completed by the GREGoR RCs to track internally processed short-read DNA experiments. Line plots show samples prepared, samples that completed sequencing and samples uploaded to AnVIL over different upload cycles."
   ]
  },
  {
   "cell_type": "markdown",
   "metadata": {},
   "source": [
    "__Table 4. Summary of RC quarterly reports for short read DNA experiments in the current upload cycle.__\n",
    "\n"
   ]
  },
  {
   "cell_type": "code",
   "execution_count": null,
   "metadata": {},
   "outputs": [],
   "source": [
    "df = DNA\n",
    "df.replace('-', '', inplace = True)\n",
    "df.index = df[['GREGoR_CENTER', 'EXPERIMENT_LOC']]\n",
    "\n",
    "df_sub = df[['TOTAL_SAMPLES_PREPARED', 'TOTAL_SAMPLES_SEQUENCING_COMPLETED', \n",
    "                                      'TOTAL_SAMPLES_UPLOADED_TO_ANVIL']]\n",
    "df_sub"
   ]
  },
  {
   "cell_type": "markdown",
   "metadata": {},
   "source": [
    "__Table 5. The number of short-read DNA exomes and genomes.__ <br>\n",
    "Note: These numbers are derived from the experiment_dna_short_read table."
   ]
  },
  {
   "cell_type": "code",
   "execution_count": null,
   "metadata": {},
   "outputs": [],
   "source": [
    "experiment_type_by_center = experimentSummary(participant, analyte, experiment_dna_short_read)\n",
    "experiment_type_by_center.index.name = 'GREGoR_CENTER'\n",
    "experiment_type_by_center"
   ]
  },
  {
   "cell_type": "markdown",
   "metadata": {},
   "source": [
    "__Table 6. The number of short-read DNA aligned sequencing files (i.e. BAMS or CRAMs).__ <br>\n",
    "Note: These numbers are derived from the 'aligned_dna_short_read' data table."
   ]
  },
  {
   "cell_type": "code",
   "execution_count": null,
   "metadata": {},
   "outputs": [],
   "source": [
    "df = experimentMerge(participant, analyte, experiment_dna_short_read)\n",
    "participant_aligned = pd.merge(df, aligned_dna_short_read, left_index = True, right_on='experiment_dna_short_read_id')\n",
    "aligned_files_by_center = participant_aligned.groupby(by=['gregor_center'])[['aligned_dna_short_read_file']].nunique()\n",
    "aligned_files_by_center.loc[\"Total\"] = aligned_files_by_center.sum()\n",
    "aligned_files_by_center.columns = ['No. of short read DNA files']\n",
    "    \n",
    "formatIndex(aligned_files_by_center)\n",
    "aligned_files_by_center.columns = aligned_files_by_center.columns.str.upper()\n",
    "aligned_files_by_center.index.name = 'GREGoR_CENTER'\n",
    "aligned_files_by_center"
   ]
  },
  {
   "cell_type": "markdown",
   "metadata": {},
   "source": [
    "### Short-read RNA data"
   ]
  },
  {
   "cell_type": "code",
   "execution_count": null,
   "metadata": {},
   "outputs": [],
   "source": [
    "plt.figure(figsize=(14, 10))\n",
    "plt.subplots_adjust(hspace=0.4)\n",
    "\n",
    "sns.set(style=\"white\", font='sans-serif', font_scale=1.2)\n",
    "\n",
    "\n",
    "rc_list = ['BCM', 'BROAD', 'CNH_I', 'GSS']\n",
    "\n",
    "for n, rc in enumerate(rc_list):\n",
    "    ax = plt.subplot(3, 2, n + 1)\n",
    "    rc_internal_U03 = RNA_U03[(RNA_U03[\"GREGoR_CENTER\"] == rc) & (RNA_U03[\"EXPERIMENT_LOC\"] == \"Internal\")]\n",
    "    rc_internal_U04 = RNA_U04[(RNA_U04[\"GREGoR_CENTER\"] == rc) & (RNA_U04[\"EXPERIMENT_LOC\"] == \"Internal\")]\n",
    "    rc_internal_U05 = RNA[(RNA[\"GREGoR_CENTER\"] == rc) & (RNA[\"EXPERIMENT_LOC\"] == \"Internal\")]\n",
    "   \n",
    "    frames = [rc_internal_U03, rc_internal_U04, rc_internal_U05]\n",
    "    rc_df = pd.concat(frames, axis = 0)\n",
    "    rc_df = rc_df[['TOTAL_SAMPLES_PREPARED', 'TOTAL_SAMPLES_SEQUENCING_COMPLETED', 'TOTAL_SAMPLES_UPLOADED_TO_ANVIL']]\n",
    "    rc_df.columns = ['PREPARED', 'SEQUENCED', 'UPLOADED']\n",
    "    rc_df.index = ['U03', 'U04', 'U05']\n",
    "    #print(rc_df)\n",
    "    sns.lineplot(data = rc_df, markers=True, dashes= False, marker='o',  markersize=10, palette = 'Paired', legend = 'auto')\n",
    "    plt.title(rc)\n",
    "\n",
    "#plt.legend(facecolor = \"white\", loc = 'lower right', bbox_to_anchor=(0.5, 0.6, 1.1, 0.6), \n",
    "           #fontsize = 'large', shadow = True)\n",
    "\n",
    "#plt.show()"
   ]
  },
  {
   "cell_type": "markdown",
   "metadata": {},
   "source": [
    "__Figure 5.__ Summary of quarterly reports completed by the GREGoR RCs to track short-read RNA experiments. Line plots show samples prepared, samples that completed sequencing and samples uploaded to AnVIL.\n",
    "\n",
    "_Note: UW-CRDR is not included in Figure 5 because the UW-CRDR has contributed 1 short-read RNA sample (see table below)._ "
   ]
  },
  {
   "cell_type": "markdown",
   "metadata": {},
   "source": [
    "__Table 7. Summary of RC quarterly reports for short-read RNA experiments in the current upload cycle.__"
   ]
  },
  {
   "cell_type": "code",
   "execution_count": null,
   "metadata": {},
   "outputs": [],
   "source": [
    "df = RNA\n",
    "df.replace('-', '', inplace = True)\n",
    "df.index = df[['GREGoR_CENTER', 'EXPERIMENT_LOC']]\n",
    "\n",
    "df_sub = df[['TOTAL_SAMPLES_PREPARED', 'TOTAL_SAMPLES_SEQUENCING_COMPLETED', \n",
    "                                      'TOTAL_SAMPLES_UPLOADED_TO_ANVIL']]\n",
    "df_sub"
   ]
  },
  {
   "cell_type": "markdown",
   "metadata": {},
   "source": [
    "__Table 8. The number of short-read RNA sequencing experiments.__ <br>\n",
    "Note: These numbers are derived from the experiment_rna_short_read table"
   ]
  },
  {
   "cell_type": "code",
   "execution_count": null,
   "metadata": {},
   "outputs": [],
   "source": [
    "experiment_type_by_center = experimentSummary(participant, analyte, experiment_rna_short_read)\n",
    "experiment_type_by_center.index.name = 'GREGoR_CENTER'\n",
    "experiment_type_by_center"
   ]
  },
  {
   "cell_type": "markdown",
   "metadata": {},
   "source": [
    "__Table 9. The number of aligned short-read RNA sequencing files.__ <br>\n",
    "Note: These numbers are derived from the 'aligned_rna_short_read' data table."
   ]
  },
  {
   "cell_type": "code",
   "execution_count": null,
   "metadata": {},
   "outputs": [],
   "source": [
    "df = experimentMerge(participant, analyte, experiment_rna_short_read)\n",
    "participant_aligned = pd.merge(df, aligned_rna_short_read, left_index = True, right_on='experiment_rna_short_read_id')\n",
    "aligned_files_by_center = participant_aligned.groupby(by=['gregor_center'])[['aligned_rna_short_read_file']].nunique()\n",
    "aligned_files_by_center.loc[\"Total\"] = aligned_files_by_center.sum()\n",
    "aligned_files_by_center.columns = ['No. of short read RNA files']\n",
    "    \n",
    "formatIndex(aligned_files_by_center)\n",
    "aligned_files_by_center.columns = aligned_files_by_center.columns.str.upper()\n",
    "aligned_files_by_center.index.name = 'GREGoR_CENTER'\n",
    "aligned_files_by_center"
   ]
  },
  {
   "cell_type": "markdown",
   "metadata": {},
   "source": [
    "### Long-read nanopore data"
   ]
  },
  {
   "cell_type": "code",
   "execution_count": null,
   "metadata": {},
   "outputs": [],
   "source": [
    "plt.figure(figsize=(14, 10))\n",
    "plt.subplots_adjust(hspace=0.4)\n",
    "\n",
    "sns.set(style=\"white\", font='sans-serif', font_scale=1.2)\n",
    "\n",
    "\n",
    "rc_list = ['BCM', 'UW_CRDR']\n",
    "\n",
    "for n, rc in enumerate(rc_list):\n",
    "    ax = plt.subplot(3, 2, n+1)\n",
    "    rc_internal_U04 = NANOPORE_U04[(NANOPORE_U04[\"GREGoR_CENTER\"] == rc) & (NANOPORE_U04[\"EXPERIMENT_LOC\"] == \"Internal\")]\n",
    "    rc_internal_U05 = NANOPORE[(NANOPORE[\"GREGoR_CENTER\"] == rc) & (NANOPORE[\"EXPERIMENT_LOC\"] == \"Internal\")]\n",
    "   \n",
    "    frames = [rc_internal_U04, rc_internal_U05]\n",
    "    rc_df = pd.concat(frames, axis = 0)\n",
    "    rc_df = rc_df[['TOTAL_SAMPLES_PREPARED', 'TOTAL_SAMPLES_SEQUENCING_COMPLETED', 'TOTAL_SAMPLES_UPLOADED_TO_ANVIL']]\n",
    "    rc_df.columns = ['PREPARED', 'SEQUENCED', 'UPLOADED']\n",
    "    if len(rc_df) != 2:\n",
    "        pass\n",
    "    else: \n",
    "        rc_df.index = ['U04', 'U05']\n",
    "        sns.lineplot(data = rc_df, markers=True, dashes= False, marker='o',  markersize=10, palette = 'Paired', legend = 'auto')\n",
    "        plt.title(rc)\n",
    "\n",
    "#plt.legend(facecolor = \"white\", loc = 'lower right', bbox_to_anchor=(0.5, 0.6, 1.1, 0.6), \n",
    "           #fontsize = 'large', shadow = True)\n",
    "\n",
    "#plt.show()"
   ]
  },
  {
   "cell_type": "markdown",
   "metadata": {},
   "source": [
    "__Figure 6.__ Summary of quarterly reports completed by the GREGoR RCs to track internally processed long-read DNA  (nanopore) experiments. Line plots show samples prepared, samples that completed sequencing and samples uploaded to AnVIL over different upload cycles.\n",
    "\n",
    "_Note: Broad, CNH-I and GSS are not included in Figure 6 because they have not contributed internal nanopore data (see table below)_"
   ]
  },
  {
   "cell_type": "markdown",
   "metadata": {},
   "source": [
    "__Table 10. Summary of RC quarterly reports for Nanopore experiments in the current upload cycle.__"
   ]
  },
  {
   "cell_type": "code",
   "execution_count": null,
   "metadata": {},
   "outputs": [],
   "source": [
    "df = NANOPORE\n",
    "df.replace('-', '', inplace = True)\n",
    "df.index = df[['GREGoR_CENTER', 'EXPERIMENT_LOC']]\n",
    "\n",
    "df_sub = df[['TOTAL_SAMPLES_PREPARED', 'TOTAL_SAMPLES_SEQUENCING_COMPLETED', \n",
    "                                      'TOTAL_SAMPLES_UPLOADED_TO_ANVIL']]\n",
    "df_sub"
   ]
  },
  {
   "cell_type": "markdown",
   "metadata": {},
   "source": [
    "__Table 11. The number of long-read nanopore experiments.__ <br>\n",
    "Note: These numbers are derived from the experiment_nanopore table"
   ]
  },
  {
   "cell_type": "code",
   "execution_count": null,
   "metadata": {},
   "outputs": [],
   "source": [
    "experiment_type_by_center = experimentSummary(participant, analyte, experiment_nanopore)\n",
    "experiment_type_by_center.index.name = 'GREGoR_CENTER'\n",
    "experiment_type_by_center"
   ]
  },
  {
   "cell_type": "markdown",
   "metadata": {},
   "source": [
    "__Table 12: The number of aligned long-read DNA (nanopore) sequencing files.__"
   ]
  },
  {
   "cell_type": "code",
   "execution_count": null,
   "metadata": {},
   "outputs": [],
   "source": [
    "df = experimentMerge(participant, analyte, experiment_nanopore)\n",
    "participant_aligned = pd.merge(df, aligned_nanopore, left_index = True, right_on='experiment_nanopore_id')\n",
    "aligned_files_by_center = participant_aligned.groupby(by=['gregor_center'])[['aligned_nanopore_file']].nunique()\n",
    "aligned_files_by_center.loc[\"Total\"] = aligned_files_by_center.sum()\n",
    "aligned_files_by_center.columns = ['No. of long read Nanopore files']\n",
    "    \n",
    "formatIndex(aligned_files_by_center)\n",
    "aligned_files_by_center.columns = aligned_files_by_center.columns.str.upper()\n",
    "aligned_files_by_center.index.name = 'GREGoR_CENTER'\n",
    "aligned_files_by_center"
   ]
  },
  {
   "cell_type": "markdown",
   "metadata": {},
   "source": [
    "### Long-read pacbio data\n",
    "\n",
    "_Note: PacBio data files have not been uploaded to AnVIL_"
   ]
  },
  {
   "cell_type": "markdown",
   "metadata": {},
   "source": [
    "__Table 13.__ Summary of RC quarterly reports for PacBio experiments in the current upload cycle."
   ]
  },
  {
   "cell_type": "code",
   "execution_count": null,
   "metadata": {},
   "outputs": [],
   "source": [
    "df = PACBIO\n",
    "df.replace('-', '', inplace = True)\n",
    "df.index = df[['GREGoR_CENTER', 'EXPERIMENT_LOC']]\n",
    "\n",
    "df_sub = df[['TOTAL_SAMPLES_PREPARED', 'TOTAL_SAMPLES_SEQUENCING_COMPLETED', \n",
    "                                      'TOTAL_SAMPLES_UPLOADED_TO_ANVIL']]\n",
    "df_sub"
   ]
  },
  {
   "cell_type": "markdown",
   "metadata": {},
   "source": [
    "### Samples with multiple data types"
   ]
  },
  {
   "cell_type": "code",
   "execution_count": null,
   "metadata": {},
   "outputs": [],
   "source": [
    "df_dna = experimentMerge(participant, analyte, experiment_dna_short_read)\n",
    "df_rna = experimentMerge(participant, analyte, experiment_rna_short_read)\n",
    "df_nanopore = experimentMerge(participant, analyte, experiment_nanopore)"
   ]
  },
  {
   "cell_type": "code",
   "execution_count": null,
   "metadata": {},
   "outputs": [],
   "source": [
    "set1 = set(df_dna['participant_id'])\n",
    "set2 = set(df_rna['participant_id'])\n",
    "set3 = set(df_nanopore['participant_id'])"
   ]
  },
  {
   "cell_type": "code",
   "execution_count": null,
   "metadata": {},
   "outputs": [],
   "source": [
    "s1_only = set1.difference(set2).difference(set3)\n",
    "#len(s1_only)"
   ]
  },
  {
   "cell_type": "code",
   "execution_count": null,
   "metadata": {},
   "outputs": [],
   "source": [
    "s2_only = set2.difference(set1).difference(set3)\n",
    "#len(s2_only)"
   ]
  },
  {
   "cell_type": "code",
   "execution_count": null,
   "metadata": {},
   "outputs": [],
   "source": [
    "s3_only = set3.difference(set1).difference(set2)\n",
    "#len(s3_only)"
   ]
  },
  {
   "cell_type": "code",
   "execution_count": null,
   "metadata": {},
   "outputs": [],
   "source": [
    "s1s2 = set1.intersection(set2)\n",
    "#len(s1s2)"
   ]
  },
  {
   "cell_type": "code",
   "execution_count": null,
   "metadata": {},
   "outputs": [],
   "source": [
    "plt.figure(figsize=(5,5))\n",
    "\n",
    "v = venn3(subsets=(5, 2, 1, 1, 1, 1, 1), set_labels = ('dna_short_read', 'rna_short_read', 'dna_nanopore'))\n",
    "v.get_patch_by_id('100').set_alpha(0.8)\n",
    "v.get_patch_by_id('100').set_color('#076839')\n",
    "v.get_label_by_id('100').set_text('2924')\n",
    "\n",
    "v.get_patch_by_id('110').set_alpha(0.75)\n",
    "v.get_patch_by_id('110').set_color('#0db53f')\n",
    "v.get_label_by_id('110').set_text('430')\n",
    "\n",
    "\n",
    "v.get_patch_by_id('010').set_alpha(0.5)\n",
    "v.get_patch_by_id('010').set_color('#076839')\n",
    "v.get_label_by_id('010').set_text('18')\n",
    "\n",
    "v.get_patch_by_id('111').set_alpha(0.1)\n",
    "v.get_patch_by_id('111').set_color('#0db53f')\n",
    "v.get_label_by_id('111').set_text('12')\n",
    "\n",
    "v.get_patch_by_id('001').set_alpha(0.2)\n",
    "v.get_patch_by_id('001').set_color('#076839')\n",
    "v.get_label_by_id('001').set_text('40')\n",
    "\n",
    "v.get_patch_by_id('011').set_alpha(0.3)\n",
    "v.get_patch_by_id('011').set_color('#0db53f')\n",
    "v.get_label_by_id('011').set_text('1')\n",
    "\n",
    "v.get_patch_by_id('101').set_alpha(0.3)\n",
    "v.get_patch_by_id('101').set_color('#076839')\n",
    "v.get_label_by_id('101').set_text('9')\n",
    "\n",
    "c = venn3_circles(subsets=(5, 2, 1, 1, 1, 1, 1), linestyle='dotted', linewidth=2.0)\n",
    "\n",
    "\n",
    "plt.show()"
   ]
  },
  {
   "cell_type": "markdown",
   "metadata": {},
   "source": [
    "__Figure 7.__ Venn diagram showing samples with multiomic data in the GREGoR Combined Consortium Dataset"
   ]
  },
  {
   "cell_type": "markdown",
   "metadata": {},
   "source": [
    "## Phenotype Summary"
   ]
  },
  {
   "cell_type": "markdown",
   "metadata": {},
   "source": [
    "The section below summarizes phenotype information in the participant and phenotype data tables hosted on AnVIL."
   ]
  },
  {
   "cell_type": "markdown",
   "metadata": {},
   "source": [
    "__Table 14. Summary of 'affected status' in the GREGoR Combined Consortium Dataset__"
   ]
  },
  {
   "cell_type": "code",
   "execution_count": null,
   "metadata": {},
   "outputs": [],
   "source": [
    "affected_data = summarizeData(participant, 'affected_status')\n",
    "affected_data.loc['TOTAL'] = affected_data.sum()\n",
    "affected_data"
   ]
  },
  {
   "cell_type": "code",
   "execution_count": null,
   "metadata": {},
   "outputs": [],
   "source": [
    "# bar chart for phenotypes by family\n",
    "participant_terms = pd.merge(participant,phenotype, left_index = True, right_on = 'participant_id')\n",
    "term_count = pd.DataFrame(participant_terms.groupby('term_id', dropna=False)['family_id'].count())\n",
    "term_count.sort_values(by = 'family_id', ascending = False, inplace = True)"
   ]
  },
  {
   "cell_type": "code",
   "execution_count": null,
   "metadata": {},
   "outputs": [],
   "source": [
    "hpo_info = pd.read_csv('phenotype_to_genes.txt', sep = \"\\t\")\n",
    "hpo_info_sub = hpo_info[['hpo_id', 'hpo_name']]\n",
    "hpo_info_sub = hpo_info_sub[~hpo_info_sub.duplicated(keep='first')]"
   ]
  },
  {
   "cell_type": "code",
   "execution_count": null,
   "metadata": {},
   "outputs": [],
   "source": [
    "term_count_name = term_count.merge(hpo_info_sub, left_index = True, right_on = 'hpo_id')"
   ]
  },
  {
   "cell_type": "code",
   "execution_count": null,
   "metadata": {},
   "outputs": [],
   "source": [
    "term_count_name.columns = ['family_count', 'hpo_id', 'hpo_name']"
   ]
  },
  {
   "cell_type": "code",
   "execution_count": null,
   "metadata": {},
   "outputs": [],
   "source": [
    "def datalabel_hbar(ax, fontsize=12):\n",
    "    rects = [rect for rect in ax.get_children() if isinstance(rect, mpatches.Rectangle)]\n",
    "    for rect in rects:\n",
    "        width = rect.get_width()\n",
    "        if width > 1:\n",
    "            ax.annotate(f\"{width:.0f}\", xy=(width, rect.get_y() + rect.get_height() / 2),\n",
    "                        xytext=(5,-1), # 5 points offset\n",
    "                        textcoords=\"offset points\", ha=\"left\", va=\"center\", fontsize=fontsize)"
   ]
  },
  {
   "cell_type": "code",
   "execution_count": null,
   "metadata": {},
   "outputs": [],
   "source": [
    "sns.set_theme(style=\"whitegrid\")\n",
    "sns.set_color_codes(\"bright\")\n",
    "plt.figure(figsize=(15, 12))\n",
    "\n",
    "data = term_count_name[term_count_name['family_count'] >= 30]\n",
    "data.head()\n",
    "ax = sns.barplot(x=\"family_count\", y=\"hpo_name\", data = data, color='#388660')\n",
    "datalabel_hbar(ax)\n",
    "plt.show()"
   ]
  },
  {
   "cell_type": "markdown",
   "metadata": {},
   "source": [
    "__Figure 8.__ The number of families per HPO name. Figure is sorted in descending order and only shows HPO names with a family count >= 30. "
   ]
  },
  {
   "cell_type": "markdown",
   "metadata": {},
   "source": [
    "## Data completeness summary"
   ]
  },
  {
   "cell_type": "markdown",
   "metadata": {},
   "source": [
    "The section below provides a summary of participants with sequencing files and phenotype data"
   ]
  },
  {
   "cell_type": "code",
   "execution_count": null,
   "metadata": {},
   "outputs": [],
   "source": [
    "# do relevant subsetting\n",
    "df = experimentMerge(participant, analyte, experiment_dna_short_read)\n",
    "participant = readDatatable('participant', project, workspace)\n",
    "participant_aligned = pd.merge(df, aligned_dna_short_read, left_index = True, right_on='experiment_dna_short_read_id')"
   ]
  },
  {
   "cell_type": "code",
   "execution_count": null,
   "metadata": {},
   "outputs": [],
   "source": [
    "probands = participant[participant['proband_relationship'] == 'Self']\n",
    "other_affecteds = participant[(participant['proband_relationship'] != 'Self') & (participant['affected_status'] == 'Affected')] # other affecteds that are not probands\n",
    "unaffecteds = participant[(participant['proband_relationship'] != 'Self') & (participant['affected_status'] == 'Unaffected')]\n",
    "unknown = participant[(participant['proband_relationship'] != 'Self') & (participant['affected_status'] != 'Unaffected') & (participant['affected_status'] != 'Affected')]"
   ]
  },
  {
   "cell_type": "code",
   "execution_count": null,
   "metadata": {},
   "outputs": [],
   "source": [
    "proband_terms = phenotypeMerge(probands, phenotype)\n",
    "other_affected_terms = phenotypeMerge(other_affecteds, phenotype)\n",
    "unaffected_terms = phenotypeMerge(unaffecteds, phenotype)\n",
    "unknown_terms = phenotypeMerge(unknown, phenotype)"
   ]
  },
  {
   "cell_type": "code",
   "execution_count": null,
   "metadata": {},
   "outputs": [],
   "source": [
    "seq_proband = pd.merge(probands, participant_aligned, left_index = True, right_on = 'participant_id') # sequenced probands with HPO terms\n",
    "seq_affected = pd.merge(other_affecteds, participant_aligned, left_index = True, right_on = 'participant_id') # sequenced probands with HPO terms\n",
    "seq_unaffected = pd.merge(unaffecteds, participant_aligned, left_index = True, right_on = 'participant_id') \n",
    "seq_unknown = pd.merge(unknown, participant_aligned, left_index = True, right_on = 'participant_id')"
   ]
  },
  {
   "cell_type": "code",
   "execution_count": null,
   "metadata": {},
   "outputs": [],
   "source": [
    "seq_proband_terms = pd.merge(proband_terms, participant_aligned, left_index = True, right_on = 'participant_id') \n",
    "seq_affected_terms = pd.merge(other_affected_terms, participant_aligned, left_index = True, right_on = 'participant_id') \n",
    "seq_unaffected_terms = pd.merge(unaffected_terms, participant_aligned, left_index = True, right_on = 'participant_id')\n",
    "seq_unknown_terms = pd.merge(unknown_terms, participant_aligned, left_index = True, right_on = 'participant_id')"
   ]
  },
  {
   "cell_type": "code",
   "execution_count": null,
   "metadata": {},
   "outputs": [],
   "source": [
    "df_rna = experimentMerge(participant, analyte, experiment_rna_short_read)\n",
    "participant_aligned_rna = pd.merge(df_rna, aligned_rna_short_read, left_index = True, right_on='experiment_rna_short_read_id')\n",
    "\n",
    "seq_proband_rna = pd.merge(probands, participant_aligned_rna, left_index = True, right_on = 'participant_id') # sequenced probands with HPO terms\n",
    "seq_affected_rna = pd.merge(other_affecteds, participant_aligned_rna, left_index = True, right_on = 'participant_id') # sequenced probands with HPO terms\n",
    "seq_unaffected_rna = pd.merge(unaffecteds, participant_aligned_rna, left_index = True, right_on = 'participant_id') \n",
    "seq_unknown_rna = pd.merge(unknown, participant_aligned_rna, left_index = True, right_on = 'participant_id') \n",
    "\n",
    "seq_proband_terms_rna = pd.merge(proband_terms, participant_aligned_rna, left_index = True, right_on = 'participant_id') \n",
    "seq_affected_terms_rna = pd.merge(other_affected_terms, participant_aligned_rna, left_index = True, right_on = 'participant_id') \n",
    "seq_unaffected_terms_rna = pd.merge(unaffected_terms, participant_aligned_rna, left_index = True, right_on = 'participant_id')\n",
    "seq_unknown_terms_rna = pd.merge(unknown_terms, participant_aligned_rna, left_index = True, right_on = 'participant_id')"
   ]
  },
  {
   "cell_type": "code",
   "execution_count": null,
   "metadata": {},
   "outputs": [],
   "source": [
    "df_nanopore = experimentMerge(participant, analyte, experiment_nanopore)\n",
    "participant_aligned_nanopore = pd.merge(df_nanopore, aligned_nanopore, left_index = True, right_on='experiment_nanopore_id')\n",
    "\n",
    "seq_proband_nanopore = pd.merge(probands, participant_aligned_nanopore, left_index = True, right_on = 'participant_id') # sequenced probands with HPO terms\n",
    "seq_affected_nanopore = pd.merge(other_affecteds, participant_aligned_nanopore, left_index = True, right_on = 'participant_id') # sequenced probands with HPO terms\n",
    "seq_unaffected_nanopore = pd.merge(unaffecteds, participant_aligned_nanopore, left_index = True, right_on = 'participant_id') \n",
    "seq_unknown_nanopore = pd.merge(unknown, participant_aligned_nanopore, left_index = True, right_on = 'participant_id') \n",
    "\n",
    "seq_proband_terms_nanopore = pd.merge(proband_terms, participant_aligned_nanopore, left_index = True, right_on = 'participant_id') \n",
    "seq_affected_terms_nanopore = pd.merge(other_affected_terms, participant_aligned_nanopore, left_index = True, right_on = 'participant_id') \n",
    "seq_unaffected_terms_nanopore = pd.merge(unaffected_terms, participant_aligned_nanopore, left_index = True, right_on = 'participant_id')\n",
    "seq_unknown_terms_nanopore = pd.merge(unknown_terms, participant_aligned_nanopore, left_index = True, right_on = 'participant_id')"
   ]
  },
  {
   "cell_type": "code",
   "execution_count": null,
   "metadata": {},
   "outputs": [],
   "source": [
    "datacomp_series = { 'TOTAL': [len(probands), len(other_affecteds), len(unaffecteds), len(unknown)], \n",
    "                'SR_DNA' : [len(seq_proband), len(seq_affected), len(seq_unaffected), len(seq_unknown)],\n",
    "                'SR_DNA_WITH_PHENOTYPE' : [len(seq_proband_terms), len(seq_affected_terms), \n",
    "                                              len(seq_unaffected_terms), len(seq_unknown)], \n",
    "                'SR_RNA' : [len(seq_proband_rna), len(seq_affected_rna), len(seq_unaffected_rna), len(seq_unknown_rna)],\n",
    "                'SR_RNA_WITH_PHENOTYPE' : [len(seq_proband_terms_rna), len(seq_affected_terms_rna), \n",
    "                                              len(seq_unaffected_terms_rna), len(seq_unknown_terms_rna)], \n",
    "                'NANOPORE' : [len(seq_proband_nanopore), len(seq_affected_nanopore), len(seq_unaffected_nanopore), len(seq_unknown_nanopore)],\n",
    "                'NANOPORE_WITH_PHENOTYPE' : [len(seq_proband_terms_nanopore), len(seq_affected_terms_nanopore), \n",
    "                                              len(seq_unaffected_terms_nanopore), len(seq_unknown_terms_nanopore)]\n",
    "               }"
   ]
  },
  {
   "cell_type": "markdown",
   "metadata": {},
   "source": [
    "__Table 15. The number of aligned files with phenotype terms for probands, affected and unaffected relatives__"
   ]
  },
  {
   "cell_type": "code",
   "execution_count": null,
   "metadata": {},
   "outputs": [],
   "source": [
    "datacomp_df = pd.DataFrame(datacomp_series)\n",
    "datacomp_df.index = ['PROBANDS', 'OTHER_AFFECTED', 'UNAFFECTED', 'UNKNOWN']\n",
    "datacomp_df.loc['TOTAL'] = datacomp_df.sum()"
   ]
  },
  {
   "cell_type": "code",
   "execution_count": null,
   "metadata": {},
   "outputs": [],
   "source": [
    "datacomp_df"
   ]
  },
  {
   "cell_type": "markdown",
   "metadata": {},
   "source": [
    "## Summary of the genetic findings table"
   ]
  },
  {
   "cell_type": "markdown",
   "metadata": {},
   "source": [
    "*All genetic finding entries in U05 are for single nucleotide variants (SNVs) or short insertions and deletions (indels)."
   ]
  },
  {
   "cell_type": "markdown",
   "metadata": {},
   "source": [
    "__Table 16. Summary of the \"gene known for phenotype\" column in the genetic findings table__"
   ]
  },
  {
   "cell_type": "code",
   "execution_count": null,
   "metadata": {},
   "outputs": [],
   "source": [
    "genetic_summary = summarizeData(genetic_findings, 'gene_known_for_phenotype')\n",
    "genetic_summary.loc['TOTAL'] = genetic_summary.sum()\n",
    "genetic_summary"
   ]
  },
  {
   "cell_type": "markdown",
   "metadata": {},
   "source": [
    "__Table 17. Summary of the \"GREGoR_variant_classification\" column in the genetic findings table__"
   ]
  },
  {
   "cell_type": "code",
   "execution_count": null,
   "metadata": {},
   "outputs": [],
   "source": [
    "variant_class = summarizeData(genetic_findings, 'GREGoR_variant_classification')\n",
    "variant_class.loc['TOTAL'] = variant_class.sum()"
   ]
  },
  {
   "cell_type": "code",
   "execution_count": null,
   "metadata": {},
   "outputs": [],
   "source": [
    "variant_class"
   ]
  }
 ],
 "metadata": {
  "kernelspec": {
   "display_name": "Python 3",
   "language": "python",
   "name": "python3"
  },
  "language_info": {
   "codemirror_mode": {
    "name": "ipython",
    "version": 3
   },
   "file_extension": ".py",
   "mimetype": "text/x-python",
   "name": "python",
   "nbconvert_exporter": "python",
   "pygments_lexer": "ipython3",
   "version": "3.10.12"
  },
  "toc": {
   "base_numbering": 1,
   "nav_menu": {},
   "number_sections": true,
   "sideBar": true,
   "skip_h1_title": false,
   "title_cell": "Table of Contents",
   "title_sidebar": "Contents",
   "toc_cell": false,
   "toc_position": {},
   "toc_section_display": true,
   "toc_window_display": false
  }
 },
 "nbformat": 4,
 "nbformat_minor": 2
}
