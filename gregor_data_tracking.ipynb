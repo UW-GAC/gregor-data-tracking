{
 "cells": [
  {
   "cell_type": "markdown",
   "metadata": {
    "slideshow": {
     "slide_type": "-"
    }
   },
   "source": [
    "# GREGoR Data Tracking and Reporting\n",
    "__author: DCC__ <br>\n",
    "__last edited: 07/05/2023__ <br>"
   ]
  },
  {
   "cell_type": "code",
   "execution_count": null,
   "metadata": {
    "code_folding": []
   },
   "outputs": [],
   "source": [
    "# import modules\n",
    "import os\n",
    "import io\n",
    "import pandas as pd\n",
    "import terra_pandas as tp\n",
    "import numpy as np\n",
    "import matplotlib.pyplot as plt\n",
    "import matplotlib.patches as mpatches\n",
    "import matplotlib.gridspec as gridspec\n",
    "import seaborn as sns\n",
    "from functools import reduce"
   ]
  },
  {
   "cell_type": "code",
   "execution_count": null,
   "metadata": {},
   "outputs": [],
   "source": [
    "project = os.environ['WORKSPACE_NAMESPACE']\n",
    "workspace = os.environ['WORKSPACE_NAME']\n",
    "bucket = os.environ['WORKSPACE_BUCKET'] + \"/\" \n",
    "\n",
    "#print(\"Current GREGoR upload cycle: U02\")\n",
    "print(\"Terra Billing project: \" + project)\n",
    "print(\"Workspace: \" + workspace)\n",
    "print(\"Workspace storage bucket: \" + bucket)"
   ]
  },
  {
   "cell_type": "code",
   "execution_count": null,
   "metadata": {
    "code_folding": []
   },
   "outputs": [],
   "source": [
    "bucket_size = pd.read_table('bucket_size', header = None, sep = ' ')\n",
    "bucket_size.columns = ['WORKSPACE', 'SIZE', 'UNIT']\n",
    "\n",
    "new_bucket_size = [] \n",
    "for index, rows in bucket_size.iterrows(): \n",
    "    # print(rows['UNIT'])\n",
    "    # print(rows['SIZE'])\n",
    "    \n",
    "    if rows['UNIT'] == 'GiB': \n",
    "        contib = rows['SIZE']/1000\n",
    "        #print(contib)\n",
    "        new_bucket_size.append(contib)\n",
    "    elif rows['UNIT'] == 'TiB':\n",
    "        tib = rows['SIZE']\n",
    "        new_bucket_size.append(tib)\n",
    "\n",
    "print('Total size of GREGoR U02 workspace buckets is: ' + str(sum(new_bucket_size)) + ' TiB')"
   ]
  },
  {
   "cell_type": "markdown",
   "metadata": {},
   "source": [
    "## Overview"
   ]
  },
  {
   "cell_type": "markdown",
   "metadata": {},
   "source": [
    "The GREGoR Data Tracking Report provides summaries of the latest data contributed to the GREGoR Consortium by member Research Centers (RCs). Information regarding data generation and data deposited to AnVIL are derived from the RC quarterly reports and the combined consortium workspaces. Graphical and tabular summaries of participant, experiment and phenotype information are generated from metadata provided in the GREGoR data model.  "
   ]
  },
  {
   "cell_type": "code",
   "execution_count": null,
   "metadata": {},
   "outputs": [],
   "source": [
    "current_upload_cycle = 'U02'"
   ]
  },
  {
   "cell_type": "markdown",
   "metadata": {
    "variables": {
     " current_upload_cycle ": "U02"
    }
   },
   "source": [
    "__Latest upload cycle:__ {{ current_upload_cycle }} "
   ]
  },
  {
   "cell_type": "code",
   "execution_count": null,
   "metadata": {
    "code_folding": [
     16,
     33
    ],
    "tags": [
     "hide-cell"
    ]
   },
   "outputs": [],
   "source": [
    "# function(s) for reading in RC reporting\n",
    "\n",
    "def readGoogleSheet(url):\n",
    "    gsheet_url = url\n",
    "    csv_export_url = gsheet_url.replace('/edit#gid=', '/export?format=csv&gid=')\n",
    "    gsheet_df = pd.read_csv(csv_export_url)\n",
    "    return gsheet_df\n",
    "\n",
    "# function(s) for AnVIL data tables\n",
    "def readDatatable(data_table, project, workspace): \n",
    "    new_table = tp.table_to_dataframe(data_table, workspace_namespace=project, workspace=workspace)\n",
    "    return new_table\n",
    "\n",
    "def formatIndex(df):\n",
    "    mylist = []\n",
    "    for i in df.index:\n",
    "        if type(i) == tuple: \n",
    "            str = '_'.join(i)\n",
    "            mylist.append(str)\n",
    "        else: \n",
    "            mylist.append(i)\n",
    "    df.index = mylist\n",
    "    df.index = df.index.str.upper()\n",
    "    return df\n",
    "\n",
    "def summarizeData(df, column):\n",
    "    df['participant_id'] = df.index\n",
    "    df = pd.DataFrame(df.groupby(by=[column], dropna=False)['participant_id'].count())\n",
    "    df.columns = ['NO. OF PARTICIPANTS']\n",
    "    formatIndex(df)\n",
    "    df.columns = df.columns.str.upper()\n",
    "    return df\n",
    "\n",
    "def participantSummary(df):\n",
    "    df['participant_id'] = df.index\n",
    "    df = df.groupby(by=['gregor_center', 'consent_code'], as_index = True)[['participant_id', 'family_id']].nunique()\n",
    "    df.loc[\"Total\"] = df.sum()\n",
    "    df.columns = ['participants', 'families']\n",
    "    formatIndex(df)\n",
    "    df.columns = df.columns.str.upper()\n",
    "    return df\n",
    "\n",
    "def experimentMerge(participant_df, analyte_df, experiment_df):\n",
    "    df = pd.merge(participant_df, analyte_df, left_index = True, right_on='participant_id')\n",
    "    df1 = pd.merge(df, experiment_df, left_index = True, right_on='analyte_id')\n",
    "    return df1\n",
    "\n",
    "def experimentSummary(participant_df, analyte_df, experiment_df):\n",
    "    df1 = experimentMerge(participant_df, analyte_df, experiment_df)\n",
    "    experiment_type = df1.groupby(by=['gregor_center','experiment_type'])['participant_id'].nunique().unstack()\n",
    "    experiment_type = experiment_type.fillna(0).astype(int)\n",
    "    experiment_type.loc[\"Total\"] = experiment_type.sum()\n",
    "    formatIndex(experiment_type)\n",
    "    experiment_type.columns = experiment_type.columns.str.upper()\n",
    "    experiment_type.columns.name = None\n",
    "    return experiment_type\n",
    "\n",
    "def phenotypeMerge(participant_df, phenotype):\n",
    "    participant_terms = pd.DataFrame(phenotype.groupby('participant_id')['term_id'].count())\n",
    "    participant_terms.index.name = None\n",
    "    df = pd.merge(participant_df, participant_terms, left_index = True, right_index = True)\n",
    "    return df\n"
   ]
  },
  {
   "cell_type": "code",
   "execution_count": null,
   "metadata": {
    "code_folding": [],
    "tags": [
     "hide-cell"
    ]
   },
   "outputs": [],
   "source": [
    "# read in combined google tracking sheets\n",
    "# GREGoR combined RC reporting sheets for U1\n",
    "summary_report_U1 = readGoogleSheet(\"https://docs.google.com/spreadsheets/d/1EtOc6ggsJN6QZ4VuqCmBvUIHplMDWxshQlYnALDCHrs/edit#gid=0\")\n",
    "\n",
    "# GREGoR combined RC reporting sheets for U2\n",
    "summary_report_U2 = readGoogleSheet(\"https://docs.google.com/spreadsheets/d/1ndQRPsJW6d8kWIq2j9JHui9-sudrtcyDoUZ_qX821X8/edit#gid=0\")"
   ]
  },
  {
   "cell_type": "code",
   "execution_count": null,
   "metadata": {
    "code_folding": [],
    "tags": [
     "hide-cell"
    ]
   },
   "outputs": [],
   "source": [
    "# read in AnVIL tables\n",
    "participant = readDatatable('participant', project, workspace)\n",
    "family = readDatatable('family', project, workspace)\n",
    "phenotype = readDatatable('phenotype', project, workspace)\n",
    "analyte = readDatatable('analyte', project, workspace)\n",
    "experiment_dna_short_read = readDatatable('experiment_dna_short_read', project, workspace, )\n",
    "aligned_dna_short_read = readDatatable('aligned_dna_short_read', project, workspace)"
   ]
  },
  {
   "cell_type": "markdown",
   "metadata": {},
   "source": [
    "__Abbreviations:__<br> \n",
    "__RCs:__ BCM = Baylor College of Medicine Research Center; BROAD = Broad Institute; CNH_I = Children's National Hospital/Invitae; GSS = GREGoR Stanford Site; UW-CRDR = University of Washington Center for Rare Disease Research.\n",
    "BCM = Baylor College of Medicine Research Center; BROAD = Broad Institute; CNH_I = Children's National Hospital/Invitae; GSS = GREGoR Stanford Site; UW-CRDR = University of Washington Center for Rare Disease Research; <br>\n",
    "__Consent codes:__ GRU = General research use and clinical care; HMB = Health/medical/biomedical research and clinical care"
   ]
  },
  {
   "cell_type": "markdown",
   "metadata": {},
   "source": [
    "## Participants and Families\n",
    "\n",
    "The section below includes summaries of the participants, families, and family relationships in the GREGoR Combined Dataset. "
   ]
  },
  {
   "cell_type": "markdown",
   "metadata": {
    "variables": {
     "current_upload_cycle": "U02"
    }
   },
   "source": [
    "__Table 1. The number of participants and families in the GREGoR Combined Consortium Dataset (upload cycle: {{current_upload_cycle}}).__ "
   ]
  },
  {
   "cell_type": "code",
   "execution_count": null,
   "metadata": {
    "code_folding": [],
    "tags": [
     "hide_code"
    ]
   },
   "outputs": [],
   "source": [
    "participant_data = participantSummary(participant)\n",
    "participant_data.index.name = 'GREGoR_CENTER'\n",
    "participant_data"
   ]
  },
  {
   "cell_type": "code",
   "execution_count": null,
   "metadata": {},
   "outputs": [],
   "source": [
    "family_size = summarizeData(participant, 'family_id')\n",
    "family_size.columns = ['FAMILY SIZE']\n",
    "plt.figure(figsize=(7,5))\n",
    "\n",
    "sns.set(style=\"white\", font='sans-serif', font_scale=1.2)\n",
    "\n",
    "sns.histplot(data = family_size, x = 'FAMILY SIZE', color='#076839', edgecolor = 'black', discrete= True)\n",
    "plt.ylabel('SAMPLE COUNT')\n",
    "#plt.title('Distribution of Family Size in the GREGoR Combined Consortium Dataset')\n",
    "\n",
    "plt.show()"
   ]
  },
  {
   "cell_type": "markdown",
   "metadata": {},
   "source": [
    "__Figure 1.__ The distribution of family size in the GREGoR Combined Consortium Dataset."
   ]
  },
  {
   "cell_type": "markdown",
   "metadata": {},
   "source": [
    "__Table 2. The number of participants by their relationship to the proband.__ "
   ]
  },
  {
   "cell_type": "code",
   "execution_count": null,
   "metadata": {
    "code_folding": []
   },
   "outputs": [],
   "source": [
    "proband_rel_data = summarizeData(participant, 'proband_relationship')\n",
    "proband_rel_data.index.name = 'PROBAND_RELATIONSHIP'\n",
    "proband_rel_data"
   ]
  },
  {
   "cell_type": "code",
   "execution_count": null,
   "metadata": {
    "code_folding": []
   },
   "outputs": [],
   "source": [
    "# plot pie chart\n",
    "df = proband_rel_data.loc[proband_rel_data['NO. OF PARTICIPANTS'] > 7]\n",
    "df = df.replace(22, 48)\n",
    "labels = df.index.str.lower()\n",
    "\n",
    "color = ['#076839', '#388660', '#519574', '#6aa488', '#9bc2af']\n",
    "\n",
    "plt.figure(figsize=(7,5))\n",
    "plt.pie(df['NO. OF PARTICIPANTS'], labels = labels, colors = color, autopct='%.2f', labeldistance=1.25, \n",
    "        radius=1.25, \n",
    "        textprops={'fontsize': 15, 'fontname' : 'serif', 'ha' : 'center' , 'color' : 'black'},\n",
    "        wedgeprops={ 'linewidth' : 1.5, 'edgecolor' : \"white\" })\n",
    "plt.tight_layout()\n",
    "plt.plot()"
   ]
  },
  {
   "cell_type": "markdown",
   "metadata": {},
   "source": [
    "__Figure 2.__ Pie chart showing the percentage of proband relationships in the GREGoR Combined Consortium Dataset. Note proband relationship categories were collapsed into 'other' if the count < 10; Self = proband.   "
   ]
  },
  {
   "cell_type": "markdown",
   "metadata": {
    "variables": {
     "current_upload_cycle": "U02"
    }
   },
   "source": [
    "__Table 3. The number of female and male participants in the GREGoR Combined Consortium Dataset (current_upload cycle: {{current_upload_cycle}}).__"
   ]
  },
  {
   "cell_type": "code",
   "execution_count": null,
   "metadata": {},
   "outputs": [],
   "source": [
    "sex = summarizeData(participant, 'sex')\n",
    "sex"
   ]
  },
  {
   "cell_type": "markdown",
   "metadata": {},
   "source": [
    "## Sample Processing and Experiment Summaries "
   ]
  },
  {
   "cell_type": "code",
   "execution_count": null,
   "metadata": {},
   "outputs": [],
   "source": [
    "frames = [summary_report_U1, summary_report_U2]\n",
    "df = pd.concat(frames, axis = 0)"
   ]
  },
  {
   "cell_type": "code",
   "execution_count": null,
   "metadata": {
    "code_folding": [
     8,
     32
    ]
   },
   "outputs": [],
   "source": [
    "plt.figure(figsize=(14, 10))\n",
    "plt.subplots_adjust(hspace=0.5)\n",
    "\n",
    "#plt.suptitle(\"Summary of Research Center Sample/Sequencing Reports\")\n",
    "sns.set(style=\"white\", font='sans-serif', font_scale=1.2)\n",
    "\n",
    "rc_list = ['BCM', 'BROAD', 'CNH_I', 'GSS', 'UW_CRDR']\n",
    "\n",
    "for n, rc in enumerate(rc_list):\n",
    "    # print(rc)\n",
    "    # add a new subplot iteratively\n",
    "    ax = plt.subplot(3, 2, n + 1)\n",
    "    single_rc = df[df[\"GREGoR_CENTER\"] == rc]\n",
    "    single_rc_sub =  single_rc[['SAMPLES_PREPARED', 'NUM_OF_SAMPLES_COMPLETED', \n",
    "                                      'SAMPLE_FILES_UPLOADED_TO_ANVIL']]\n",
    "    single_rc_sub.columns = ['PREPARED', 'SEQUENCED', 'UPLOADED TO AnVIL']\n",
    "    single_rc_sub.index = ['U1', 'U2']\n",
    "    single_rc_sub_t = single_rc_sub.transpose()\n",
    "    #print(single_rc_sub_t)\n",
    "    \n",
    "    sns.barplot(ax = ax, data = single_rc_sub_t, x =  single_rc_sub_t.index, y = \"U2\", color = \"white\", edgecolor = 'black')\n",
    "    sns.barplot(ax = ax, data= single_rc_sub_t, x = single_rc_sub_t.index, y= \"U1\", estimator=sum,  color='#076839', edgecolor = 'black')\n",
    "    plt.title(rc)\n",
    "    plt.xlabel = None\n",
    "    ax.set_ylabel('NO. OF SAMPLES')\n",
    "    #plt.xticks(rotation=45)\n",
    "    \n",
    "    \n",
    "    \n",
    "# legend\n",
    "top_bar = mpatches.Patch(color='white', label='U2')\n",
    "bottom_bar = mpatches.Patch(color='#076839', label='U1')\n",
    "plt.legend(handles=[top_bar, bottom_bar], facecolor = \"lightgray\", loc = 'lower right', \n",
    "           bbox_to_anchor=(0.5, 0.4, 1, 0.5), fontsize = 'large', shadow = True)\n",
    "plt.show()"
   ]
  },
  {
   "cell_type": "markdown",
   "metadata": {},
   "source": [
    "__Figure 3.__ Quarterly report completed by the GREGoR RCs to track short read DNA experiments. Stacked bar charts show the number of samples prepared, the number of samples that completed sequencing and the number of samples uploaded to AnVIL. A stacked bar chart show sample summaries for each RC provided for U01 (green) and U02 (white).  "
   ]
  },
  {
   "cell_type": "markdown",
   "metadata": {
    "variables": {
     "current_upload_cycle": "U02"
    }
   },
   "source": [
    "__Table 4. Summary of RC quarterly reports for short read DNA experiments in the {{current_upload_cycle}} cycle.__<br> "
   ]
  },
  {
   "cell_type": "code",
   "execution_count": null,
   "metadata": {
    "code_folding": []
   },
   "outputs": [],
   "source": [
    "summary_report_U2_sub = summary_report_U2[['SAMPLES_PREPARED', \n",
    "                                           'NUM_SAMPLES_IN_SEQ', 'NUM_OF_SAMPLES_COMPLETED', 'NUM_FAILURES', 'SAMPLE_FILES_UPLOADED_TO_ANVIL']]\n",
    "summary_report_U2_sub.index = summary_report_U2['GREGoR_CENTER']\n"
   ]
  },
  {
   "cell_type": "code",
   "execution_count": null,
   "metadata": {},
   "outputs": [],
   "source": [
    "summary_report_U2_sub"
   ]
  },
  {
   "cell_type": "markdown",
   "metadata": {
    "variables": {
     "current_upload_cycle": "U02"
    }
   },
   "source": [
    "__Table 5. Summary of RC quarterly reports for short read RNA experiments in the {{current_upload_cycle}} cycle.__<br> "
   ]
  },
  {
   "cell_type": "code",
   "execution_count": null,
   "metadata": {},
   "outputs": [],
   "source": [
    "#add RNA table"
   ]
  },
  {
   "cell_type": "markdown",
   "metadata": {},
   "source": [
    "__Table 6. The number of exomes and genomes in the  GREGoR Combined Consortium Dataset.__ <br>\n",
    "_Note: These numbers are derived from the experiment_dna_short_read table._ "
   ]
  },
  {
   "cell_type": "code",
   "execution_count": null,
   "metadata": {},
   "outputs": [],
   "source": [
    "experiment_type_by_center = experimentSummary(participant, analyte, experiment_dna_short_read)\n",
    "experiment_type_by_center.index.name = 'GREGoR_CENTER'\n",
    "experiment_type_by_center"
   ]
  },
  {
   "cell_type": "markdown",
   "metadata": {},
   "source": [
    "__Table 7. The number of aligned sequencing files (i.e. BAMS or CRAMs) in the GREGoR Combined Consortium Dataset.__ <br> \n",
    "_Note: These numbers are derived from the 'aligned_dna_short_read' data table._"
   ]
  },
  {
   "cell_type": "code",
   "execution_count": null,
   "metadata": {},
   "outputs": [],
   "source": [
    "df = experimentMerge(participant, analyte, experiment_dna_short_read)\n",
    "participant_aligned = pd.merge(df, aligned_dna_short_read, left_index = True, right_on='experiment_dna_short_read_id')\n",
    "aligned_files_by_center = participant_aligned.groupby(by=['gregor_center'])[['aligned_dna_short_read_file']].nunique()\n",
    "aligned_files_by_center.loc[\"Total\"] = aligned_files_by_center.sum()\n",
    "aligned_files_by_center.columns = ['No. of short read DNA files']\n",
    "    \n",
    "formatIndex(aligned_files_by_center)\n",
    "aligned_files_by_center.columns = aligned_files_by_center.columns.str.upper()\n",
    "aligned_files_by_center.index.name = 'GREGoR_CENTER'\n",
    "aligned_files_by_center"
   ]
  },
  {
   "cell_type": "markdown",
   "metadata": {},
   "source": [
    "## Phenotype Data"
   ]
  },
  {
   "cell_type": "markdown",
   "metadata": {},
   "source": [
    "__Table 8. Summary of 'affected status' in the GREGoR Combined Consortium dataset__"
   ]
  },
  {
   "cell_type": "code",
   "execution_count": null,
   "metadata": {},
   "outputs": [],
   "source": [
    "affected_data = summarizeData(participant, 'affected_status')\n",
    "affected_data.loc['TOTAL'] = affected_data.sum()\n",
    "affected_data.index.name = 'AFFECTED_STATUS'\n",
    "affected_data"
   ]
  },
  {
   "cell_type": "markdown",
   "metadata": {},
   "source": [
    "__Summary of phenotype ontology terms in the GREGoR Combined Consortium Dataset__"
   ]
  },
  {
   "cell_type": "code",
   "execution_count": null,
   "metadata": {},
   "outputs": [],
   "source": [
    "unique_phenotypes = phenotype[~phenotype['term_id'].duplicated()]\n",
    "participant_terms = pd.merge(participant,phenotype, left_index = True, right_on = 'participant_id')\n",
    "\n",
    "#unique_phenotypes\n",
    "print('Number of phenotype terms: ' + str(len(phenotype)))\n",
    "print('Number of unique phenotype terms: ' + str(len(unique_phenotypes)))\n",
    "print('Number of participants with phenotype terms: ' + str(participant_terms['participant_id'].nunique()))"
   ]
  },
  {
   "cell_type": "markdown",
   "metadata": {},
   "source": [
    "__Table 9. Common phenotype ontology terms in the GREGoR Combined Consortium dataset__"
   ]
  },
  {
   "cell_type": "code",
   "execution_count": null,
   "metadata": {},
   "outputs": [],
   "source": [
    "term_count = pd.DataFrame(phenotype.groupby('term_id', dropna=False)['participant_id'].count())\n",
    "term_count_sorted = term_count.sort_values('participant_id', ascending=False)\n",
    "term_count_sorted[\"term\"] = term_count_sorted.index\n",
    "term_count_sorted.reset_index(drop=True, inplace = True)\n",
    "term_name = ['Global developmental delay', 'Seizure', 'Intellectual disability', 'Hypotonia', \n",
    "             'Morphological central nervous system abnormality','Bicuspid aortic valve', \n",
    "             'Thoracic aortic aneurysm', 'Abnormal cerebral cortex morphology', 'Microcephaly', 'Muscle weakness']\n",
    "term_name = pd.DataFrame(term_name)\n",
    "\n",
    "term_count_sorted_top10 = term_count_sorted[:10]\n",
    "frames = [term_count_sorted_top10, term_name]\n",
    "term_count_sorted_top10 = pd.concat(frames, axis = 1)\n",
    "term_count_sorted_top10 = term_count_sorted_top10[['term', 0, 'participant_id']]\n",
    "\n",
    "term_count_sorted_top10.columns = ['term_id', 'term_name', 'no. of participants']\n",
    "term_count_sorted_top10.columns = term_count_sorted_top10.columns.str.upper()\n",
    "term_count_sorted_top10"
   ]
  },
  {
   "cell_type": "code",
   "execution_count": null,
   "metadata": {},
   "outputs": [],
   "source": [
    "term_count_singletons = term_count[term_count['participant_id'] == 1]\n",
    "print('Note: A total of ' + str(term_count_singletons.shape[0]) + ' terms occur only once in the dataset')"
   ]
  },
  {
   "cell_type": "markdown",
   "metadata": {},
   "source": [
    "## Summary of Data Completeness "
   ]
  },
  {
   "cell_type": "markdown",
   "metadata": {},
   "source": [
    "This section summarizes participants with genotype and phenotype information in the GREGoR Combined Dataset. Phenotype ontology terms are primarily expected for probands and affected relatives."
   ]
  },
  {
   "cell_type": "code",
   "execution_count": null,
   "metadata": {},
   "outputs": [],
   "source": [
    "# do relevant subsetting\n",
    "probands = participant[participant['proband_relationship'] == 'Self']\n",
    "other_affecteds = participant[(participant['proband_relationship'] != 'Self') & (participant['affected_status'] == 'Affected')] # other affecteds that are not probands\n",
    "unaffecteds = participant[(participant['proband_relationship'] != 'Self') & (participant['affected_status'] == 'Unaffected')]\n",
    "\n",
    "proband_terms = phenotypeMerge(probands, phenotype)\n",
    "other_affected_terms = phenotypeMerge(other_affecteds, phenotype)\n",
    "unaffected_terms = phenotypeMerge(unaffecteds, phenotype)\n",
    "\n",
    "seq_proband = pd.merge(probands, participant_aligned, left_index = True, right_on = 'participant_id') # sequenced probands with HPO terms\n",
    "seq_affected = pd.merge(other_affecteds, participant_aligned, left_index = True, right_on = 'participant_id') # sequenced probands with HPO terms\n",
    "seq_unaffected = pd.merge(unaffecteds, participant_aligned, left_index = True, right_on = 'participant_id') \n",
    "\n",
    "\n",
    "seq_proband_terms = pd.merge(proband_terms, participant_aligned, left_on = 'participant_id', right_on = 'participant_id') \n",
    "seq_affected_terms = pd.merge(other_affected_terms, participant_aligned, left_index = True, right_on = 'participant_id') \n",
    "seq_unaffected_terms = pd.merge(unaffected_terms, participant_aligned, left_index = True, right_on = 'participant_id')"
   ]
  },
  {
   "cell_type": "code",
   "execution_count": null,
   "metadata": {},
   "outputs": [],
   "source": [
    "datacomp_series = { 'TOTAL': [len(probands), len(other_affecteds), len(unaffecteds)], \n",
    "                'SEQUENCED' : [len(seq_proband), len(seq_affected), len(seq_unaffected)],\n",
    "                'SEQUENCED_WITH_PHENOTYPE' : [len(seq_proband_terms), len(seq_affected_terms), \n",
    "                                              len(seq_unaffected_terms)]\n",
    "               }"
   ]
  },
  {
   "cell_type": "markdown",
   "metadata": {},
   "source": [
    "__Table 10. The number of 'aligned DNA short read files' and phenotype terms for probands, affected and unaffected relatives__"
   ]
  },
  {
   "cell_type": "code",
   "execution_count": null,
   "metadata": {},
   "outputs": [],
   "source": [
    "datacomp_df = pd.DataFrame(datacomp_series)\n",
    "datacomp_df.index = ['PROBANDS', 'OTHER_AFFECTED', 'UNAFFECTED']\n",
    "datacomp_df"
   ]
  }
 ],
 "metadata": {
  "kernelspec": {
   "display_name": "Python 3",
   "language": "python",
   "name": "python3"
  },
  "language_info": {
   "codemirror_mode": {
    "name": "ipython",
    "version": 3
   },
   "file_extension": ".py",
   "mimetype": "text/x-python",
   "name": "python",
   "nbconvert_exporter": "python",
   "pygments_lexer": "ipython3",
   "version": "3.7.12"
  },
  "toc": {
   "base_numbering": 1,
   "nav_menu": {},
   "number_sections": true,
   "sideBar": true,
   "skip_h1_title": false,
   "title_cell": "Table of Contents",
   "title_sidebar": "Contents",
   "toc_cell": false,
   "toc_position": {},
   "toc_section_display": true,
   "toc_window_display": false
  }
 },
 "nbformat": 4,
 "nbformat_minor": 2
}
