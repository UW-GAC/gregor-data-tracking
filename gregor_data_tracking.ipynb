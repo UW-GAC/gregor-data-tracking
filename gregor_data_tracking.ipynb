{
 "cells": [
  {
   "cell_type": "markdown",
   "metadata": {},
   "source": [
    "# GREGoR data tracking\n",
    "__author: DCC__ <br>\n",
    "__created: 04/17/2023__ <br>"
   ]
  },
  {
   "cell_type": "code",
   "execution_count": null,
   "metadata": {
    "code_folding": [],
    "tags": [
     "hide_code"
    ]
   },
   "outputs": [],
   "source": [
    "# import modules\n",
    "from firecloud import api as fapi\n",
    "import os\n",
    "import io\n",
    "import pandas as pd\n",
    "import numpy as np\n",
    "import matplotlib.pyplot as plt\n",
    "import matplotlib.patches as mpatches\n",
    "import seaborn as sns\n",
    "from functools import reduce\n",
    "import gspread\n",
    "from df2gspread import df2gspread as d2g\n",
    "from oauth2client.service_account import ServiceAccountCredentials\n",
    "import json\n",
    "import csv"
   ]
  },
  {
   "cell_type": "code",
   "execution_count": null,
   "metadata": {
    "tags": [
     "hide_code"
    ]
   },
   "outputs": [],
   "source": [
    "project = os.environ['WORKSPACE_NAMESPACE']\n",
    "workspace = os.environ['WORKSPACE_NAME']\n",
    "bucket = os.environ['WORKSPACE_BUCKET'] + \"/\" \n",
    "\n",
    "print(\"Terra Billing project: \" + project)\n",
    "print(\"Workspace: \" + workspace)\n",
    "print(\"Workspace storage bucket: \" + bucket)"
   ]
  },
  {
   "cell_type": "code",
   "execution_count": null,
   "metadata": {
    "code_folding": [
     0
    ]
   },
   "outputs": [],
   "source": [
    "# function(s) for reading in RC reporting\n",
    "\n",
    "def readGoogleSheet(url):\n",
    "    gsheet_url = url\n",
    "    csv_export_url = gsheet_url.replace('/edit#gid=', '/export?format=csv&gid=')\n",
    "    gsheet_df = pd.read_csv(csv_export_url)\n",
    "    return gsheet_df\n",
    "\n",
    "\n",
    "# function(s) for AnVIL data tables\n",
    "def readDatatable(project, workspace, table): \n",
    "    new_table = pd.read_csv(io.StringIO(fapi.get_entities_tsv(project, workspace, table, \n",
    "                                                              model = \"flexible\").text), sep='\\t')\n",
    "    return new_table\n",
    "\n",
    "def convertTuple(tup):\n",
    "    str = ''.join(tup)\n",
    "    return str\n",
    "\n",
    "def formatIndex(df):\n",
    "    mylist = []\n",
    "    for i in df.index:\n",
    "        if type(i) == tuple: \n",
    "            str = '_'.join(i)\n",
    "            mylist.append(str)\n",
    "        else: \n",
    "            mylist.append(i)\n",
    "    df.index = mylist\n",
    "    df.index = df.index.str.upper()\n",
    "    return df\n",
    "\n",
    "def formatColumns(df):\n",
    "    df.columns = df.columns.str.upper()\n",
    "    return df\n",
    "\n",
    "def participantSummary(participant_data): \n",
    "    participant_data = participant_data.groupby(by=['gregor_center', 'consent_code'], as_index = True)[['entity:participant_id', 'family_id']].nunique()\n",
    "    participant_data.loc[\"Total\"] = participant_data.sum()\n",
    "    participant_data.columns = ['participants', 'families']\n",
    "    formatIndex(participant_data)\n",
    "    formatColumns(participant_data)\n",
    "    return participant_data\n",
    "\n",
    "def familySummary(participant_data):\n",
    "    family_size = pd.DataFrame(participant_data.groupby(by=['family_id'])['entity:participant_id'].count())\n",
    "    return family_size\n",
    "\n",
    "def probandrelSummary(participant_data): \n",
    "    proband_rel_data =  pd.DataFrame(participant_data.groupby(by=['proband_relationship'], \n",
    "                                                        dropna=False)['entity:participant_id'].count()) \n",
    "    proband_rel_data.columns = ['No. of participants']\n",
    "    proband_rel_data.index = proband_rel_data.index.str.replace('Self', 'Proband')\n",
    "    proband_rel_data.index = proband_rel_data.index.str.upper()\n",
    "    proband_rel_data.index.name = None\n",
    "    formatColumns(proband_rel_data)\n",
    "    return proband_rel_data\n",
    "\n",
    "def affectedSummary(participant_data): \n",
    "    affected_data =  pd.DataFrame(participant_data.groupby(by=['affected_status'], \n",
    "                                                        dropna=False)['entity:participant_id'].count())\n",
    "    affected_data.columns = ['No. of participants']\n",
    "    formatIndex(affected_data)\n",
    "    formatColumns(affected_data)\n",
    "    return affected_data\n",
    "\n",
    "def aligneddataSummary(participant_data, analyte_data, experiment_data, aligned_data):\n",
    "    participant_analyte = pd.merge(participant_data, analyte_data, left_on = 'entity:participant_id', right_on='participant_id')\n",
    "    participant_analyte_experiment = pd.merge(participant_analyte, experiment_data, left_on = 'entity:analyte_id', right_on='analyte_id')\n",
    "    participant_aligned_data = pd.merge(participant_analyte_experiment, aligned_data, \n",
    "                                        left_on = 'entity:experiment_dna_short_read_id', right_on = 'experiment_dna_short_read_id')\n",
    "    \n",
    "    return participant_aligned_data\n",
    "\n",
    "def experimentSummary(participant_aligned_data):\n",
    "    experiment_type = participant_aligned_data.groupby(by=['gregor_center','experiment_type'])[['aligned_dna_short_read_file']].nunique()\n",
    "    experiment_type.columns = ['No. of experiment types']\n",
    "    experiment_type.loc[\"Total\"] = experiment_type.sum()\n",
    "    formatIndex(experiment_type)\n",
    "    formatColumns(experiment_type)\n",
    "    return experiment_type\n",
    "\n",
    "def probandsData(participant_data):\n",
    "    probands =  participant_data[(participant_data['affected_status'] == 'Affected') & (participant_data['proband_relationship'] == 'Self')]\n",
    "    return probands\n",
    "\n",
    "def affectedData(participant_data):\n",
    "    affecteds = participant_data[(participant_data['affected_status'] == 'Affected') & (participant_data['proband_relationship'] != 'Self')]\n",
    "    return affecteds\n",
    "\n",
    "def unaffectedData(participant_data):\n",
    "    unaffecteds = participant_data[participant_data['affected_status'] == 'Unaffected']\n",
    "    return unaffecteds\n",
    "\n",
    "def phenotermsSummary(phenotype_data, participant_subset):\n",
    "    participant_terms = pd.DataFrame(phenotype_data.groupby('participant_id')['term_id'].count())\n",
    "    participant_subset_terms = participant_terms.merge(participant_subset, left_index = True, right_on = 'entity:participant_id')\n",
    "    return(participant_subset_terms)\n",
    "\n",
    "def centerPheno(participant_data, phenotype_data, center): \n",
    "    participant_terms = participant.merge(phenotype, left_on = 'entity:participant_id', right_on = 'participant_id')\n",
    "    center_terms = participant_terms[participant_terms['gregor_center'] == center]\n",
    "    return center_terms\n",
    "\n",
    "def overlapPheno(participant_data, phenotype_data, centerA, centerB):\n",
    "    participant_terms = participant.merge(phenotype, left_on = 'entity:participant_id', right_on = 'participant_id')\n",
    "    centerA_terms = participant_terms[participant_terms['gregor_center'] == centerA]\n",
    "    centerB_terms = participant_terms[participant_terms['gregor_center'] == centerB]\n",
    "    overlap_terms = centerA_terms.merge(centerB_terms, on = 'term_id', how = \"inner\", indicator = True)\n",
    "    return overlap_terms"
   ]
  },
  {
   "cell_type": "code",
   "execution_count": null,
   "metadata": {
    "code_folding": [
     0
    ]
   },
   "outputs": [],
   "source": [
    "# read in combined google tracking sheets\n",
    "# GREGoR combined RC reporting sheets for U1\n",
    "summary_report_U1 = readGoogleSheet(\"https://docs.google.com/spreadsheets/d/1EtOc6ggsJN6QZ4VuqCmBvUIHplMDWxshQlYnALDCHrs/edit#gid=0\")\n",
    "\n",
    "# GREGoR combined RC reporting sheets for U2\n",
    "summary_report_U2 = readGoogleSheet(\"https://docs.google.com/spreadsheets/d/1ndQRPsJW6d8kWIq2j9JHui9-sudrtcyDoUZ_qX821X8/edit#gid=0\")"
   ]
  },
  {
   "cell_type": "code",
   "execution_count": null,
   "metadata": {
    "code_folding": [
     0
    ],
    "tags": [
     "hide-input"
    ]
   },
   "outputs": [],
   "source": [
    "# read in AnVIL tables\n",
    "participant = readDatatable(project, workspace, 'participant')\n",
    "family = readDatatable(project, workspace, 'family')\n",
    "phenotype = readDatatable(project, workspace, 'phenotype')\n",
    "analyte = readDatatable(project, workspace, 'analyte')\n",
    "experiment_dna_short_read = readDatatable(project, workspace, 'experiment_dna_short_read')\n",
    "aligned_dna_short_read = readDatatable(project, workspace, 'aligned_dna_short_read')"
   ]
  },
  {
   "cell_type": "markdown",
   "metadata": {},
   "source": [
    "## GREGoR Research Center Sample Summaries"
   ]
  },
  {
   "cell_type": "markdown",
   "metadata": {},
   "source": [
    "The plots below are generated from quarterly updates provided by GREGoR Research Centers. The plots below pertain to samples prepared, samples sequenced and samples uploaded to AnVIL for upload cycle 1 (U1) and upload cycle 2 (U2)."
   ]
  },
  {
   "cell_type": "code",
   "execution_count": null,
   "metadata": {
    "code_folding": [
     0
    ]
   },
   "outputs": [],
   "source": [
    "# subset total samples prepped\n",
    "total_prep_u1 = summary_report_U1[\"TOTAL_SAMPLES_PREPARED\"]\n",
    "total_prep_u2 = summary_report_U2[\"TOTAL_SAMPLES_PREPARED\"]\n",
    "\n",
    "frames = (summary_report_U2['GREGoR_CENTER'], total_prep_u1, total_prep_u2)\n",
    "total_prep = pd.concat(frames, axis = 1)\n",
    "total_prep.columns = ['RC', 'U1', 'U2']"
   ]
  },
  {
   "cell_type": "code",
   "execution_count": null,
   "metadata": {
    "code_folding": [
     0
    ]
   },
   "outputs": [],
   "source": [
    "# subset total samples sequenced\n",
    "total_seq_u1 = summary_report_U1[\"TOTAL_SAMPLES_SEQUENCING_COMPLETED\"]\n",
    "total_seq_u2 = summary_report_U2[\"TOTAL_SAMPLES_SEQUENCING_COMPLETED\"]\n",
    "\n",
    "frames = (summary_report_U2['GREGoR_CENTER'], total_seq_u1, total_seq_u2)\n",
    "total_seq = pd.concat(frames, axis = 1)\n",
    "total_seq.columns = ['RC', 'U1', 'U2']\n",
    "#total_seq"
   ]
  },
  {
   "cell_type": "code",
   "execution_count": null,
   "metadata": {
    "code_folding": [
     0
    ]
   },
   "outputs": [],
   "source": [
    "# subset total samples uploaded\n",
    "total_upload_u1 = summary_report_U1[\"TOTAL_SAMPLES_UPLOADED_TO_ANVIL\"]\n",
    "total_upload_u2 = summary_report_U2[\"TOTAL_SAMPLES_UPLOADED_TO_ANVIL\"]\n",
    "\n",
    "frames = (summary_report_U2['GREGoR_CENTER'], total_upload_u1, total_upload_u2)\n",
    "total_upload = pd.concat(frames, axis = 1)\n",
    "total_upload.columns = ['RC', 'U1', 'U2']"
   ]
  },
  {
   "cell_type": "code",
   "execution_count": null,
   "metadata": {
    "code_folding": [
     0
    ]
   },
   "outputs": [],
   "source": [
    "# plot\n",
    "sns.set(style=\"white\", font='sans-serif', font_scale=1.2)\n",
    "\n",
    "fig, ax = plt.subplots(1,2, sharex = True, sharey = False, figsize=(14,5))\n",
    "#fig.suptitle('Number of samples prepared in U1 and U2')\n",
    "ax[0].set_title('Number of samples prepared in U1 and U2')\n",
    "ax[1].set_title('Number of samples sequenced in U1 and U2')\n",
    "\n",
    "sns.barplot(ax = ax[0], x='RC',  y=\"U2\", data=total_prep, color='white', edgecolor = 'black')\n",
    "sns.barplot(ax = ax[0], x=\"RC\", y=\"U1\", data=total_prep, estimator=sum,  color='darkgreen', edgecolor = 'black')\n",
    "\n",
    "sns.barplot(ax = ax[1], x='RC',  y=\"U2\", data=total_seq, color='white', edgecolor = 'black')\n",
    "sns.barplot(ax = ax[1], x=\"RC\", y=\"U1\", data=total_seq,  color='darkgreen', edgecolor = 'black')\n",
    "\n",
    "\n",
    "\n",
    "for ax in ax.flat:\n",
    "    ax.set(xlabel='Research Center', ylabel='Number of Samples')\n",
    "\n",
    "# legend\n",
    "top_bar = mpatches.Patch(color='white', label='U2')\n",
    "bottom_bar = mpatches.Patch(color='darkgreen', label='U1')\n",
    "fig.legend(handles=[top_bar, bottom_bar], facecolor = \"lightgray\")\n",
    "\n",
    "\n",
    "fig.show()"
   ]
  },
  {
   "cell_type": "code",
   "execution_count": null,
   "metadata": {
    "code_folding": [
     0
    ]
   },
   "outputs": [],
   "source": [
    "# plot\n",
    "sns.set(style=\"white\", font='sans-serif', font_scale=1.2)\n",
    "\n",
    "fig, ax = plt.subplots(1, sharex = True, figsize=(7,5))\n",
    "\n",
    "ax.set_title('Number of sequenced samples uploaded to AnVIL')\n",
    "\n",
    "sns.barplot(ax = ax, x='RC',  y=\"U2\", data=total_upload, color='white', edgecolor = 'black')\n",
    "sns.barplot(ax = ax, x=\"RC\", y=\"U1\", data=total_upload, estimator=sum,  color='darkgreen', edgecolor = 'black')\n",
    "\n",
    "plt.xlabel('Research Center')\n",
    "plt.ylabel('Number of Samples')\n",
    "    \n",
    "fig.show()"
   ]
  },
  {
   "cell_type": "markdown",
   "metadata": {},
   "source": [
    "## GREGoR Combined Dataset Summary"
   ]
  },
  {
   "cell_type": "markdown",
   "metadata": {},
   "source": [
    "The GREGoR Combined Consortium dataset summaries are generated from data model tables uploaded to AnVIL workspaces. The tables and plots below summarize the GREGoR Combined dataset for U2 which ended on 3/31/2023."
   ]
  },
  {
   "cell_type": "markdown",
   "metadata": {},
   "source": [
    "#### Summary of participant and family data tables for the GREGoR combined dataset"
   ]
  },
  {
   "cell_type": "markdown",
   "metadata": {},
   "source": [
    "##### Summary of participants and families"
   ]
  },
  {
   "cell_type": "markdown",
   "metadata": {},
   "source": [
    "Table 1. Shows the number of participants and families by GREGoR research center and consent code. "
   ]
  },
  {
   "cell_type": "code",
   "execution_count": null,
   "metadata": {
    "code_folding": [],
    "tags": [
     "hide_code"
    ]
   },
   "outputs": [],
   "source": [
    "participant_data = participantSummary(participant)\n",
    "participant_data"
   ]
  },
  {
   "cell_type": "code",
   "execution_count": null,
   "metadata": {
    "code_folding": [
     0
    ]
   },
   "outputs": [],
   "source": [
    "# plot\n",
    "family_size = familySummary(participant)\n",
    "\n",
    "sns.set(style=\"white\", font='sans-serif', font_scale=1.2)\n",
    "fig, g = plt.subplots(1, sharex = True, figsize=(7,5))\n",
    "\n",
    "g = sns.histplot(data=family_size, discrete = True, legend=False, palette = 'RdGy',\n",
    "              edgecolor=\"black\", linewidth=2)\n",
    "g.set_xticks(range(1,20))\n",
    "g.xaxis.label.set_color('grey')        \n",
    "g.yaxis.label.set_color('grey')        \n",
    "\n",
    "plt.xlabel('family size', color = 'grey', style = 'italic')\n",
    "plt.ylabel('sample count', color = 'grey', style = 'italic')\n",
    "plt.title('Histogram of family size for U2')\n",
    "\n",
    "plt.show()"
   ]
  },
  {
   "cell_type": "markdown",
   "metadata": {},
   "source": [
    "##### Summary of participant 'proband_relationship'"
   ]
  },
  {
   "cell_type": "markdown",
   "metadata": {},
   "source": [
    "Table 2. Shows the number of participants by their relationship to the proband. "
   ]
  },
  {
   "cell_type": "code",
   "execution_count": null,
   "metadata": {
    "code_folding": []
   },
   "outputs": [],
   "source": [
    "proband_rel_data = probandrelSummary(participant)\n",
    "proband_rel_data"
   ]
  },
  {
   "cell_type": "markdown",
   "metadata": {},
   "source": [
    "Pie chart summarizes the 'proband relationships' across the GREGoR Combined dataset. "
   ]
  },
  {
   "cell_type": "code",
   "execution_count": null,
   "metadata": {
    "code_folding": [
     0
    ]
   },
   "outputs": [],
   "source": [
    "# plot pie char\n",
    "df = proband_rel_data.loc[proband_rel_data['NO. OF PARTICIPANTS'] > 7]\n",
    "df = df.replace(22, 48)\n",
    "labels = df.index.str.lower()\n",
    "\n",
    "color = sns.color_palette(\"Greens\",5) \n",
    "plt.figure(figsize=(7,7))\n",
    "plt.pie(df['NO. OF PARTICIPANTS'], labels = labels, colors = color, autopct='%.2f', labeldistance=1.25, \n",
    "        radius=1.25, \n",
    "        textprops={'fontsize': 15, 'fontname' : 'serif', 'ha' : 'center' , 'color' : 'black'},\n",
    "        wedgeprops={ 'linewidth' : 1.5, 'edgecolor' : \"white\" })\n",
    "plt.tight_layout()"
   ]
  },
  {
   "cell_type": "markdown",
   "metadata": {},
   "source": [
    "#### Summary of experiment and aligned sequencing file data tables in the GREGoR combined dataset "
   ]
  },
  {
   "cell_type": "markdown",
   "metadata": {},
   "source": [
    "Table 3. The number of aligned sequencing files by GREGoR Research Center and conset code. "
   ]
  },
  {
   "cell_type": "code",
   "execution_count": null,
   "metadata": {
    "code_folding": []
   },
   "outputs": [],
   "source": [
    "participant_aligned_data = aligneddataSummary(participant, analyte, experiment_dna_short_read, aligned_dna_short_read)\n",
    "aligned_files_by_center = participant_aligned_data.groupby(by=['gregor_center', 'consent_code'])[['aligned_dna_short_read_file']].nunique()\n",
    "aligned_files_by_center.loc[\"Total\"] = aligned_files_by_center.sum()\n",
    "aligned_files_by_center.columns = ['No. of aligned files']\n",
    "    \n",
    "formatIndex(aligned_files_by_center)\n",
    "formatColumns(aligned_files_by_center)"
   ]
  },
  {
   "cell_type": "markdown",
   "metadata": {},
   "source": [
    "Table 4. The number of exomes vs genomes in the GREGoR Combined dataset. "
   ]
  },
  {
   "cell_type": "code",
   "execution_count": null,
   "metadata": {},
   "outputs": [],
   "source": [
    "experiment_type = participant_aligned_data.groupby(by=['experiment_type'])[['aligned_dna_short_read_file']].nunique()\n",
    "experiment_type.columns = ['NO. OF EXPERIMENT TYPES']\n",
    "formatColumns(experiment_type)\n",
    "formatIndex(experiment_type)"
   ]
  },
  {
   "cell_type": "markdown",
   "metadata": {},
   "source": [
    "Table 5. The number of exomes vs genomes by GREGoR Research Center. "
   ]
  },
  {
   "cell_type": "code",
   "execution_count": null,
   "metadata": {},
   "outputs": [],
   "source": [
    "experiment_type_by_center = experimentSummary(participant_aligned_data)\n",
    "experiment_type_by_center"
   ]
  },
  {
   "cell_type": "markdown",
   "metadata": {},
   "source": [
    "#### Summary of phenotype data in the GREGoR combined dataset"
   ]
  },
  {
   "cell_type": "markdown",
   "metadata": {},
   "source": [
    "Table 6. Summary of 'affected status' in the GREGoR Combined dataset"
   ]
  },
  {
   "cell_type": "code",
   "execution_count": null,
   "metadata": {
    "code_folding": []
   },
   "outputs": [],
   "source": [
    "affected_data = affectedSummary(participant)\n",
    "affected_data"
   ]
  },
  {
   "cell_type": "markdown",
   "metadata": {},
   "source": [
    "Phenotype terms in the GREGoR combined dataset"
   ]
  },
  {
   "cell_type": "code",
   "execution_count": null,
   "metadata": {},
   "outputs": [],
   "source": [
    "unique_phenotypes = pd.DataFrame(phenotype.groupby('term_id')['participant_id'].nunique())\n",
    "participant_terms = participant.merge(phenotype, left_on = 'entity:participant_id', right_on = 'participant_id')\n",
    "\n",
    "print('Number of phenotype terms: ' + str(len(phenotype)))\n",
    "print('Number of unique phenotype terms: ' + str(len(unique_phenotypes)))\n",
    "print('Number of participants with phenotype terms: ' + str(participant_terms['entity:participant_id'].nunique()))"
   ]
  },
  {
   "cell_type": "markdown",
   "metadata": {},
   "source": [
    "#### Data completeness in the GREGoR combined dataset"
   ]
  },
  {
   "cell_type": "markdown",
   "metadata": {},
   "source": [
    "Summary of participants with sequencing files and phenotype data"
   ]
  },
  {
   "cell_type": "code",
   "execution_count": null,
   "metadata": {
    "code_folding": [
     0
    ]
   },
   "outputs": [],
   "source": [
    "# do relevant subsetting\n",
    "probands = probandsData(participant)\n",
    "other_affecteds = affectedData(participant) # other affecteds that are not probands\n",
    "unaffecteds = unaffectedData(participant)\n",
    "\n",
    "proband_terms = phenotermsSummary(phenotype_data=phenotype, participant_subset=probands)\n",
    "other_affected_terms = phenotermsSummary(phenotype_data=phenotype, participant_subset=other_affecteds)\n",
    "unaffected_terms = phenotermsSummary(phenotype_data=phenotype, participant_subset=unaffecteds)\n",
    "\n",
    "seq_proband = probands.merge(participant_aligned_data, on = 'entity:participant_id') # sequenced probands with HPO terms\n",
    "seq_affected = other_affecteds.merge(participant_aligned_data, on = 'entity:participant_id') \n",
    "seq_unaffected = unaffecteds.merge(participant_aligned_data, on = 'entity:participant_id') \n",
    "\n",
    "seq_proband_terms = proband_terms.merge(participant_aligned_data, on = 'entity:participant_id') # sequenced probands with HPO terms\n",
    "seq_affected_terms = other_affected_terms.merge(participant_aligned_data, on = 'entity:participant_id') \n",
    "seq_unaffected_terms = unaffected_terms.merge(participant_aligned_data, on = 'entity:participant_id') "
   ]
  },
  {
   "cell_type": "markdown",
   "metadata": {},
   "source": [
    "Table 7. The number of participants with 'aligned DNA short read files' and phenotype terms"
   ]
  },
  {
   "cell_type": "code",
   "execution_count": null,
   "metadata": {
    "code_folding": [
     0
    ]
   },
   "outputs": [],
   "source": [
    "datacomp_series = { 'TOTAL': [len(probands), len(other_affecteds), len(unaffecteds)], \n",
    "                'SEQUENCED' : [len(seq_proband), len(seq_affected), len(seq_unaffected)],\n",
    "                'SEQUENCED_WITH_PHENOTYPE' : [len(seq_proband_terms), len(seq_affected_terms), \n",
    "                                              len(seq_unaffected_terms)]\n",
    "               }"
   ]
  },
  {
   "cell_type": "code",
   "execution_count": null,
   "metadata": {},
   "outputs": [],
   "source": [
    "datacomp_df = pd.DataFrame(datacomp_series)\n",
    "datacomp_df.index = ['PROBANDS', 'OTHER_AFFECTED', 'UNAFFECTED']\n",
    "datacomp_df"
   ]
  }
 ],
 "metadata": {
  "kernelspec": {
   "display_name": "Python 3",
   "language": "python",
   "name": "python3"
  },
  "language_info": {
   "codemirror_mode": {
    "name": "ipython",
    "version": 3
   },
   "file_extension": ".py",
   "mimetype": "text/x-python",
   "name": "python",
   "nbconvert_exporter": "python",
   "pygments_lexer": "ipython3",
   "version": "3.7.12"
  },
  "toc": {
   "base_numbering": 1,
   "nav_menu": {},
   "number_sections": true,
   "sideBar": true,
   "skip_h1_title": false,
   "title_cell": "Table of Contents",
   "title_sidebar": "Contents",
   "toc_cell": false,
   "toc_position": {},
   "toc_section_display": true,
   "toc_window_display": false
  }
 },
 "nbformat": 4,
 "nbformat_minor": 2
}
