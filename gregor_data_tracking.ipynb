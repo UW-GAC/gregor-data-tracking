{
 "cells": [
  {
   "cell_type": "markdown",
   "metadata": {},
   "source": [
    "# GREGoR Data Tracking and Reporting for U03\n",
    "author: DCC <br>\n",
    "last edited: 08/09/2023"
   ]
  },
  {
   "cell_type": "code",
   "execution_count": null,
   "metadata": {},
   "outputs": [],
   "source": [
    "# install modules\n",
    "#%pip install nbconvert\n",
    "#%pip install terra-pandas\n",
    "#%pip install jupyter_contrib_nbextensions"
   ]
  },
  {
   "cell_type": "code",
   "execution_count": null,
   "metadata": {},
   "outputs": [],
   "source": [
    "# import modules\n",
    "import os\n",
    "import io\n",
    "import pandas as pd\n",
    "import terra_pandas as tp\n",
    "import numpy as np\n",
    "import matplotlib.pyplot as plt\n",
    "import matplotlib.patches as mpatches\n",
    "import matplotlib.gridspec as gridspec\n",
    "import matplotlib.pyplot as plt\n",
    "from matplotlib_venn import venn2,venn2_circles\n",
    "import seaborn as sns\n",
    "from functools import reduce\n",
    "%matplotlib inline\n",
    "import warnings\n",
    "warnings.filterwarnings('ignore')\n",
    "#from IPython.display import Markdown as md"
   ]
  },
  {
   "cell_type": "code",
   "execution_count": null,
   "metadata": {},
   "outputs": [],
   "source": [
    "project = os.environ['WORKSPACE_NAMESPACE']\n",
    "workspace = os.environ['WORKSPACE_NAME']\n",
    "bucket = os.environ['WORKSPACE_BUCKET'] + \"/\" \n",
    "\n",
    "print(\"Current GREGoR upload cycle: U03\")\n",
    "print(\"Terra Billing project: \" + project)\n",
    "print(\"Workspace: \" + workspace)\n",
    "print(\"Workspace storage bucket: \" + bucket)"
   ]
  },
  {
   "cell_type": "markdown",
   "metadata": {},
   "source": [
    "## Overview"
   ]
  },
  {
   "cell_type": "markdown",
   "metadata": {},
   "source": [
    "The GREGoR Data Tracking Report provides summaries of data contributed to the GREGoR Consortium by member Research Centers (RCs). Information regarding data generation and data deposited to AnVIL are derived from the RC quarterly reports and the GREGoR Combined Consortium Workspace. Graphical and tabular summaries of participant, family, experiment, and phenotype information are generated from information provided by member Research Centers (RCs) and specified in the GREGoR data model."
   ]
  },
  {
   "cell_type": "code",
   "execution_count": null,
   "metadata": {},
   "outputs": [],
   "source": [
    "# function(s) for reading in RC reporting\n",
    "\n",
    "def readGoogleSheet(url):\n",
    "    gsheet_url = url\n",
    "    csv_export_url = gsheet_url.replace('/edit#gid=', '/export?format=csv&gid=')\n",
    "    gsheet_df = pd.read_csv(csv_export_url)\n",
    "    return gsheet_df\n",
    "\n",
    "# function(s) for AnVIL data tables\n",
    "def readDatatable(data_table, project, workspace): \n",
    "    new_table = tp.table_to_dataframe(data_table, workspace_namespace=project, workspace=workspace)\n",
    "    return new_table\n",
    "\n",
    "def formatIndex(df):\n",
    "    mylist = []\n",
    "    for i in df.index:\n",
    "        if type(i) == tuple: \n",
    "            str = '_'.join(i)\n",
    "            mylist.append(str)\n",
    "        else: \n",
    "            mylist.append(i)\n",
    "    df.index = mylist\n",
    "    df.index = df.index.str.upper()\n",
    "    return df\n",
    "\n",
    "def gregorUploadWorkspaces(upload_cycle): \n",
    "    upload_workspaces = ['AnVIL_GREGoR_BCM_' + upload_cycle + '_HMB',\n",
    "                         'AnVIL_GREGoR_BCM_' + upload_cycle + '_GRU',\n",
    "                         'AnVIL_GREGoR_BROAD_' + upload_cycle + '_HMB',\n",
    "                         'AnVIL_GREGoR_BROAD_' + upload_cycle + '_GRU',\n",
    "                         'AnVIL_GREGoR_CNH_I_' + upload_cycle + '_HMB',\n",
    "                         'AnVIL_GREGoR_CNH_I_' + upload_cycle + '_GRU',\n",
    "                         'AnVIL_GREGoR_GSS_' + upload_cycle + '_HMB',\n",
    "                         'AnVIL_GREGoR_GSS_' + upload_cycle + '_GRU',\n",
    "                         'AnVIL_GREGoR_UW_CRDR_' + upload_cycle + '_HMB',\n",
    "                         'AnVIL_GREGoR_UW_CRDR_' + upload_cycle + '_GRU'\n",
    "                         ]\n",
    "    return upload_workspaces\n",
    "\n",
    "def summarizeData(df, column):\n",
    "    df['participant_id'] = df.index\n",
    "    df = pd.DataFrame(df.groupby(by=[column], dropna=False)['participant_id'].count())\n",
    "    df.columns = ['NO. OF PARTICIPANTS']\n",
    "    formatIndex(df)\n",
    "    df.columns = df.columns.str.upper()\n",
    "    return df\n",
    "\n",
    "def participantSummary(df):\n",
    "    df['participant_id'] = df.index\n",
    "    df = df.groupby(by=['gregor_center', 'consent_code'], as_index = True)[['participant_id', 'family_id']].nunique()\n",
    "    df.loc[\"Total\"] = df.sum()\n",
    "    df.columns = ['participants', 'families']\n",
    "    formatIndex(df)\n",
    "    df.columns = df.columns.str.upper()\n",
    "    return df\n",
    "\n",
    "def experimentMerge(participant_df, analyte_df, experiment_df):\n",
    "    df = pd.merge(participant_df, analyte_df, left_index = True, right_on='participant_id')\n",
    "    df1 = pd.merge(df, experiment_df, left_index = True, right_on='analyte_id')\n",
    "    return df1\n",
    "\n",
    "def experimentSummary(participant_df, analyte_df, experiment_df):\n",
    "    df1 = experimentMerge(participant_df, analyte_df, experiment_df)\n",
    "    experiment_type = df1.groupby(by=['gregor_center','experiment_type'])['participant_id'].nunique().unstack()\n",
    "    experiment_type = experiment_type.fillna(0).astype(int)\n",
    "    experiment_type.loc[\"Total\"] = experiment_type.sum()\n",
    "    formatIndex(experiment_type)\n",
    "    experiment_type.columns = experiment_type.columns.str.upper()\n",
    "    experiment_type.columns.name = None\n",
    "    return experiment_type\n",
    "\n",
    "def phenotypeMerge(participant_df, phenotype):\n",
    "    participant_terms = pd.DataFrame(phenotype.groupby('participant_id')['term_id'].count())\n",
    "    participant_terms.index.name = None\n",
    "    df = pd.merge(participant_df, participant_terms, left_index = True, right_index = True)\n",
    "    return df\n",
    "\n",
    "def combineDataTable(table, upload_workspaces):\n",
    "    project = 'anvil-datastorage'\n",
    "    combined_df = pd.DataFrame([])\n",
    "    for ws in upload_workspaces:\n",
    "        try: \n",
    "            df = readDatatable(table, project, ws)\n",
    "            #print(ws)\n",
    "            #print(project)\n",
    "            #print(df.shape)\n",
    "            combined_df = combined_df.append(df)\n",
    "        except: \n",
    "            print(table + ' is missing in ' + ws)\n",
    "    return combined_df"
   ]
  },
  {
   "cell_type": "code",
   "execution_count": null,
   "metadata": {},
   "outputs": [],
   "source": [
    "# GREGoR combined RC reporting sheets for U02\n",
    "summary_report_U2 = readGoogleSheet(\"https://docs.google.com/spreadsheets/d/1ndQRPsJW6d8kWIq2j9JHui9-sudrtcyDoUZ_qX821X8/edit#gid=0\")\n",
    "\n",
    "# GREGoR combined RC reporting sheets for U03\n",
    "\n",
    "summary_report_U3 = readGoogleSheet(\"https://docs.google.com/spreadsheets/d/1RPBfSwIP7Ev7gUCE4U7iG4fmIoEqCzUUxChsUNo_Pl4/edit#gid=0\")\n",
    "\n",
    "# GREGoR combined RC reporting sheet for U03 RNAseq\n",
    "\n",
    "summary_RNAseq_U3 = readGoogleSheet(\"https://docs.google.com/spreadsheets/d/1Fh81ta_h7NfB_4ibUSqMjzQNvWUxqsuo08IkxyypR00/edit#gid=0\")"
   ]
  },
  {
   "cell_type": "code",
   "execution_count": null,
   "metadata": {},
   "outputs": [],
   "source": [
    "# read in AnVIL tables from combined consortium U03 workspace\n",
    "participant = readDatatable('participant', project, workspace)\n",
    "family =readDatatable('family', project, workspace)\n",
    "phenotype =readDatatable('phenotype', project, workspace)\n",
    "analyte =readDatatable('analyte', project, workspace)\n",
    "experiment_dna_short_read =readDatatable('experiment_dna_short_read', project, workspace)\n",
    "experiment_rna_short_read =readDatatable('experiment_rna_short_read', project, workspace)\n",
    "aligned_dna_short_read =readDatatable('aligned_dna_short_read', project, workspace)\n",
    "aligned_rna_short_read =readDatatable('aligned_rna_short_read', project, workspace)"
   ]
  },
  {
   "cell_type": "markdown",
   "metadata": {},
   "source": [
    "__Abbreviations:__<br> \n",
    "__RCs:__ BCM = Baylor College of Medicine Research Center; BROAD = Broad Institute; CNH_I = Children's National Hospital/Invitae; GSS = GREGoR Stanford Site; UW-CRDR = University of Washington Center for Rare Disease Research.\n",
    "BCM = Baylor College of Medicine Research Center; BROAD = Broad Institute; CNH_I = Children's National Hospital/Invitae; GSS = GREGoR Stanford Site; UW-CRDR = University of Washington Center for Rare Disease Research; <br>\n",
    "__Consent codes:__ GRU = General research use and clinical care; HMB = Health/medical/biomedical research and clinical care"
   ]
  },
  {
   "cell_type": "markdown",
   "metadata": {},
   "source": [
    "## Participants and Families\n",
    "\n",
    "The section below includes summaries of the participants and families in the GREGoR Combined Consortium Dataset. "
   ]
  },
  {
   "cell_type": "markdown",
   "metadata": {},
   "source": [
    "__Table 1. The number of participants and families in the GREGoR Combined Consortium Dataset.__ "
   ]
  },
  {
   "cell_type": "code",
   "execution_count": null,
   "metadata": {},
   "outputs": [],
   "source": [
    "participant_data = participantSummary(participant)\n",
    "participant_data.index.name = 'GREGoR_CENTER'\n",
    "participant_data"
   ]
  },
  {
   "cell_type": "code",
   "execution_count": null,
   "metadata": {},
   "outputs": [],
   "source": [
    "family_size = summarizeData(participant, 'family_id')\n",
    "family_size.columns = ['FAMILY SIZE']\n",
    "plt.figure(figsize=(7,5))\n",
    "\n",
    "sns.set(style=\"white\", font='sans-serif', font_scale=1.2)\n",
    "\n",
    "sns.histplot(data = family_size, x = 'FAMILY SIZE', color='#076839', edgecolor = 'black', discrete= True)\n",
    "plt.ylabel('SAMPLE COUNT')\n",
    "#plt.title('Distribution of Family Size in the GREGoR Combined Consortium Dataset')\n",
    "\n",
    "plt.show()"
   ]
  },
  {
   "cell_type": "markdown",
   "metadata": {},
   "source": [
    "__Figure 1.__ The distribution of family size in the GREGoR Combined Consortium Dataset."
   ]
  },
  {
   "cell_type": "markdown",
   "metadata": {},
   "source": [
    "__Table 2. The number of participants by their relationship to the proband.__ "
   ]
  },
  {
   "cell_type": "code",
   "execution_count": null,
   "metadata": {},
   "outputs": [],
   "source": [
    "proband_rel_data = summarizeData(participant, 'proband_relationship')\n",
    "proband_rel_data.index.name = 'PROBAND_RELATIONSHIP'\n",
    "proband_rel_data.loc['TOTAL'] = proband_rel_data.sum()\n",
    "proband_rel_data.index = proband_rel_data.index.str.replace('SELF', 'PROBAND')\n",
    "proband_rel_data"
   ]
  },
  {
   "cell_type": "code",
   "execution_count": null,
   "metadata": {},
   "outputs": [],
   "source": [
    "# plot pie chart\n",
    "proband_rel_data = summarizeData(participant, 'proband_relationship')\n",
    "df = proband_rel_data.loc[proband_rel_data['NO. OF PARTICIPANTS'] > 7]\n",
    "sub = proband_rel_data.loc[proband_rel_data['NO. OF PARTICIPANTS'] <= 7]\n",
    "sub_sum = sub['NO. OF PARTICIPANTS'].sum()\n",
    "sub_sum\n",
    "s = df[df.index == 'OTHER']\n",
    "s = s['NO. OF PARTICIPANTS']\n",
    "val = s[0]\n",
    "new_val = sub_sum + val\n",
    "#new_val"
   ]
  },
  {
   "cell_type": "code",
   "execution_count": null,
   "metadata": {},
   "outputs": [],
   "source": [
    "df.index = df.index.str.replace('SELF', 'PROBAND')"
   ]
  },
  {
   "cell_type": "code",
   "execution_count": null,
   "metadata": {},
   "outputs": [],
   "source": [
    "df = df.replace(val, new_val)\n",
    "#df.index = df.index.str.replace('self', 'proband')\n",
    "labels = df.index.str.lower()\n",
    "\n",
    "color = ['#076839', '#388660', '#519574', '#6aa488', '#9bc2af']\n",
    "\n",
    "plt.figure(figsize=(7,5))\n",
    "plt.pie(df['NO. OF PARTICIPANTS'], labels = labels, colors = color, autopct='%.2f', labeldistance=1.25, \n",
    "        radius=1.25, \n",
    "        textprops={'fontsize': 15, 'fontname' : 'serif', 'ha' : 'center' , 'color' : 'black'},\n",
    "        wedgeprops={ 'linewidth' : 1.5, 'edgecolor' : \"white\" })\n",
    "plt.tight_layout()\n",
    "plt.plot()"
   ]
  },
  {
   "cell_type": "markdown",
   "metadata": {},
   "source": [
    "__Figure 2.__ Pie chart showing the percentage of proband relationships in the GREGoR Combined Consortium Dataset. _Note: proband relationship categories were collapsed into 'other' if the count <= 10._   "
   ]
  },
  {
   "cell_type": "markdown",
   "metadata": {},
   "source": [
    "__Table 3. The number of female and male participants in the GREGoR Combined Consortium Dataset.__"
   ]
  },
  {
   "cell_type": "code",
   "execution_count": null,
   "metadata": {},
   "outputs": [],
   "source": [
    "sex = summarizeData(participant, 'sex')\n",
    "sex['%'] = (sex['NO. OF PARTICIPANTS']/sex['NO. OF PARTICIPANTS'].sum()).round(3)\n",
    "sex"
   ]
  },
  {
   "cell_type": "markdown",
   "metadata": {},
   "source": [
    "## Sample Processing and Experiment Summaries \n",
    "\n",
    "The section below includes RC quarterly reports summaries and experimental summaries derived from the Combined Consortium data tables hosted on AnVIL.  "
   ]
  },
  {
   "cell_type": "code",
   "execution_count": null,
   "metadata": {},
   "outputs": [],
   "source": [
    "summary_report_U2['UPLOAD_CYCLE'] = 'U02'\n",
    "summary_report_U3['UPLOAD_CYCLE'] = 'U03'\n"
   ]
  },
  {
   "cell_type": "code",
   "execution_count": null,
   "metadata": {},
   "outputs": [],
   "source": [
    "frames = [summary_report_U2, summary_report_U3]\n",
    "df = pd.concat(frames)"
   ]
  },
  {
   "cell_type": "code",
   "execution_count": null,
   "metadata": {},
   "outputs": [],
   "source": [
    "plt.figure(figsize=(14, 10))\n",
    "plt.subplots_adjust(hspace=0.5)\n",
    "\n",
    "#plt.suptitle(\"Summary of Research Center Sample/Sequencing Reports\")\n",
    "sns.set(style=\"white\", font='sans-serif', font_scale=1.2)\n",
    "\n",
    "rc_list = ['BCM', 'BROAD', 'CNH_I', 'GSS', 'UW_CRDR']\n",
    "\n",
    "for n, rc in enumerate(rc_list):\n",
    "    #print(rc)\n",
    "    # add a new subplot iteratively\n",
    "    ax = plt.subplot(3, 2, n + 1)\n",
    "    df_internal = df[df['EXPERIMENT_LOC'] == 'Internal']\n",
    "    \n",
    "    single_rc_internal = df_internal[df_internal['GREGoR_CENTER'] == rc]\n",
    "    single_rc_all = df[df['GREGoR_CENTER'] == rc]\n",
    "    \n",
    "    \n",
    "    #print(single_rc_internal)\n",
    "    single_rc_internal_sub =  single_rc_internal[['TOTAL_SAMPLES_PREPARED', 'TOTAL_SAMPLES_SEQUENCING_COMPLETED', \n",
    "                                      'TOTAL_SAMPLES_UPLOADED_TO_ANVIL']]\n",
    "    single_rc_all_sub =  single_rc_all[['TOTAL_SAMPLES_PREPARED', 'TOTAL_SAMPLES_SEQUENCING_COMPLETED', \n",
    "                                      'TOTAL_SAMPLES_UPLOADED_TO_ANVIL']]\n",
    "    \n",
    "\n",
    "    single_rc_internal_sub.columns = ['PREPARED', 'SEQUENCED', 'UPLOADED TO AnVIL']\n",
    "    single_rc_all_sub.columns = ['PREPARED', 'SEQUENCED', 'UPLOADED TO AnVIL']\n",
    "    if len(single_rc_all_sub) == 2: \n",
    "        single_rc_all_sub.loc['SUM'] =  single_rc_all_sub.iloc[[1],[2]].sum()\n",
    "    elif len(single_rc_all_sub) == 3: \n",
    "        single_rc_all_sub.loc['SUM'] =  single_rc_all_sub.iloc[[1,2],[2]].sum()\n",
    "    elif len(single_rc_all_sub) == 4: \n",
    "        single_rc_all_sub.loc['SUM'] =  single_rc_all_sub.iloc[[2,3],[2]].sum()\n",
    "    else: \n",
    "        print('check RC df for mistakes!!!')\n",
    "    \n",
    "\n",
    "    single_rc_internal_sub.index = ['U02_internal', 'U03_internal']\n",
    "    single_rc_all_sub_sum = pd.DataFrame(single_rc_all_sub.loc['SUM'])\n",
    "    single_rc_all_sub_sum.columns = ['External']\n",
    "    #print(single_rc_all_sub_sum)\n",
    "    \n",
    "    single_rc_internal_sub_t = single_rc_internal_sub.transpose()\n",
    "    #print(single_rc_internal_sub_t)\n",
    "    #single_rc_all_sub_t = single_rc_all_sub.transpose()\n",
    "    #print(single_rc_all_sub_t)\n",
    "    \n",
    "    sns.barplot(ax = ax, data = single_rc_all_sub_sum, x = single_rc_all_sub_sum.index, y = \"External\", estimator=sum,  color='#bc5c45', edgecolor = 'black')\n",
    "    \n",
    "    sns.barplot(ax = ax, data = single_rc_internal_sub_t, x =  single_rc_internal_sub_t.index, y = \"U03_internal\", color = \"#0db53f\", edgecolor = 'black')\n",
    "    sns.barplot(ax = ax, data = single_rc_internal_sub_t, x = single_rc_internal_sub_t.index, y = \"U02_internal\", estimator=sum,  color='#076839', edgecolor = 'black')\n",
    "    \n",
    "    plt.title(rc)\n",
    "    plt.xlabel = None\n",
    "    ax.set_ylabel('NO. OF SAMPLES') \n",
    "    \n",
    "    \n",
    "# legend\n",
    "top_bar = mpatches.Patch(color='#0db53f', label='U03_internal')\n",
    "med_bar = mpatches.Patch(color='#076839', label='U02_internal')\n",
    "bottom_bar = mpatches.Patch(color='#bc5c45', label='All_External')\n",
    "\n",
    "plt.legend(handles=[top_bar, med_bar, bottom_bar], facecolor = \"lightgray\", loc = 'lower right', \n",
    "           bbox_to_anchor=(0.5, 0.4, 1.5, 0.6), fontsize = 'large', shadow = True)\n",
    "plt.show()"
   ]
  },
  {
   "cell_type": "markdown",
   "metadata": {},
   "source": [
    "__Figure 3.__ Summary of quarterly reports completed by the GREGoR RCs to track internally and externally processed short read DNA experiments. Stacked bar charts show the number of samples prepared, the number of samples that completed sequencing and the number of samples uploaded to the AnVIL platform. Each stacked bar chart shows RC sample summaries for internally processed samples in U02 (dark green), U03 (light green) and cumulative sample numbers for externally processed samples (brown).  "
   ]
  },
  {
   "cell_type": "markdown",
   "metadata": {},
   "source": [
    "__Table 4. Summary of RC quarterly reports for short read DNA experiments in the current upload cycle.__"
   ]
  },
  {
   "cell_type": "code",
   "execution_count": null,
   "metadata": {},
   "outputs": [],
   "source": [
    "summary_report_U3_sub = summary_report_U3[['GREGoR_CENTER', 'EXPERIMENT_LOC','TOTAL_SAMPLES_PREPARED', 'TOTAL_SAMPLES_SEQUENCING_COMPLETED', \n",
    "                                      'TOTAL_SAMPLES_UPLOADED_TO_ANVIL']]\n",
    "summary_report_U3_sub_by_center = summary_report_U3_sub.groupby(['GREGoR_CENTER', 'EXPERIMENT_LOC']).sum()\n",
    "summary_report_U3_sub_by_center.loc['TOTAL'] = summary_report_U3_sub_by_center.sum()\n",
    "summary_report_U3_sub_by_center.index.name = '(GREGoR_CENTER,  Internal/External)'\n",
    "summary_report_U3_sub_by_center"
   ]
  },
  {
   "cell_type": "code",
   "execution_count": null,
   "metadata": {},
   "outputs": [],
   "source": [
    "plt.figure(figsize=(14, 10))\n",
    "plt.subplots_adjust(hspace=0.5)\n",
    "\n",
    "df = summary_RNAseq_U3\n",
    "\n",
    "#plt.suptitle(\"Summary of Research Center Sample/Sequencing Reports\")\n",
    "sns.set(style=\"white\", font='sans-serif', font_scale=1.2)\n",
    "\n",
    "rc_list = ['BROAD', 'CNH_I', 'GSS']\n",
    "\n",
    "for n, rc in enumerate(rc_list):\n",
    "    #print(rc)\n",
    "    # add a new subplot iteratively\n",
    "    ax = plt.subplot(3, 2, n + 1)\n",
    "    df_internal = df[df['EXPERIMENT_LOC'] == 'Internal']\n",
    "    \n",
    "    single_rc_internal = df_internal[df_internal['GREGoR_CENTER'] == rc]\n",
    "    single_rc_all = df[df['GREGoR_CENTER'] == rc]\n",
    "    \n",
    "    \n",
    "    #print(single_rc_internal)\n",
    "    single_rc_internal_sub =  single_rc_internal[['TOTAL_SAMPLES_PREPARED', 'TOTAL_SAMPLES_SEQUENCING_COMPLETED', \n",
    "                                      'TOTAL_SAMPLES_UPLOADED_TO_ANVIL']]\n",
    "    single_rc_all_sub =  single_rc_all[['TOTAL_SAMPLES_PREPARED', 'TOTAL_SAMPLES_SEQUENCING_COMPLETED', \n",
    "                                      'TOTAL_SAMPLES_UPLOADED_TO_ANVIL']]\n",
    "    \n",
    "\n",
    "    single_rc_internal_sub.columns = ['PREPARED', 'SEQUENCED', 'UPLOADED TO AnVIL']\n",
    "    single_rc_all_sub.columns = ['PREPARED', 'SEQUENCED', 'UPLOADED TO AnVIL']\n",
    "    single_rc_all_sub.loc['SUM'] = single_rc_all_sub.sum()   \n",
    "    #print(single_rc_all_sub)\n",
    "\n",
    "    single_rc_internal_sub.index = ['Internal']\n",
    "    single_rc_all_sub_sum = pd.DataFrame(single_rc_all_sub.loc['SUM'])\n",
    "    single_rc_all_sub_sum.columns = ['External']\n",
    "    #print(single_rc_all_sub_sum)\n",
    "    \n",
    "    single_rc_internal_sub_t = single_rc_internal_sub.transpose()\n",
    "    #print(single_rc_internal_sub_t)\n",
    "    single_rc_all_sub_t = single_rc_all_sub.transpose()\n",
    "    #print(single_rc_all_sub_t)\n",
    "    \n",
    "    sns.barplot(ax = ax, data = single_rc_all_sub_sum, x = single_rc_all_sub_sum.index, y = \"External\", estimator=sum,  color='#bc5c45', edgecolor = 'black')\n",
    "    \n",
    "    sns.barplot(ax = ax, data = single_rc_internal_sub_t, x =  single_rc_internal_sub_t.index, y = \"Internal\", color = \"#076839\", edgecolor = 'black')\n",
    "    plt.title(rc)\n",
    "    plt.xlabel = None\n",
    "    ax.set_ylabel('NO. OF SAMPLES') \n",
    "    \n",
    "    \n",
    "# legend\n",
    "top_bar = mpatches.Patch(color='#076839', label='Internal')\n",
    "bottom_bar = mpatches.Patch(color='#bc5c45', label='External')\n",
    "\n",
    "plt.legend(handles=[top_bar, bottom_bar], facecolor = \"lightgray\", loc = 'lower right', \n",
    "           bbox_to_anchor=(0.5, 0.4, 1.5, 0.6), fontsize = 'large', shadow = True)\n",
    "plt.show()"
   ]
  },
  {
   "cell_type": "markdown",
   "metadata": {},
   "source": [
    "__Figure 4.__ Summary of quarterly reports completed by the GREGoR RCs to track internally and externally processed short read RNA experiments. Bar charts show the number of samples prepared, the number of samples that completed sequencing and the number of samples uploaded to the AnVIL platform. Each bar chart shows RC sample summaries for internally processed samples (dark green) and externally processed samples (brown).  "
   ]
  },
  {
   "cell_type": "markdown",
   "metadata": {},
   "source": [
    "__Table 5. Summary of RC quarterly reports for short read RNA experiments in the current upload cycle.__<br> "
   ]
  },
  {
   "cell_type": "code",
   "execution_count": null,
   "metadata": {},
   "outputs": [],
   "source": [
    "summary_RNAseq_U3_sub = summary_RNAseq_U3[['GREGoR_CENTER', 'EXPERIMENT_LOC','TOTAL_SAMPLES_PREPARED', 'TOTAL_SAMPLES_SEQUENCING_COMPLETED', \n",
    "                                      'TOTAL_SAMPLES_UPLOADED_TO_ANVIL']]\n",
    "summary_RNAseq_U3_sub_by_center = summary_RNAseq_U3_sub.groupby(['GREGoR_CENTER','EXPERIMENT_LOC']).sum()\n",
    "summary_RNAseq_U3_sub_by_center.loc['TOTAL'] = summary_RNAseq_U3_sub_by_center.sum()\n",
    "summary_RNAseq_U3_sub_by_center.index.name = '(GREGoR_CENTER, Internal/External)'\n",
    "summary_RNAseq_U3_sub_by_center"
   ]
  },
  {
   "cell_type": "markdown",
   "metadata": {},
   "source": [
    "__Table 6. The number of exomes and genomes in the  GREGoR Combined Consortium Dataset.__ <br>\n",
    "_Note: These numbers are derived from the experiment_dna_short_read table._ "
   ]
  },
  {
   "cell_type": "code",
   "execution_count": null,
   "metadata": {},
   "outputs": [],
   "source": [
    "experiment_type_by_center = experimentSummary(participant, analyte, experiment_dna_short_read)\n",
    "experiment_type_by_center.index.name = 'GREGoR_CENTER'\n",
    "experiment_type_by_center"
   ]
  },
  {
   "cell_type": "markdown",
   "metadata": {},
   "source": [
    "__Table 7. The number of RNAseq experiments in the  GREGoR Combined Consortium Dataset.__ <br>\n",
    "_Note: These numbers are derived from the experiment_rna_short_read table._ "
   ]
  },
  {
   "cell_type": "code",
   "execution_count": null,
   "metadata": {},
   "outputs": [],
   "source": [
    "experiment_type_by_center = experimentSummary(participant, analyte, experiment_rna_short_read)\n",
    "experiment_type_by_center.index.name = 'GREGoR_CENTER'\n",
    "experiment_type_by_center"
   ]
  },
  {
   "cell_type": "markdown",
   "metadata": {},
   "source": [
    "__Table 8. The number of participants with multiple experiment types__"
   ]
  },
  {
   "cell_type": "code",
   "execution_count": null,
   "metadata": {},
   "outputs": [],
   "source": [
    "df_dna = experimentMerge(participant, analyte, experiment_dna_short_read)\n",
    "df_rna = experimentMerge(participant, analyte, experiment_rna_short_read)"
   ]
  },
  {
   "cell_type": "code",
   "execution_count": null,
   "metadata": {},
   "outputs": [],
   "source": [
    "df_exp_merge = pd.merge(df_dna, df_rna, on = 'participant_id', how = 'outer', indicator = True)\n",
    "count_df = pd.DataFrame(df_exp_merge['_merge'].value_counts())\n",
    "count_df.columns = ['No. OF PARTICPANTS']\n",
    "count_df.index = count_df.index.str.replace('left_only', 'DNA_short_read_only')\n",
    "count_df.index = count_df.index.str.replace('right_only', 'RNA_short_read_only')\n",
    "count_df.index = count_df.index.str.replace('both', 'DNA and RNA short read')\n",
    "count_df.index.name = 'EXPERIMENT TYPE'\n",
    "count_df"
   ]
  },
  {
   "cell_type": "code",
   "execution_count": null,
   "metadata": {},
   "outputs": [],
   "source": [
    "# plot venn\n",
    "plt.figure(figsize=(7,5))\n",
    "venn = venn2(subsets = (2266, 5, 187), set_labels = ('DNA_SHORT_READ', 'RNA_SHORT_READ'), set_colors=(\"#076839\", \"white\"), alpha=0.7)\n",
    "venn2_circles(subsets=(2266, 5, 187), linestyle=\"dashed\", linewidth=2)\n",
    "\n",
    "for text in venn.set_labels:\n",
    "    text.set_fontsize(15)\n",
    "\n",
    "for text in venn.subset_labels:\n",
    "    text.set_fontsize(18)\n",
    "\n",
    "plt.show()"
   ]
  },
  {
   "cell_type": "markdown",
   "metadata": {},
   "source": [
    "__Figure 5:__ Venn diagram showing the number of participants with only DNA short read experiments (N=2266), the number of participants with only RNA short read experiments (N=5) and number of participants with both (N=187). "
   ]
  },
  {
   "cell_type": "markdown",
   "metadata": {},
   "source": [
    "__Table 9. The number of aligned DNA sequencing files (i.e. BAMS or CRAMs) in the GREGoR Combined Consortium Dataset.__ <br>\n",
    "_Note: These numbers are derived from the 'aligned_dna_short_read' data table._"
   ]
  },
  {
   "cell_type": "code",
   "execution_count": null,
   "metadata": {},
   "outputs": [],
   "source": [
    "df = experimentMerge(participant, analyte, experiment_dna_short_read)\n",
    "participant_aligned = pd.merge(df, aligned_dna_short_read, left_index = True, right_on='experiment_dna_short_read_id')\n",
    "aligned_files_by_center = participant_aligned.groupby(by=['gregor_center'])[['aligned_dna_short_read_file']].nunique()\n",
    "aligned_files_by_center.loc[\"Total\"] = aligned_files_by_center.sum()\n",
    "aligned_files_by_center.columns = ['No. of short read DNA files']\n",
    "    \n",
    "formatIndex(aligned_files_by_center)\n",
    "aligned_files_by_center.columns = aligned_files_by_center.columns.str.upper()\n",
    "aligned_files_by_center.index.name = 'GREGoR_CENTER'\n",
    "aligned_files_by_center"
   ]
  },
  {
   "cell_type": "markdown",
   "metadata": {},
   "source": [
    " __Table 10. The number of aligned RNA sequencing files (i.e. BAMS or CRAMs) in the GREGoR Combined Consortium Dataset.__ <br> \n",
    "_Note: These numbers are derived from the 'aligned_rna_short_read' data table._"
   ]
  },
  {
   "cell_type": "code",
   "execution_count": null,
   "metadata": {},
   "outputs": [],
   "source": [
    "df = experimentMerge(participant, analyte, experiment_rna_short_read)\n",
    "participant_aligned = pd.merge(df, aligned_rna_short_read, left_index = True, right_on='experiment_rna_short_read_id')\n",
    "aligned_files_by_center = participant_aligned.groupby(by=['gregor_center'])[['aligned_rna_short_read_file']].nunique()\n",
    "aligned_files_by_center.loc[\"Total\"] = aligned_files_by_center.sum()\n",
    "aligned_files_by_center.columns = ['No. of short read RNA files']\n",
    "    \n",
    "formatIndex(aligned_files_by_center)\n",
    "aligned_files_by_center.columns = aligned_files_by_center.columns.str.upper()\n",
    "aligned_files_by_center.index.name = 'GREGoR_CENTER'\n",
    "aligned_files_by_center"
   ]
  },
  {
   "cell_type": "markdown",
   "metadata": {},
   "source": [
    "## Phenotypes in the GREGoR Combined Consortium Dataset\n",
    "\n",
    "The section below summarizes phenotype information in the participant and phenotype Combined Consortium data tables hosted on AnVIL.  "
   ]
  },
  {
   "cell_type": "markdown",
   "metadata": {},
   "source": [
    "__Table 11. Summary of 'affected status' in the GREGoR Combined Consortium Dataset__"
   ]
  },
  {
   "cell_type": "code",
   "execution_count": null,
   "metadata": {},
   "outputs": [],
   "source": [
    "affected_data = summarizeData(participant, 'affected_status')\n",
    "affected_data.loc['TOTAL'] = affected_data.sum()\n",
    "affected_data"
   ]
  },
  {
   "cell_type": "markdown",
   "metadata": {},
   "source": [
    "__Phenotype summary__"
   ]
  },
  {
   "cell_type": "code",
   "execution_count": null,
   "metadata": {},
   "outputs": [],
   "source": [
    "unique_phenotypes = phenotype[~phenotype['term_id'].duplicated()]\n",
    "participant_terms = pd.merge(participant,phenotype, left_index = True, right_on = 'participant_id')\n",
    "\n",
    "#unique_phenotypes\n",
    "#print('Number of phenotype terms: ' + str(len(phenotype)))\n",
    "#print('Number of unique phenotype terms: ' + str(len(unique_phenotypes)))\n",
    "#print('Number of participants with phenotype terms: ' + str(participant_terms['participant_id'].nunique()))\n"
   ]
  },
  {
   "cell_type": "markdown",
   "metadata": {},
   "source": [
    "Number of phenotype terms: 5806 <br>\n",
    "Number of unique phenotype terms: 1457 <br>\n",
    "Number of participants with phenotype terms: 1274 <br>"
   ]
  },
  {
   "cell_type": "markdown",
   "metadata": {},
   "source": [
    "__Table 12. The most common phenotype terms in the GREGoR Combined Consortium Dataset__"
   ]
  },
  {
   "cell_type": "code",
   "execution_count": null,
   "metadata": {},
   "outputs": [],
   "source": [
    "term_count = pd.DataFrame(phenotype.groupby('term_id', dropna=False)['participant_id'].count())\n",
    "term_count_sorted = term_count.sort_values('participant_id', ascending=False)\n",
    "term_count_sorted[\"term\"] = term_count_sorted.index\n",
    "term_count_sorted.reset_index(drop=True, inplace = True)\n",
    "term_name = ['Global developmental delay', 'Seizure','Hypotonia', 'Intellectual Disability',\n",
    "             'Muscle weakness', 'Morphological central nervous system abnormality','Bicuspid aortic valve', \n",
    "            'Thoracic aortic aneurysm','Microcephaly', 'Abnormal cerebral cortex morphology']\n",
    "term_name = pd.DataFrame(term_name)\n",
    "\n",
    "term_count_sorted_top10 = term_count_sorted[:10]\n",
    "frames = [term_count_sorted_top10, term_name]\n",
    "term_count_sorted_top10 = pd.concat(frames, axis = 1)\n",
    "term_count_sorted_top10 = term_count_sorted_top10[['term', 0, 'participant_id']]\n",
    "\n",
    "term_count_sorted_top10.columns = ['term_id', 'term_name', 'no. of participants']\n",
    "term_count_sorted_top10.columns = term_count_sorted_top10.columns.str.upper()\n",
    "term_count_sorted_top10\n",
    "term_count_sorted_top10.reset_index(drop=True, inplace = True)"
   ]
  },
  {
   "cell_type": "code",
   "execution_count": null,
   "metadata": {},
   "outputs": [],
   "source": [
    "term_count_sorted_top10"
   ]
  },
  {
   "cell_type": "markdown",
   "metadata": {},
   "source": [
    "## \"Data completeness\" in the GREGoR Combined Consortium Dataset\n",
    "\n",
    "The section below provides a summary of participants with sequencing files and phenotype data"
   ]
  },
  {
   "cell_type": "code",
   "execution_count": null,
   "metadata": {},
   "outputs": [],
   "source": [
    "# do relevant subsetting\n",
    "df = experimentMerge(participant, analyte, experiment_dna_short_read)\n",
    "participant_aligned = pd.merge(df, aligned_dna_short_read, left_index = True, right_on='experiment_dna_short_read_id')\n",
    "\n",
    "probands = participant[participant['proband_relationship'] == 'Self']\n",
    "other_affecteds = participant[(participant['proband_relationship'] != 'Self') & (participant['affected_status'] == 'Affected')] # other affecteds that are not probands\n",
    "unaffecteds = participant[(participant['proband_relationship'] != 'Self') & (participant['affected_status'] == 'Unaffected')]\n",
    "\n",
    "proband_terms = phenotypeMerge(probands, phenotype)\n",
    "other_affected_terms = phenotypeMerge(other_affecteds, phenotype)\n",
    "unaffected_terms = phenotypeMerge(unaffecteds, phenotype)\n",
    "\n",
    "seq_proband = pd.merge(probands, participant_aligned, left_index = True, right_on = 'participant_id') # sequenced probands with HPO terms\n",
    "seq_affected = pd.merge(other_affecteds, participant_aligned, left_index = True, right_on = 'participant_id') # sequenced probands with HPO terms\n",
    "seq_unaffected = pd.merge(unaffecteds, participant_aligned, left_index = True, right_on = 'participant_id') \n",
    "\n",
    "\n",
    "seq_proband_terms = pd.merge(proband_terms, participant_aligned, left_on = 'participant_id', right_on = 'participant_id') \n",
    "seq_affected_terms = pd.merge(other_affected_terms, participant_aligned, left_index = True, right_on = 'participant_id') \n",
    "seq_unaffected_terms = pd.merge(unaffected_terms, participant_aligned, left_index = True, right_on = 'participant_id')"
   ]
  },
  {
   "cell_type": "code",
   "execution_count": null,
   "metadata": {},
   "outputs": [],
   "source": [
    "datacomp_series = { 'TOTAL': [len(probands), len(other_affecteds), len(unaffecteds)], \n",
    "                'SEQUENCED' : [len(seq_proband), len(seq_affected), len(seq_unaffected)],\n",
    "                'SEQUENCED_WITH_PHENOTYPE' : [len(seq_proband_terms), len(seq_affected_terms), \n",
    "                                              len(seq_unaffected_terms)]\n",
    "               }"
   ]
  },
  {
   "cell_type": "markdown",
   "metadata": {},
   "source": [
    "__Table 13. The number of 'aligned DNA short read files' and phenotype terms for probands, affected and unaffected relatives__\n",
    "\n"
   ]
  },
  {
   "cell_type": "code",
   "execution_count": null,
   "metadata": {},
   "outputs": [],
   "source": [
    "datacomp_df = pd.DataFrame(datacomp_series)\n",
    "datacomp_df.index = ['PROBANDS', 'OTHER_AFFECTED', 'UNAFFECTED']\n",
    "datacomp_df\n"
   ]
  }
 ],
 "metadata": {
  "kernelspec": {
   "display_name": "Python 3",
   "language": "python",
   "name": "python3"
  },
  "language_info": {
   "codemirror_mode": {
    "name": "ipython",
    "version": 3
   },
   "file_extension": ".py",
   "mimetype": "text/x-python",
   "name": "python",
   "nbconvert_exporter": "python",
   "pygments_lexer": "ipython3",
   "version": "3.7.12"
  },
  "toc": {
   "base_numbering": 1,
   "nav_menu": {},
   "number_sections": true,
   "sideBar": true,
   "skip_h1_title": false,
   "title_cell": "Table of Contents",
   "title_sidebar": "Contents",
   "toc_cell": false,
   "toc_position": {},
   "toc_section_display": true,
   "toc_window_display": false
  }
 },
 "nbformat": 4,
 "nbformat_minor": 2
}
