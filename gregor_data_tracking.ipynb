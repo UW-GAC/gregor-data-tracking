{
 "cells": [
  {
   "cell_type": "markdown",
   "metadata": {},
   "source": [
    "### GREGoR data tracking\n",
    "__author: DCC__ <br>\n",
    "__created: 04/17/2023__ <br>"
   ]
  },
  {
   "cell_type": "code",
   "execution_count": null,
   "metadata": {
    "tags": [
     "hide_code"
    ]
   },
   "outputs": [],
   "source": [
    "from firecloud import api as fapi\n",
    "import os\n",
    "import io\n",
    "import pandas as pd\n",
    "import numpy as np\n",
    "import matplotlib.pyplot as plt\n",
    "import seaborn as sns\n",
    "from functools import reduce"
   ]
  },
  {
   "cell_type": "code",
   "execution_count": null,
   "metadata": {
    "tags": [
     "hide_code"
    ]
   },
   "outputs": [],
   "source": [
    "project = os.environ['WORKSPACE_NAMESPACE']\n",
    "workspace = os.environ['WORKSPACE_NAME']\n",
    "bucket = os.environ['WORKSPACE_BUCKET'] + \"/\" \n",
    "\n",
    "print(\"Terra Billing project: \" + project)\n",
    "print(\"Workspace: \" + workspace)\n",
    "print(\"Workspace storage bucket: \" + bucket)"
   ]
  },
  {
   "cell_type": "code",
   "execution_count": null,
   "metadata": {
    "code_folding": []
   },
   "outputs": [],
   "source": [
    "# functions\n",
    "def readDatatable(project, workspace, table): \n",
    "    new_table = pd.read_csv(io.StringIO(fapi.get_entities_tsv(project, workspace, table, \n",
    "                                                              model = \"flexible\").text), sep='\\t')\n",
    "    return new_table\n",
    "\n",
    "def convertTuple(tup):\n",
    "    str = ''.join(tup)\n",
    "    return str\n",
    "\n",
    "def formatIndex(df):\n",
    "    mylist = []\n",
    "    for i in df.index:\n",
    "        if type(i) == tuple: \n",
    "            str = '_'.join(i)\n",
    "            mylist.append(str)\n",
    "        else: \n",
    "            mylist.append(i)\n",
    "    df.index = mylist\n",
    "    df.index = df.index.str.upper()\n",
    "    return df\n",
    "\n",
    "def formatColumns(df):\n",
    "    df.columns = df.columns.str.upper()\n",
    "    return df\n",
    "\n",
    "def participantSummary(participant_data): \n",
    "    participant_data = participant_data.groupby(by=['gregor_center', 'consent_code'], as_index = True)[['entity:participant_id', 'family_id']].nunique()\n",
    "    participant_data.loc[\"Total\"] = participant_data.sum()\n",
    "    participant_data.columns = ['participants', 'families']\n",
    "    formatIndex(participant_data)\n",
    "    formatColumns(participant_data)\n",
    "    return participant_data\n",
    "\n",
    "def familySummary(participant_data):\n",
    "    family_size = pd.DataFrame(participant_data.groupby(by=['family_id'])['entity:participant_id'].count())\n",
    "    return family_size\n",
    "\n",
    "def probandrelSummary(participant_data): \n",
    "    proband_rel_data =  pd.DataFrame(participant_data.groupby(by=['proband_relationship'], \n",
    "                                                        dropna=False)['entity:participant_id'].count()) \n",
    "    proband_rel_data.columns = ['No. of participants']\n",
    "    proband_rel_data.index = proband_rel_data.index.str.replace('Self', 'Proband')\n",
    "    proband_rel_data.index = proband_rel_data.index.str.upper()\n",
    "    proband_rel_data.index.name = None\n",
    "    formatColumns(proband_rel_data)\n",
    "    return proband_rel_data\n",
    "\n",
    "def affectedSummary(participant_data): \n",
    "    affected_data =  pd.DataFrame(participant_data.groupby(by=['affected_status'], \n",
    "                                                        dropna=False)['entity:participant_id'].count())\n",
    "    affected_data.columns = ['No. of participants']\n",
    "    formatIndex(affected_data)\n",
    "    formatColumns(affected_data)\n",
    "    return affected_data\n",
    "\n",
    "def aligneddataSummary(participant_data, analyte_data, experiment_data, aligned_data):\n",
    "    participant_analyte = pd.merge(participant_data, analyte_data, left_on = 'entity:participant_id', right_on='participant_id')\n",
    "    participant_analyte_experiment = pd.merge(participant_analyte, experiment_data, left_on = 'entity:analyte_id', right_on='analyte_id')\n",
    "    participant_aligned_data = pd.merge(participant_analyte_experiment, aligned_data, \n",
    "                                        left_on = 'entity:experiment_dna_short_read_id', right_on = 'experiment_dna_short_read_id')\n",
    "    \n",
    "    return participant_aligned_data\n",
    "\n",
    "def experimentSummary(participant_aligned_data):\n",
    "    experiment_type = participant_aligned_data.groupby(by=['gregor_center','experiment_type'])[['aligned_dna_short_read_file']].nunique()\n",
    "    experiment_type.columns = ['No. of experiment types']\n",
    "    experiment_type.loc[\"Total\"] = experiment_type.sum()\n",
    "    formatIndex(experiment_type)\n",
    "    formatColumns(experiment_type)\n",
    "    return experiment_type\n",
    "\n",
    "def probandsData(participant_data):\n",
    "    probands =  participant_data[(participant_data['affected_status'] == 'Affected') & (participant_data['proband_relationship'] == 'Self')]\n",
    "    return probands\n",
    "\n",
    "def affectedData(participant_data):\n",
    "    affecteds = participant_data[(participant_data['affected_status'] == 'Affected') & (participant_data['proband_relationship'] != 'Self')]\n",
    "    return affecteds\n",
    "\n",
    "def unaffectedData(participant_data):\n",
    "    unaffecteds = participant_data[participant_data['affected_status'] == 'Unaffected']\n",
    "    return unaffecteds\n",
    "\n",
    "def phenotermsSummary(phenotype_data, participant_subset):\n",
    "    participant_terms = pd.DataFrame(phenotype_data.groupby('participant_id')['term_id'].count())\n",
    "    participant_subset_terms = participant_terms.merge(participant_subset, left_index = True, right_on = 'entity:participant_id')\n",
    "    return(participant_subset_terms)\n",
    "\n",
    "def getLength(df):\n",
    "    len_df = len(df)\n",
    "    return len_df\n",
    "\n",
    "def centerPheno(participant_data, phenotype_data, center): \n",
    "    participant_terms = participant.merge(phenotype, left_on = 'entity:participant_id', right_on = 'participant_id')\n",
    "    center_terms = participant_terms[participant_terms['gregor_center'] == center]\n",
    "    return center_terms\n",
    "\n",
    "\n",
    "def overlapPheno(participant_data, phenotype_data, centerA, centerB):\n",
    "    participant_terms = participant.merge(phenotype, left_on = 'entity:participant_id', right_on = 'participant_id')\n",
    "    centerA_terms = participant_terms[participant_terms['gregor_center'] == centerA]\n",
    "    centerB_terms = participant_terms[participant_terms['gregor_center'] == centerB]\n",
    "    overlap_terms = centerA_terms.merge(centerB_terms, on = 'term_id', how = \"inner\", indicator = True)\n",
    "    return overlap_terms"
   ]
  },
  {
   "cell_type": "code",
   "execution_count": null,
   "metadata": {
    "code_folding": [],
    "tags": [
     "hide-input"
    ]
   },
   "outputs": [],
   "source": [
    "# read in data tables\n",
    "participant = readDatatable(project, workspace, 'participant')\n",
    "family = readDatatable(project, workspace, 'family')\n",
    "phenotype = readDatatable(project, workspace, 'phenotype')\n",
    "analyte = readDatatable(project, workspace, 'analyte')\n",
    "experiment_dna_short_read = readDatatable(project, workspace, 'experiment_dna_short_read')\n",
    "aligned_dna_short_read = readDatatable(project, workspace, 'aligned_dna_short_read')"
   ]
  },
  {
   "cell_type": "markdown",
   "metadata": {},
   "source": [
    "#### Summary of participant and family data tables for the GREGoR combined dataset\n",
    "##### Summary of participants and families "
   ]
  },
  {
   "cell_type": "code",
   "execution_count": null,
   "metadata": {
    "code_folding": [],
    "tags": [
     "hide_code"
    ]
   },
   "outputs": [],
   "source": [
    "participant_data = participantSummary(participant)\n",
    "participant_data"
   ]
  },
  {
   "cell_type": "markdown",
   "metadata": {},
   "source": [
    "##### Summary of family size"
   ]
  },
  {
   "cell_type": "markdown",
   "metadata": {},
   "source": [
    "_Distribution of family size in the GREGoR combined dataset_"
   ]
  },
  {
   "cell_type": "code",
   "execution_count": null,
   "metadata": {},
   "outputs": [],
   "source": [
    "family_size = familySummary(participant)\n",
    "g=sns.histplot(data=family_size, discrete = True, palette = 'Paired', legend=False)\n",
    "g.set_xticks(range(1,20))\n",
    "plt.xlabel('family size')\n",
    "plt.ylabel('count')\n",
    "plt.show()"
   ]
  },
  {
   "cell_type": "markdown",
   "metadata": {},
   "source": [
    "##### Summary of participant 'proband_relationship'"
   ]
  },
  {
   "cell_type": "code",
   "execution_count": null,
   "metadata": {
    "code_folding": []
   },
   "outputs": [],
   "source": [
    "proband_rel_data = probandrelSummary(participant)\n",
    "proband_rel_data"
   ]
  },
  {
   "cell_type": "code",
   "execution_count": null,
   "metadata": {},
   "outputs": [],
   "source": [
    "df = proband_rel_data.loc[proband_rel_data['NO. OF PARTICIPANTS'] > 7]\n",
    "df = df.replace(22, 48)"
   ]
  },
  {
   "cell_type": "code",
   "execution_count": null,
   "metadata": {},
   "outputs": [],
   "source": [
    "labels = df.index.str.lower()\n",
    "color = sns.color_palette(\"Paired\", 4) \n",
    "plt.figure(figsize=(5,5))\n",
    "plt.pie(df['NO. OF PARTICIPANTS'], labels = labels, colors = color, labeldistance=1.25, \n",
    "        radius=1.25, \n",
    "        textprops={'fontsize': 15, 'fontname' : 'serif', 'ha' : 'center'},\n",
    "        wedgeprops={ 'linewidth' : 1.5, 'edgecolor' : \"white\" })\n",
    "plt.tight_layout()"
   ]
  },
  {
   "cell_type": "markdown",
   "metadata": {},
   "source": [
    "##### Summary of participant 'affected_status'"
   ]
  },
  {
   "cell_type": "code",
   "execution_count": null,
   "metadata": {
    "code_folding": []
   },
   "outputs": [],
   "source": [
    "affected_data = affectedSummary(participant)\n",
    "affected_data"
   ]
  },
  {
   "cell_type": "markdown",
   "metadata": {},
   "source": [
    "#### Summary of experiment and aligned sequencing file data tables in the GREGoR combined dataset "
   ]
  },
  {
   "cell_type": "markdown",
   "metadata": {},
   "source": [
    "##### Number of aligned sequencing files "
   ]
  },
  {
   "cell_type": "code",
   "execution_count": null,
   "metadata": {
    "code_folding": []
   },
   "outputs": [],
   "source": [
    "participant_aligned_data = aligneddataSummary(participant, analyte, experiment_dna_short_read, aligned_dna_short_read)\n",
    "aligned_files_by_center = participant_aligned_data.groupby(by=['gregor_center', 'consent_code'])[['aligned_dna_short_read_file']].nunique()\n",
    "aligned_files_by_center.loc[\"Total\"] = aligned_files_by_center.sum()\n",
    "aligned_files_by_center.columns = ['No. of aligned files']\n",
    "    \n",
    "formatIndex(aligned_files_by_center)\n",
    "formatColumns(aligned_files_by_center)"
   ]
  },
  {
   "cell_type": "markdown",
   "metadata": {},
   "source": [
    "##### Number of whole genomes vs whole exome sequencing"
   ]
  },
  {
   "cell_type": "code",
   "execution_count": null,
   "metadata": {},
   "outputs": [],
   "source": [
    "experiment_type = participant_aligned_data.groupby(by=['experiment_type'])[['aligned_dna_short_read_file']].nunique()\n",
    "experiment_type.columns = ['NO. OF EXPERIMENT TYPES']\n",
    "#experiment_type.loc['Total'] = experiment_type.sum()\n",
    "formatColumns(experiment_type)\n",
    "formatIndex(experiment_type)"
   ]
  },
  {
   "cell_type": "code",
   "execution_count": null,
   "metadata": {},
   "outputs": [],
   "source": [
    "labels = experiment_type.index.str.lower()\n",
    "color = sns.color_palette(\"Paired\", 4) \n",
    "fig, ax = plt.subplots(figsize=(4, 4))\n",
    "\n",
    "patches, texts, pcts = ax.pie(experiment_type['NO. OF EXPERIMENT TYPES'], labels = labels,\n",
    "        colors = color, labeldistance=1.2, radius=1.2, autopct='%1.1f%%', textprops={'fontsize': 14, 'ha' : 'center'},\n",
    "        wedgeprops={ 'linewidth' : 3, 'edgecolor' : \"white\" })\n",
    "plt.setp(pcts, color='black', fontweight=400)\n",
    "plt.setp(texts, color = \"black\", fontweight=500)\n",
    "\n",
    "plt.tight_layout()"
   ]
  },
  {
   "cell_type": "markdown",
   "metadata": {},
   "source": [
    "_Experiment type by GREGoR Center_"
   ]
  },
  {
   "cell_type": "code",
   "execution_count": null,
   "metadata": {},
   "outputs": [],
   "source": [
    "experiment_type_by_center = experimentSummary(participant_aligned_data)\n",
    "experiment_type_by_center"
   ]
  },
  {
   "cell_type": "markdown",
   "metadata": {},
   "source": [
    "#### Summary of phenotype data in the GREGoR combined dataset"
   ]
  },
  {
   "cell_type": "code",
   "execution_count": null,
   "metadata": {},
   "outputs": [],
   "source": [
    "unique_phenotypes = pd.DataFrame(phenotype.groupby('term_id')['participant_id'].nunique())\n",
    "participant_terms = participant.merge(phenotype, left_on = 'entity:participant_id', right_on = 'participant_id')\n",
    "\n",
    "print('Number of phenotype terms: ' + str(len(phenotype)))\n",
    "print('Number of unique phenotype terms: ' + str(len(unique_phenotypes)))\n",
    "print('Number of participants with phenotype terms: ' + str(participant_terms['entity:participant_id'].nunique()))"
   ]
  },
  {
   "cell_type": "markdown",
   "metadata": {},
   "source": [
    "_Unique HPO terms overlapping across research centers_ "
   ]
  },
  {
   "cell_type": "code",
   "execution_count": null,
   "metadata": {},
   "outputs": [],
   "source": [
    "centers = ['BCM', 'BROAD', 'CNH_I', 'GSS', 'UW_CRDR']\n",
    "\n",
    "BCM = []\n",
    "BROAD = []\n",
    "CNH_I = []\n",
    "GSS = []\n",
    "UW_CRDR = []\n",
    "\n",
    "for i in centers:\n",
    "    overlap = overlapPheno(participant, phenotype, 'BCM', i)\n",
    "    num_overlap = overlap['term_id'].nunique()\n",
    "    BCM.append(num_overlap)\n",
    "    \n",
    "    overlap = overlapPheno(participant, phenotype, 'BROAD', i)\n",
    "    num_overlap = overlap['term_id'].nunique()\n",
    "    BROAD.append(num_overlap)\n",
    "    \n",
    "    overlap = overlapPheno(participant, phenotype, 'CNH_I', i)\n",
    "    num_overlap = overlap['term_id'].nunique()\n",
    "    CNH_I.append(num_overlap)\n",
    "    \n",
    "    overlap = overlapPheno(participant, phenotype, 'GSS', i)\n",
    "    num_overlap = overlap['term_id'].nunique()\n",
    "    GSS.append(num_overlap)\n",
    "    \n",
    "    overlap = overlapPheno(participant, phenotype, 'UW_CRDR', i)\n",
    "    num_overlap = overlap['term_id'].nunique()\n",
    "    UW_CRDR.append(num_overlap)\n",
    "\n",
    "center_list = [BCM, BROAD, CNH_I, GSS, UW_CRDR]\n",
    "center_df = pd.DataFrame(center_list)\n",
    "center_df.columns = ['BCM', 'BROAD', 'CNH_I', 'GSS', 'UW_CRDR']\n",
    "center_df.index = ['BCM', 'BROAD', 'CNH_I', 'GSS', 'UW_CRDR']\n",
    "\n",
    "center_df.replace([395,274, 509, 374, 80], '-')"
   ]
  },
  {
   "cell_type": "markdown",
   "metadata": {},
   "source": [
    "#### Summary of 'data completeness' in the GREGoR combined dataset"
   ]
  },
  {
   "cell_type": "code",
   "execution_count": null,
   "metadata": {
    "code_folding": []
   },
   "outputs": [],
   "source": [
    "probands = probandsData(participant)\n",
    "other_affecteds = affectedData(participant) # other affecteds that are not probands\n",
    "unaffecteds = unaffectedData(participant)"
   ]
  },
  {
   "cell_type": "code",
   "execution_count": null,
   "metadata": {
    "code_folding": []
   },
   "outputs": [],
   "source": [
    "proband_terms = phenotermsSummary(phenotype_data=phenotype, participant_subset=probands)\n",
    "other_affected_terms = phenotermsSummary(phenotype_data=phenotype, participant_subset=other_affecteds)\n",
    "unaffected_terms = phenotermsSummary(phenotype_data=phenotype, participant_subset=unaffecteds)"
   ]
  },
  {
   "cell_type": "code",
   "execution_count": null,
   "metadata": {},
   "outputs": [],
   "source": [
    "seq_proband = probands.merge(participant_aligned_data, on = 'entity:participant_id') # sequenced probands with HPO terms\n",
    "seq_affected = other_affecteds.merge(participant_aligned_data, on = 'entity:participant_id') \n",
    "seq_unaffected = unaffecteds.merge(participant_aligned_data, on = 'entity:participant_id') "
   ]
  },
  {
   "cell_type": "code",
   "execution_count": null,
   "metadata": {},
   "outputs": [],
   "source": [
    "seq_proband_terms = proband_terms.merge(participant_aligned_data, on = 'entity:participant_id') # sequenced probands with HPO terms\n",
    "seq_affected_terms = other_affected_terms.merge(participant_aligned_data, on = 'entity:participant_id') \n",
    "seq_unaffected_terms = unaffected_terms.merge(participant_aligned_data, on = 'entity:participant_id') "
   ]
  },
  {
   "cell_type": "markdown",
   "metadata": {},
   "source": [
    "##### Participants with sequencing files and phenotype data"
   ]
  },
  {
   "cell_type": "markdown",
   "metadata": {},
   "source": [
    "_The number of participants with 'aligned DNA short read files' and phenotype terms_"
   ]
  },
  {
   "cell_type": "code",
   "execution_count": null,
   "metadata": {
    "code_folding": []
   },
   "outputs": [],
   "source": [
    "datacomp_series = { 'TOTAL': [getLength(probands), getLength(other_affecteds), getLength(unaffecteds)], \n",
    "                'SEQUENCED' : [getLength(seq_proband), getLength(seq_affected), getLength(seq_unaffected)],\n",
    "                'SEQUENCED_WITH_PHENOTYPE' : [getLength(seq_proband_terms), getLength(seq_affected_terms), \n",
    "                                              getLength(seq_unaffected_terms)]\n",
    "               }"
   ]
  },
  {
   "cell_type": "code",
   "execution_count": null,
   "metadata": {},
   "outputs": [],
   "source": [
    "datacomp_df = pd.DataFrame(datacomp_series)\n",
    "datacomp_df.index = ['PROBANDS', 'OTHER_AFFECTED', 'UNAFFECTED']\n",
    "datacomp_df"
   ]
  }
 ],
 "metadata": {
  "kernelspec": {
   "display_name": "Python 3",
   "language": "python",
   "name": "python3"
  },
  "language_info": {
   "codemirror_mode": {
    "name": "ipython",
    "version": 3
   },
   "file_extension": ".py",
   "mimetype": "text/x-python",
   "name": "python",
   "nbconvert_exporter": "python",
   "pygments_lexer": "ipython3",
   "version": "3.7.12"
  },
  "toc": {
   "base_numbering": 1,
   "nav_menu": {},
   "number_sections": true,
   "sideBar": true,
   "skip_h1_title": false,
   "title_cell": "Table of Contents",
   "title_sidebar": "Contents",
   "toc_cell": false,
   "toc_position": {},
   "toc_section_display": true,
   "toc_window_display": false
  }
 },
 "nbformat": 4,
 "nbformat_minor": 2
}
