{
 "cells": [
  {
   "cell_type": "markdown",
   "metadata": {},
   "source": [
    "# GREGoR QC notebook\n",
    "created by: DCC <br>\n",
    "last edited: 07-24-23"
   ]
  },
  {
   "cell_type": "code",
   "execution_count": null,
   "metadata": {},
   "outputs": [],
   "source": [
    "# install modules\n",
    "# %pip install terra-pandas"
   ]
  },
  {
   "cell_type": "code",
   "execution_count": null,
   "metadata": {},
   "outputs": [],
   "source": [
    "# import modules\n",
    "import os\n",
    "import io\n",
    "import pandas as pd\n",
    "import terra_pandas as tp\n",
    "import numpy as np\n",
    "import matplotlib.pyplot as plt\n",
    "import matplotlib.patches as mpatches\n",
    "import matplotlib.gridspec as gridspec\n",
    "import seaborn as sns\n",
    "from functools import reduce"
   ]
  },
  {
   "cell_type": "code",
   "execution_count": null,
   "metadata": {},
   "outputs": [],
   "source": [
    "project = os.environ['WORKSPACE_NAMESPACE']\n",
    "workspace = os.environ['WORKSPACE_NAME']\n",
    "bucket = os.environ['WORKSPACE_BUCKET'] + \"/\" \n",
    "current_upload_cycle = 'U03'\n",
    "\n",
    "print(\"Terra Billing project: \" + project)\n",
    "print(\"Workspace: \" + workspace)\n",
    "print(\"Workspace storage bucket: \" + bucket)\n",
    "print(\"GREGoR Upload Cycle: \" + current_upload_cycle)"
   ]
  },
  {
   "cell_type": "code",
   "execution_count": null,
   "metadata": {},
   "outputs": [],
   "source": [
    "# functions\n",
    "def readDatatable(data_table, project, workspace): \n",
    "    new_table = tp.table_to_dataframe(data_table, workspace_namespace=project, workspace=workspace)\n",
    "    return new_table\n",
    "\n",
    "def gregorUploadWorkspaces(upload_cycle): \n",
    "    upload_workspaces = ['AnVIL_GREGoR_BCM_' + upload_cycle + '_HMB',\n",
    "                         'AnVIL_GREGoR_BCM_' + upload_cycle + '_GRU',\n",
    "                         'AnVIL_GREGoR_BROAD_' + upload_cycle + '_HMB',\n",
    "                         'AnVIL_GREGoR_BROAD_' + upload_cycle + '_GRU',\n",
    "                         'AnVIL_GREGoR_CNH_I_' + upload_cycle + '_HMB',\n",
    "                         'AnVIL_GREGoR_CNH_I_' + upload_cycle + '_GRU',\n",
    "                         'AnVIL_GREGoR_GSS_' + upload_cycle + '_HMB',\n",
    "                         'AnVIL_GREGoR_GSS_' + upload_cycle + '_GRU',\n",
    "                         'AnVIL_GREGoR_UW_CRDR_' + upload_cycle + '_HMB',\n",
    "                         'AnVIL_GREGoR_UW_CRDR_' + upload_cycle + '_GRU'\n",
    "                         ]\n",
    "    return upload_workspaces\n",
    "\n",
    "def combineDataTable(table, upload_workspaces):\n",
    "    project = 'anvil-datastorage'    \n",
    "    combined_df = pd.DataFrame([])\n",
    "    for ws in upload_workspaces:\n",
    "        try: \n",
    "            df = readDatatable(table, project, ws)\n",
    "            print(ws)\n",
    "            print(project)\n",
    "            print(df.shape)\n",
    "            combined_df = combined_df.append(df)\n",
    "        except: \n",
    "            print(table + ' data table NOT FOUND for: ' + ws)\n",
    "    return combined_df\n",
    "\n",
    "def compareDataFrames(dfA, dfB, cycleA, cycleB):\n",
    "    labels_A = dfA.index.to_list()\n",
    "    labels_B = dfB.index.to_list()\n",
    "    \n",
    "    dfA_subset = dfA.loc[dfA.index.intersection(labels_B)]\n",
    "    dfB_subset = dfB.loc[dfB.index.intersection(labels_A)]\n",
    "    \n",
    "    print(dfA_subset.shape)\n",
    "    print(dfB_subset.shape)\n",
    "    df_comp = dfA_subset.compare(dfB_subset, \n",
    "                                      align_axis = 0, keep_equal = False, keep_shape = True)\n",
    "    df_comp.reset_index(inplace = True)\n",
    "    df_comp['level_1'].replace('self', cycleA, inplace = True)\n",
    "    df_comp['level_1'].replace('other', cycleB, inplace = True)\n",
    "    return df_comp\n",
    "\n",
    "def compareDiffOnly(dfA, dfB, cycleA, cycleB):\n",
    "    labels_A = dfA.index.to_list()\n",
    "    labels_B = dfB.index.to_list()\n",
    "    \n",
    "    dfA_subset = dfA.loc[dfA.index.intersection(labels_B)]\n",
    "    dfB_subset = dfB.loc[dfB.index.intersection(labels_A)]\n",
    "    \n",
    "    #print(dfA_subset.shape)\n",
    "    #print(dfB_subset.shape)\n",
    "    df_comp = dfA_subset.compare(dfB_subset, \n",
    "                                      align_axis = 1, keep_equal = False, keep_shape = False)\n",
    "    #df_comp.reset_index(inplace = True)\n",
    "    df_comp.columns.set_levels([cycleA, cycleB], level=1, inplace=True)\n",
    "    return df_comp\n",
    "\n",
    "def diffSummary(df):\n",
    "    df_diff = pd.DataFrame(df.count(axis = 0)/2)\n",
    "    df_diff.columns = [\"count\"]\n",
    "    df_diff['%'] = (df_diff[\"count\"]/(len(df)/2)) * 100\n",
    "    df_diff = df_diff.round(2)\n",
    "    df_diff['%'].replace(100.00, '-', inplace = True)\n",
    "    return df_diff\n",
    "    "
   ]
  },
  {
   "cell_type": "markdown",
   "metadata": {},
   "source": [
    "## Compare data tables from previous upload cycle to current upload cycle"
   ]
  },
  {
   "cell_type": "code",
   "execution_count": null,
   "metadata": {},
   "outputs": [],
   "source": [
    "# read in AnVIL tables from RC U02 upload workspaces\n",
    "upload_workspaces_U02 = gregorUploadWorkspaces('U02')\n",
    "\n",
    "participant_U02 = combineDataTable('participant', upload_workspaces_U02)\n",
    "family_U02 = combineDataTable('family', upload_workspaces_U02)\n",
    "phenotype_U02 = combineDataTable('phenotype', upload_workspaces_U02)\n",
    "analyte_U02 = combineDataTable('analyte', upload_workspaces_U02)\n",
    "experiment_dna_short_read_U02 = combineDataTable('experiment_dna_short_read', upload_workspaces_U02)\n",
    "# experiment_rna_short_read_U02= combineDataTable('experiment_rna_short_read', upload_workspaces_U02)\n",
    "aligned_dna_short_read_U02 = combineDataTable('aligned_dna_short_read', upload_workspaces_U02)\n",
    "# aligned_rna_short_read_U02 = combineDataTable('aligned_rna_short_read', upload_workspaces_U02)"
   ]
  },
  {
   "cell_type": "code",
   "execution_count": null,
   "metadata": {},
   "outputs": [],
   "source": [
    "# read in AnVIL tables from RC U03 upload workspaces\n",
    "upload_workspaces_U03 = gregorUploadWorkspaces('U03')\n",
    "\n",
    "participant_U03 = combineDataTable('participant', upload_workspaces_U03)\n",
    "family_U03 = combineDataTable('family', upload_workspaces_U03)\n",
    "phenotype_U03 = combineDataTable('phenotype', upload_workspaces_U03)\n",
    "analyte_U03 = combineDataTable('analyte', upload_workspaces_U03)\n",
    "experiment_dna_short_read_U03 = combineDataTable('experiment_dna_short_read', upload_workspaces_U03)\n",
    "experiment_rna_short_read_U03= combineDataTable('experiment_rna_short_read', upload_workspaces_U03)\n",
    "aligned_dna_short_read_U03 = combineDataTable('aligned_dna_short_read', upload_workspaces_U03)\n",
    "aligned_rna_short_read_U03 = combineDataTable('aligned_rna_short_read', upload_workspaces_U03)"
   ]
  },
  {
   "cell_type": "markdown",
   "metadata": {},
   "source": [
    "### Compare participant tables"
   ]
  },
  {
   "cell_type": "markdown",
   "metadata": {},
   "source": [
    "__How many row entries per table?__"
   ]
  },
  {
   "cell_type": "code",
   "execution_count": null,
   "metadata": {},
   "outputs": [],
   "source": [
    "print('participant_table_U02: ' + str(participant_U02.shape[0]))\n",
    "print('participant_table_U03: ' + str(participant_U03.shape[0]))"
   ]
  },
  {
   "cell_type": "code",
   "execution_count": null,
   "metadata": {},
   "outputs": [],
   "source": [
    "# outer merge of participant tables\n",
    "participants_merged = participant_U02.merge(participant_U03, left_index= True, right_index= True, how = 'outer', indicator = True)"
   ]
  },
  {
   "cell_type": "markdown",
   "metadata": {},
   "source": [
    "__Are there row entries dropped from previous upload cycle ?__ <br>"
   ]
  },
  {
   "cell_type": "code",
   "execution_count": null,
   "metadata": {},
   "outputs": [],
   "source": [
    "merge_counts = pd.DataFrame(participants_merged['_merge'].value_counts())\n",
    "merge_counts"
   ]
  },
  {
   "cell_type": "markdown",
   "metadata": {},
   "source": [
    "_right_only = U03_only <br>\n",
    "left_only = U02_only_ "
   ]
  },
  {
   "cell_type": "markdown",
   "metadata": {},
   "source": [
    "__How many differences per columns in the data table?__"
   ]
  },
  {
   "cell_type": "code",
   "execution_count": null,
   "metadata": {},
   "outputs": [],
   "source": [
    "participant_U03.head()\n",
    "participant_comp = compareDataFrames(participant_U02, participant_U03, 'U02', 'U03')\n",
    "diff_counts = diffSummary(participant_comp)\n",
    "diff_nonzero_counts = diff_counts[diff_counts['count'] > 0.0 ]\n",
    "diff_nonzero_counts"
   ]
  },
  {
   "cell_type": "markdown",
   "metadata": {},
   "source": [
    "__Write out differences to a csv file__"
   ]
  },
  {
   "cell_type": "code",
   "execution_count": null,
   "metadata": {},
   "outputs": [],
   "source": [
    "participant_diff = compareDiffOnly(participant_U02, participant_U03, 'U02', 'U03')\n",
    "participant_diff.to_csv('participant_data_table_comparison.csv', sep = \",\", index = False)"
   ]
  },
  {
   "cell_type": "markdown",
   "metadata": {},
   "source": [
    "### Family table comparison"
   ]
  },
  {
   "cell_type": "markdown",
   "metadata": {},
   "source": [
    "__How many row entries per table?__"
   ]
  },
  {
   "cell_type": "code",
   "execution_count": null,
   "metadata": {},
   "outputs": [],
   "source": [
    "print('family_table_U02: ' + str(family_U02.shape[0]))\n",
    "print('family_table_U03: ' + str(family_U03.shape[0]))"
   ]
  },
  {
   "cell_type": "markdown",
   "metadata": {},
   "source": [
    "__Are there any rows dropped from the previous upload cycle?__ "
   ]
  },
  {
   "cell_type": "code",
   "execution_count": null,
   "metadata": {},
   "outputs": [],
   "source": [
    "# outer merge of the family tables\n",
    "family_merged = family_U02.merge(family_U03, left_index= True, right_index= True, how = 'outer', indicator = True)"
   ]
  },
  {
   "cell_type": "code",
   "execution_count": null,
   "metadata": {},
   "outputs": [],
   "source": [
    "merged_counts = pd.DataFrame(family_merged['_merge'].value_counts())\n",
    "merged_counts"
   ]
  },
  {
   "cell_type": "markdown",
   "metadata": {},
   "source": [
    "__How many differences per columns in the data table?__"
   ]
  },
  {
   "cell_type": "code",
   "execution_count": null,
   "metadata": {},
   "outputs": [],
   "source": [
    "family_comp = compareDataFrames(family_U02, family_U03, 'U02', 'U03')\n",
    "diff_counts = diffSummary(family_comp)\n",
    "diff_nonzero_counts = diff_counts[diff_counts['count'] > 0.0 ]  \n",
    "diff_nonzero_counts"
   ]
  },
  {
   "cell_type": "markdown",
   "metadata": {},
   "source": [
    "__Write out differences to csv__"
   ]
  },
  {
   "cell_type": "code",
   "execution_count": null,
   "metadata": {},
   "outputs": [],
   "source": [
    "family_diff = compareDiffOnly(family_U02, family_U03, 'U02', 'U03')\n",
    "family_diff.to_csv('family_data_table_comparison.csv', sep = \",\", index = False)"
   ]
  },
  {
   "cell_type": "code",
   "execution_count": null,
   "metadata": {},
   "outputs": [],
   "source": [
    "#family_diff['pedigree_file'].value_counts()"
   ]
  },
  {
   "cell_type": "markdown",
   "metadata": {},
   "source": [
    "### Phenotype table comparison"
   ]
  },
  {
   "cell_type": "markdown",
   "metadata": {},
   "source": [
    "__How many row entries per table?__"
   ]
  },
  {
   "cell_type": "code",
   "execution_count": null,
   "metadata": {},
   "outputs": [],
   "source": [
    "print('phenotype_table_U02: ' +  str(phenotype_U02.shape[0]))\n",
    "print('phenotype_table_U02: ' +  str(phenotype_U03.shape[0]))"
   ]
  },
  {
   "cell_type": "markdown",
   "metadata": {},
   "source": [
    "__Are there any row entries dropped from the previous cycle?__"
   ]
  },
  {
   "cell_type": "code",
   "execution_count": null,
   "metadata": {},
   "outputs": [],
   "source": [
    "# are there any phenotypes dropped from previous upload cycle ? \n",
    "phenotype_merged = phenotype_U02.merge(phenotype_U03, left_index= True, right_index= True, how = 'outer', indicator = True)\n",
    "phenotype_merged['_merge'].value_counts()"
   ]
  },
  {
   "cell_type": "markdown",
   "metadata": {},
   "source": [
    "__How many differences per columns in the data table?__"
   ]
  },
  {
   "cell_type": "code",
   "execution_count": null,
   "metadata": {},
   "outputs": [],
   "source": [
    "phenotype_comp = compareDataFrames(phenotype_U02, phenotype_U03, 'U02', 'U03')\n",
    "diff_counts = diffSummary(phenotype_comp)\n",
    "diff_nonzero_counts = diff_counts[diff_counts['count'] > 0.0 ]  \n",
    "diff_nonzero_counts"
   ]
  },
  {
   "cell_type": "markdown",
   "metadata": {},
   "source": [
    "__Write out differences to csv__"
   ]
  },
  {
   "cell_type": "code",
   "execution_count": null,
   "metadata": {},
   "outputs": [],
   "source": [
    "phenotype_diff = compareDiffOnly(phenotype_U02, phenotype_U03, 'U02', 'U03')\n",
    "phenotype_diff.to_csv('phenotype_data_table_comparison.csv', sep = \",\", index = False)"
   ]
  },
  {
   "cell_type": "markdown",
   "metadata": {},
   "source": [
    "### Analyte table comparison"
   ]
  },
  {
   "cell_type": "markdown",
   "metadata": {},
   "source": [
    "__How many row entries per table?__"
   ]
  },
  {
   "cell_type": "code",
   "execution_count": null,
   "metadata": {},
   "outputs": [],
   "source": [
    "print('analyte_table_U02: ' + str(analyte_U02.shape[0]))\n",
    "print('analyte_table_U03: ' + str(analyte_U03.shape[0]))"
   ]
  },
  {
   "cell_type": "markdown",
   "metadata": {},
   "source": [
    "__Are there any analytes dropped from previous upload cycle?__"
   ]
  },
  {
   "cell_type": "code",
   "execution_count": null,
   "metadata": {},
   "outputs": [],
   "source": [
    "analyte_merged = analyte_U02.merge(analyte_U03, left_index= True, right_index= True, how = 'outer', indicator = True)\n",
    "analyte_merged['_merge'].value_counts()"
   ]
  },
  {
   "cell_type": "markdown",
   "metadata": {},
   "source": [
    "__How many differences per columns in the data table?__"
   ]
  },
  {
   "cell_type": "code",
   "execution_count": null,
   "metadata": {},
   "outputs": [],
   "source": [
    "analyte_U03.drop(labels=['quality_issues'], inplace = True, axis = 1)"
   ]
  },
  {
   "cell_type": "code",
   "execution_count": null,
   "metadata": {},
   "outputs": [],
   "source": [
    "analyte_comp = compareDataFrames(analyte_U02, analyte_U03, 'U02', 'U03')\n",
    "diff_counts = diffSummary(analyte_comp)\n",
    "diff_nonzero_counts = diff_counts[diff_counts['count'] > 0.0 ]  \n",
    "diff_nonzero_counts"
   ]
  },
  {
   "cell_type": "markdown",
   "metadata": {},
   "source": [
    "__Write out differences to a csv__"
   ]
  },
  {
   "cell_type": "code",
   "execution_count": null,
   "metadata": {},
   "outputs": [],
   "source": [
    "# write out differences only\n",
    "analyte_diff = compareDiffOnly(analyte_U02, analyte_U03, 'U02', 'U03')\n",
    "analyte_diff.to_csv('analyte_data_table_comparison.csv', sep = \",\", index = False)"
   ]
  },
  {
   "cell_type": "code",
   "execution_count": null,
   "metadata": {},
   "outputs": [],
   "source": [
    "pd.DataFrame(analyte_diff['primary_biosample'].value_counts())"
   ]
  },
  {
   "cell_type": "markdown",
   "metadata": {},
   "source": [
    "### Experiment_dna_short_read comparison"
   ]
  },
  {
   "cell_type": "markdown",
   "metadata": {},
   "source": [
    "__How many row entries per table?__"
   ]
  },
  {
   "cell_type": "code",
   "execution_count": null,
   "metadata": {},
   "outputs": [],
   "source": [
    "print('experiment_dna_table_U02: ' + str(experiment_dna_short_read_U02.shape[0]))\n",
    "print('experiment_dna_table_U03: ' + str(experiment_dna_short_read_U03.shape[0]))"
   ]
  },
  {
   "cell_type": "markdown",
   "metadata": {},
   "source": [
    "__Are there any row entries dropped in the previous cycle?__"
   ]
  },
  {
   "cell_type": "code",
   "execution_count": null,
   "metadata": {},
   "outputs": [],
   "source": [
    "# are there any experiment_dna_short_reads dropped from previous upload cycle ? \n",
    "experiment_dna_short_read_merged = experiment_dna_short_read_U02.merge(experiment_dna_short_read_U03, left_index= True, right_index= True, how = 'outer', indicator = True)\n",
    "experiment_dna_short_read_merged['_merge'].value_counts()"
   ]
  },
  {
   "cell_type": "code",
   "execution_count": null,
   "metadata": {},
   "outputs": [],
   "source": [
    "experiment_dna_short_read_U02_only = experiment_dna_short_read_merged[experiment_dna_short_read_merged['_merge'] == 'left_only']"
   ]
  },
  {
   "cell_type": "code",
   "execution_count": null,
   "metadata": {},
   "outputs": [],
   "source": [
    "experiment_dna_short_read_U02_only"
   ]
  },
  {
   "cell_type": "code",
   "execution_count": null,
   "metadata": {},
   "outputs": [],
   "source": [
    "experiment_dna_comp = compareDataFrames(experiment_dna_short_read_U02, experiment_dna_short_read_U03, 'U02', 'U03')\n",
    "diff_counts = diffSummary(experiment_dna_comp)\n",
    "diff_nonzero_counts = diff_counts[diff_counts['count'] > 0.0 ]  \n",
    "diff_nonzero_counts"
   ]
  },
  {
   "cell_type": "markdown",
   "metadata": {},
   "source": [
    "__Write out differences only__"
   ]
  },
  {
   "cell_type": "code",
   "execution_count": null,
   "metadata": {},
   "outputs": [],
   "source": [
    "experiment_DNA_diff = compareDiffOnly(experiment_dna_short_read_U02, experiment_dna_short_read_U03, 'U02', 'U03')\n",
    "experiment_DNA_diff.to_csv('experiment_DNA_data_table_comparison.csv', sep = \",\", index = False)"
   ]
  },
  {
   "cell_type": "code",
   "execution_count": null,
   "metadata": {},
   "outputs": [],
   "source": [
    "pd.DataFrame(experiment_DNA_diff['analyte_id'].value_counts())"
   ]
  },
  {
   "cell_type": "markdown",
   "metadata": {},
   "source": [
    "### Aligned_dna_short_read comparison"
   ]
  },
  {
   "cell_type": "markdown",
   "metadata": {},
   "source": [
    "__How many row entries per table?__"
   ]
  },
  {
   "cell_type": "code",
   "execution_count": null,
   "metadata": {},
   "outputs": [],
   "source": [
    "print('aligned_dna_table_U02: ' + str(aligned_dna_short_read_U02.shape[0]))\n",
    "print('aligned_dna_table_U03: ' + str(aligned_dna_short_read_U03.shape[0]))"
   ]
  },
  {
   "cell_type": "code",
   "execution_count": null,
   "metadata": {},
   "outputs": [],
   "source": [
    "aligned_dna_short_read_U02.sort_index(axis=1, inplace = True)"
   ]
  },
  {
   "cell_type": "code",
   "execution_count": null,
   "metadata": {},
   "outputs": [],
   "source": [
    "aligned_dna_short_read_U03.columns\n",
    "aligned_dna_short_read_U03.drop(labels = ['quality_issues', 'reference_assembly_details', 'reference_assembly_uri'], axis = 1, inplace = True)\n",
    "aligned_dna_short_read_U03.sort_index(axis = 1, inplace = True)"
   ]
  },
  {
   "cell_type": "markdown",
   "metadata": {},
   "source": [
    "__Are there any aligned_dna_short_reads dropped from previous upload cycle ?__ "
   ]
  },
  {
   "cell_type": "code",
   "execution_count": null,
   "metadata": {},
   "outputs": [],
   "source": [
    "aligned_dna_short_read_merged = aligned_dna_short_read_U02.merge(aligned_dna_short_read_U03, left_index= True, right_index= True, how = 'outer', indicator = True)\n",
    "aligned_dna_short_read_merged['_merge'].value_counts()"
   ]
  },
  {
   "cell_type": "code",
   "execution_count": null,
   "metadata": {},
   "outputs": [],
   "source": [
    "aligned_dna_short_read_merged[aligned_dna_short_read_merged['_merge'] == 'left_only']"
   ]
  },
  {
   "cell_type": "code",
   "execution_count": null,
   "metadata": {},
   "outputs": [],
   "source": [
    "aligned_dna_comp = compareDataFrames(aligned_dna_short_read_U02, aligned_dna_short_read_U03, 'U02', 'U03')\n",
    "aligned_dna_comp.to_csv(\"aligned_dna_short_read_U02_U03_compare.csv\")\n",
    "diff_counts = diffSummary(aligned_dna_comp)\n",
    "diff_counts_nonzero = diff_counts[diff_counts['count'] > 0]\n",
    "diff_counts_nonzero"
   ]
  },
  {
   "cell_type": "markdown",
   "metadata": {},
   "source": [
    "__Write out differences only__"
   ]
  },
  {
   "cell_type": "code",
   "execution_count": null,
   "metadata": {},
   "outputs": [],
   "source": [
    "# write out differences only\n",
    "aligned_DNA_diff = compareDiffOnly(aligned_dna_short_read_U02, aligned_dna_short_read_U03, 'U02', 'U03')\n",
    "aligned_DNA_diff.to_csv('aligned_DNA_data_table_comparison.csv', sep = \",\", index = False)"
   ]
  },
  {
   "cell_type": "code",
   "execution_count": null,
   "metadata": {},
   "outputs": [],
   "source": []
  },
  {
   "cell_type": "markdown",
   "metadata": {},
   "source": [
    "__Are there any duplicate file paths in the latest upload cycle?__"
   ]
  },
  {
   "cell_type": "code",
   "execution_count": null,
   "metadata": {},
   "outputs": [],
   "source": [
    "pd.DataFrame(aligned_DNA_diff['aligned_dna_short_read_file'].value_counts())"
   ]
  },
  {
   "cell_type": "markdown",
   "metadata": {},
   "source": [
    "__GSS follow-up__"
   ]
  },
  {
   "cell_type": "markdown",
   "metadata": {},
   "source": [
    "__Get GSS duplicates__"
   ]
  },
  {
   "cell_type": "code",
   "execution_count": null,
   "metadata": {},
   "outputs": [],
   "source": [
    "# after merging the df, get the overlapping samples that start with GSS\n",
    "GSS_dups = aligned_dna_comp[aligned_dna_comp['aligned_dna_short_read_id'].str.startswith('AnVIL_GREGoR')]\n",
    "#if (GSS_dups['aligned_dna_short_read_id'].duplicated().any() == True) and (GSS_dups['aligned_dna_short_read_file'].duplicated().any() != True) : \n",
    "#    print(GSS_dups['aligned_dna_short_read_id'])\n",
    "GSS_dups"
   ]
  },
  {
   "cell_type": "code",
   "execution_count": null,
   "metadata": {},
   "outputs": [],
   "source": [
    "GSS_dups.to_csv('GSS_dups.csv')"
   ]
  },
  {
   "cell_type": "code",
   "execution_count": null,
   "metadata": {},
   "outputs": [],
   "source": [
    "aligned_dna_short_read_U03[aligned_dna_short_read_U03.index == 'GSS115014-01-010-SG-2']"
   ]
  },
  {
   "cell_type": "code",
   "execution_count": null,
   "metadata": {},
   "outputs": [],
   "source": [
    "pd.DataFrame(aligned_DNA_diff['md5sum'].value_counts())"
   ]
  },
  {
   "cell_type": "code",
   "execution_count": null,
   "metadata": {},
   "outputs": [],
   "source": [
    "aligned_dna_short_read_U02[aligned_dna_short_read_U02.index == 'GSS115014-01-010-SG-2']"
   ]
  },
  {
   "cell_type": "code",
   "execution_count": null,
   "metadata": {},
   "outputs": [],
   "source": [
    "BCM_U3 = readDatatable('aligned_dna_short_read', 'anvil-datastorage', 'AnVIL_GREGoR_BCM_U3_GRU')\n",
    "BCM_U03 = readDatatable('aligned_dna_short_read', 'anvil-datastorage', 'AnVIL_GREGoR_BCM_U03_GRU')"
   ]
  },
  {
   "cell_type": "code",
   "execution_count": null,
   "metadata": {},
   "outputs": [],
   "source": [
    "BCM_U3.head()"
   ]
  },
  {
   "cell_type": "code",
   "execution_count": null,
   "metadata": {},
   "outputs": [],
   "source": [
    "aligned_dna_short_read_U03[aligned_dna_short_read_U03['aligned_dna_short_read_file'].duplicated()]"
   ]
  },
  {
   "cell_type": "code",
   "execution_count": null,
   "metadata": {},
   "outputs": [],
   "source": [
    "aligned_dna_short_read_U03[aligned_dna_short_read_U03['aligned_dna_short_read_index_file'].duplicated()]"
   ]
  },
  {
   "cell_type": "code",
   "execution_count": null,
   "metadata": {},
   "outputs": [],
   "source": [
    "aligned_rna_short_read_U03[aligned_rna_short_read_U03['aligned_rna_short_read_file'].duplicated()]"
   ]
  },
  {
   "cell_type": "code",
   "execution_count": null,
   "metadata": {},
   "outputs": [],
   "source": [
    "aligned_rna_short_read_U03[aligned_rna_short_read_U03['aligned_rna_short_read_index_file'].duplicated()]"
   ]
  },
  {
   "cell_type": "markdown",
   "metadata": {},
   "source": [
    "__What are the differences in the aligned_dna_short_read_file columns__"
   ]
  },
  {
   "cell_type": "code",
   "execution_count": null,
   "metadata": {},
   "outputs": [],
   "source": [
    "aligned_dna_comp['aligned_dna_short_read_file'].value_counts()"
   ]
  },
  {
   "cell_type": "code",
   "execution_count": null,
   "metadata": {},
   "outputs": [],
   "source": [
    "!gsutil ls -lh 'gs://fc-secure-8ce36ffb-ad87-4942-abdc-2c0c6ce28483/BCM_2022-04-29T114240_ILWGS_GREGOR_BH10935-1_289890_1-FLOWCELL-HMNNKDSX3-HNF5NDSX3-HNGK2DSX3.hgv.cram'"
   ]
  },
  {
   "cell_type": "code",
   "execution_count": null,
   "metadata": {},
   "outputs": [],
   "source": [
    "!gsutil ls -lh 'gs://fc-secure-8ce36ffb-ad87-4942-abdc-2c0c6ce28483/BCM_2023-02-10T160013_ILWGS_BDCAPL_BH15575-1_285852_2-FLOWCELL-HLFMLDSX5-HLHGMDSX5.hgv.cram'"
   ]
  },
  {
   "cell_type": "code",
   "execution_count": null,
   "metadata": {},
   "outputs": [],
   "source": [
    "!gsutil ls -lh 'gs://fc-secure-8ce36ffb-ad87-4942-abdc-2c0c6ce28483/BCM_2023-01-24T080013_ILWGS_BDCAPL_BH15502-1_285811_2-FLOWCELL-HHNKFDSX5-HHNN3DSX5.hgv.cram'"
   ]
  },
  {
   "cell_type": "code",
   "execution_count": null,
   "metadata": {},
   "outputs": [],
   "source": [
    "deleted_crams.to_csv('bcm_deleted_aligned_sr_dna_rows.csv')"
   ]
  },
  {
   "cell_type": "code",
   "execution_count": null,
   "metadata": {},
   "outputs": [],
   "source": [
    "deleted_crams = BCM_merge[BCM_merge['_merge'] == 'left_only']"
   ]
  },
  {
   "cell_type": "code",
   "execution_count": null,
   "metadata": {},
   "outputs": [],
   "source": [
    "BCM_merge['_merge'].value_counts()"
   ]
  },
  {
   "cell_type": "code",
   "execution_count": null,
   "metadata": {},
   "outputs": [],
   "source": [
    "BCM_merge = BCM_U3.merge(BCM_U03, left_index = True, right_index = True, indicator = True, how = 'outer')"
   ]
  },
  {
   "cell_type": "code",
   "execution_count": null,
   "metadata": {},
   "outputs": [],
   "source": [
    "for i in BCM_U03['aligned_dna_short_read_file']: \n",
    "    print(i)\n",
    "    break"
   ]
  },
  {
   "cell_type": "code",
   "execution_count": null,
   "metadata": {},
   "outputs": [],
   "source": [
    "participant_U03.head()"
   ]
  },
  {
   "cell_type": "code",
   "execution_count": null,
   "metadata": {},
   "outputs": [],
   "source": [
    "family_U03.head()"
   ]
  },
  {
   "cell_type": "code",
   "execution_count": null,
   "metadata": {},
   "outputs": [],
   "source": [
    "participant_family_merge = participant_U03.merge(family_U03, on = 'family_id', how = 'outer', indicator = True)"
   ]
  },
  {
   "cell_type": "code",
   "execution_count": null,
   "metadata": {},
   "outputs": [],
   "source": [
    "participant_family_merge['_merge'].value_counts()"
   ]
  },
  {
   "cell_type": "code",
   "execution_count": null,
   "metadata": {},
   "outputs": [],
   "source": [
    "participant_family_merge[participant_family_merge['_merge'] == 'right_only']"
   ]
  },
  {
   "cell_type": "code",
   "execution_count": null,
   "metadata": {},
   "outputs": [],
   "source": [
    "family_U03.index[family_U03.index.str.contains('BCM_Fam_BH14631')]"
   ]
  },
  {
   "cell_type": "code",
   "execution_count": null,
   "metadata": {},
   "outputs": [],
   "source": [
    "family_U02.index[family_U02.index.str.contains('BCM_Fam_BH14631')]"
   ]
  },
  {
   "cell_type": "code",
   "execution_count": null,
   "metadata": {},
   "outputs": [],
   "source": [
    "participant_U02.index[participant_U02['family_id'].str.contains('BCM_Fam_BH14631')]"
   ]
  },
  {
   "cell_type": "code",
   "execution_count": null,
   "metadata": {},
   "outputs": [],
   "source": [
    "participant_U03.index[participant_U03['family_id'].str.contains('BCM_Fam_BH14631')]"
   ]
  },
  {
   "cell_type": "code",
   "execution_count": null,
   "metadata": {},
   "outputs": [],
   "source": []
  }
 ],
 "metadata": {
  "kernelspec": {
   "display_name": "Python 3",
   "language": "python",
   "name": "python3"
  },
  "language_info": {
   "codemirror_mode": {
    "name": "ipython",
    "version": 3
   },
   "file_extension": ".py",
   "mimetype": "text/x-python",
   "name": "python",
   "nbconvert_exporter": "python",
   "pygments_lexer": "ipython3",
   "version": "3.7.12"
  },
  "toc": {
   "base_numbering": 1,
   "nav_menu": {},
   "number_sections": true,
   "sideBar": true,
   "skip_h1_title": false,
   "title_cell": "Table of Contents",
   "title_sidebar": "Contents",
   "toc_cell": false,
   "toc_position": {},
   "toc_section_display": true,
   "toc_window_display": false
  }
 },
 "nbformat": 4,
 "nbformat_minor": 2
}
